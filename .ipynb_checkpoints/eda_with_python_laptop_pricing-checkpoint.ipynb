{
 "cells": [
  {
   "cell_type": "markdown",
   "id": "900c5a6a-88b1-4990-b95f-a68ff371554e",
   "metadata": {
    "jp-MarkdownHeadingCollapsed": true
   },
   "source": [
    "# Data Acquisition"
   ]
  },
  {
   "cell_type": "code",
   "execution_count": 341,
   "id": "349ab080-32e1-42f9-86f7-8d5a58276e1c",
   "metadata": {},
   "outputs": [],
   "source": [
    "import pandas as pd\n",
    "import numpy as np\n",
    "import matplotlib.pyplot as plt\n",
    "import requests\n",
    "import os\n",
    "pd.set_option('display.max_columns',None)\n",
    "pd.set_option('display.max_columns',50)\n",
    "\n",
    "\n",
    "def download(url, filename):\n",
    "    response = requests.get(url)\n",
    "    if response.status_code == 200:\n",
    "        with open(filename, 'wb') as f:\n",
    "            f.write(response.content)"
   ]
  },
  {
   "cell_type": "code",
   "execution_count": 90,
   "id": "47f8e306-1c0f-42cb-a613-a9cacec7f8f5",
   "metadata": {},
   "outputs": [],
   "source": [
    "url = \"https://cf-courses-data.s3.us.cloud-object-storage.appdomain.cloud/IBMDeveloperSkillsNetwork-DA0101EN-Coursera/laptop_pricing_dataset_base.csv\"\n",
    "filename = \"laptops.csv\"\n",
    "download(url, filename)"
   ]
  },
  {
   "cell_type": "markdown",
   "id": "0a66466a-4b69-45ef-82d1-ed567c4f8a67",
   "metadata": {},
   "source": [
    "## Read File"
   ]
  },
  {
   "cell_type": "code",
   "execution_count": 93,
   "id": "e64326a0-894b-4c9b-a13d-6fc4bb75f1e5",
   "metadata": {},
   "outputs": [
    {
     "name": "stdout",
     "output_type": "stream",
     "text": [
      "     0   1          2   3   4   5       6    7   8    9     10    11\n",
      "0  Acer   4  IPS Panel   2   1   5   35.56  1.6   8  256   1.6   978\n",
      "1  Dell   3    Full HD   1   1   3  39.624  2.0   4  256   2.2   634\n",
      "2  Dell   3    Full HD   1   1   7  39.624  2.7   8  256   2.2   946\n",
      "3  Dell   4  IPS Panel   2   1   5  33.782  1.6   8  128  1.22  1244\n",
      "4    HP   4    Full HD   2   1   7  39.624  1.8   8  256  1.91   837\n"
     ]
    }
   ],
   "source": [
    "df = pd.read_csv(filename, header=None)\n",
    "print(df.head())"
   ]
  },
  {
   "cell_type": "code",
   "execution_count": 231,
   "id": "eef79bd5-9c8c-478c-b4d8-edb5cae8e7d3",
   "metadata": {},
   "outputs": [],
   "source": [
    "headers = [\"Manufacturer\", \"Category\", \"Screen\", \"GPU\", \"OS\", \"CPU_core\", \"Screen_Size_CM\", \"CPU_frequency\", \"RAM_GB\", \"Storage_GB_SSD\", \"Weight_kg\",\"Price\"]"
   ]
  },
  {
   "cell_type": "code",
   "execution_count": 233,
   "id": "4cb4f920-1139-4aee-9305-a62daca915d1",
   "metadata": {},
   "outputs": [],
   "source": [
    "df.columns = headers"
   ]
  },
  {
   "cell_type": "markdown",
   "id": "81c58767-b8e5-4608-ab3c-b2d3e429c37e",
   "metadata": {
    "jp-MarkdownHeadingCollapsed": true
   },
   "source": [
    "# Data Preprocessing before EDA"
   ]
  },
  {
   "cell_type": "markdown",
   "id": "a53cb188-759b-4ad0-a79f-6830150ea2c7",
   "metadata": {
    "jp-MarkdownHeadingCollapsed": true
   },
   "source": [
    "## Data Overview"
   ]
  },
  {
   "cell_type": "code",
   "execution_count": 236,
   "id": "c40f6978-a4a2-4b3d-be5b-dec4c33511d9",
   "metadata": {},
   "outputs": [
    {
     "data": {
      "text/html": [
       "<div>\n",
       "<style scoped>\n",
       "    .dataframe tbody tr th:only-of-type {\n",
       "        vertical-align: middle;\n",
       "    }\n",
       "\n",
       "    .dataframe tbody tr th {\n",
       "        vertical-align: top;\n",
       "    }\n",
       "\n",
       "    .dataframe thead th {\n",
       "        text-align: right;\n",
       "    }\n",
       "</style>\n",
       "<table border=\"1\" class=\"dataframe\">\n",
       "  <thead>\n",
       "    <tr style=\"text-align: right;\">\n",
       "      <th></th>\n",
       "      <th>Manufacturer</th>\n",
       "      <th>Category</th>\n",
       "      <th>Screen</th>\n",
       "      <th>GPU</th>\n",
       "      <th>OS</th>\n",
       "      <th>CPU_core</th>\n",
       "      <th>Screen_Size_CM</th>\n",
       "      <th>CPU_frequency</th>\n",
       "      <th>RAM_GB</th>\n",
       "      <th>Storage_GB_SSD</th>\n",
       "      <th>Weight_kg</th>\n",
       "      <th>Price</th>\n",
       "    </tr>\n",
       "  </thead>\n",
       "  <tbody>\n",
       "    <tr>\n",
       "      <th>0</th>\n",
       "      <td>Acer</td>\n",
       "      <td>4</td>\n",
       "      <td>IPS Panel</td>\n",
       "      <td>2</td>\n",
       "      <td>1</td>\n",
       "      <td>5</td>\n",
       "      <td>35.560</td>\n",
       "      <td>1.6</td>\n",
       "      <td>8</td>\n",
       "      <td>256</td>\n",
       "      <td>1.60</td>\n",
       "      <td>978</td>\n",
       "    </tr>\n",
       "    <tr>\n",
       "      <th>1</th>\n",
       "      <td>Dell</td>\n",
       "      <td>3</td>\n",
       "      <td>Full HD</td>\n",
       "      <td>1</td>\n",
       "      <td>1</td>\n",
       "      <td>3</td>\n",
       "      <td>39.624</td>\n",
       "      <td>2.0</td>\n",
       "      <td>4</td>\n",
       "      <td>256</td>\n",
       "      <td>2.20</td>\n",
       "      <td>634</td>\n",
       "    </tr>\n",
       "    <tr>\n",
       "      <th>2</th>\n",
       "      <td>Dell</td>\n",
       "      <td>3</td>\n",
       "      <td>Full HD</td>\n",
       "      <td>1</td>\n",
       "      <td>1</td>\n",
       "      <td>7</td>\n",
       "      <td>39.624</td>\n",
       "      <td>2.7</td>\n",
       "      <td>8</td>\n",
       "      <td>256</td>\n",
       "      <td>2.20</td>\n",
       "      <td>946</td>\n",
       "    </tr>\n",
       "    <tr>\n",
       "      <th>3</th>\n",
       "      <td>Dell</td>\n",
       "      <td>4</td>\n",
       "      <td>IPS Panel</td>\n",
       "      <td>2</td>\n",
       "      <td>1</td>\n",
       "      <td>5</td>\n",
       "      <td>33.782</td>\n",
       "      <td>1.6</td>\n",
       "      <td>8</td>\n",
       "      <td>128</td>\n",
       "      <td>1.22</td>\n",
       "      <td>1244</td>\n",
       "    </tr>\n",
       "    <tr>\n",
       "      <th>4</th>\n",
       "      <td>HP</td>\n",
       "      <td>4</td>\n",
       "      <td>Full HD</td>\n",
       "      <td>2</td>\n",
       "      <td>1</td>\n",
       "      <td>7</td>\n",
       "      <td>39.624</td>\n",
       "      <td>1.8</td>\n",
       "      <td>8</td>\n",
       "      <td>256</td>\n",
       "      <td>1.91</td>\n",
       "      <td>837</td>\n",
       "    </tr>\n",
       "    <tr>\n",
       "      <th>5</th>\n",
       "      <td>Dell</td>\n",
       "      <td>3</td>\n",
       "      <td>Full HD</td>\n",
       "      <td>1</td>\n",
       "      <td>1</td>\n",
       "      <td>5</td>\n",
       "      <td>39.624</td>\n",
       "      <td>1.6</td>\n",
       "      <td>8</td>\n",
       "      <td>256</td>\n",
       "      <td>2.20</td>\n",
       "      <td>1016</td>\n",
       "    </tr>\n",
       "    <tr>\n",
       "      <th>6</th>\n",
       "      <td>HP</td>\n",
       "      <td>3</td>\n",
       "      <td>Full HD</td>\n",
       "      <td>3</td>\n",
       "      <td>1</td>\n",
       "      <td>5</td>\n",
       "      <td>39.624</td>\n",
       "      <td>1.6</td>\n",
       "      <td>8</td>\n",
       "      <td>256</td>\n",
       "      <td>2.10</td>\n",
       "      <td>1117</td>\n",
       "    </tr>\n",
       "    <tr>\n",
       "      <th>7</th>\n",
       "      <td>Acer</td>\n",
       "      <td>3</td>\n",
       "      <td>IPS Panel</td>\n",
       "      <td>2</td>\n",
       "      <td>1</td>\n",
       "      <td>5</td>\n",
       "      <td>38.100</td>\n",
       "      <td>1.6</td>\n",
       "      <td>4</td>\n",
       "      <td>256</td>\n",
       "      <td>2.20</td>\n",
       "      <td>866</td>\n",
       "    </tr>\n",
       "    <tr>\n",
       "      <th>8</th>\n",
       "      <td>Dell</td>\n",
       "      <td>3</td>\n",
       "      <td>Full HD</td>\n",
       "      <td>1</td>\n",
       "      <td>1</td>\n",
       "      <td>5</td>\n",
       "      <td>39.624</td>\n",
       "      <td>2.5</td>\n",
       "      <td>4</td>\n",
       "      <td>256</td>\n",
       "      <td>2.30</td>\n",
       "      <td>812</td>\n",
       "    </tr>\n",
       "    <tr>\n",
       "      <th>9</th>\n",
       "      <td>Acer</td>\n",
       "      <td>3</td>\n",
       "      <td>IPS Panel</td>\n",
       "      <td>3</td>\n",
       "      <td>1</td>\n",
       "      <td>7</td>\n",
       "      <td>38.100</td>\n",
       "      <td>1.8</td>\n",
       "      <td>8</td>\n",
       "      <td>256</td>\n",
       "      <td>2.20</td>\n",
       "      <td>1068</td>\n",
       "    </tr>\n",
       "    <tr>\n",
       "      <th>10</th>\n",
       "      <td>Dell</td>\n",
       "      <td>3</td>\n",
       "      <td>Full HD</td>\n",
       "      <td>1</td>\n",
       "      <td>1</td>\n",
       "      <td>7</td>\n",
       "      <td>39.624</td>\n",
       "      <td>1.8</td>\n",
       "      <td>8</td>\n",
       "      <td>256</td>\n",
       "      <td>2.13</td>\n",
       "      <td>975</td>\n",
       "    </tr>\n",
       "    <tr>\n",
       "      <th>11</th>\n",
       "      <td>HP</td>\n",
       "      <td>3</td>\n",
       "      <td>Full HD</td>\n",
       "      <td>2</td>\n",
       "      <td>1</td>\n",
       "      <td>3</td>\n",
       "      <td>39.624</td>\n",
       "      <td>2.0</td>\n",
       "      <td>4</td>\n",
       "      <td>128</td>\n",
       "      <td>1.91</td>\n",
       "      <td>558</td>\n",
       "    </tr>\n",
       "    <tr>\n",
       "      <th>12</th>\n",
       "      <td>Asus</td>\n",
       "      <td>3</td>\n",
       "      <td>Full HD</td>\n",
       "      <td>2</td>\n",
       "      <td>2</td>\n",
       "      <td>3</td>\n",
       "      <td>39.624</td>\n",
       "      <td>2.0</td>\n",
       "      <td>4</td>\n",
       "      <td>256</td>\n",
       "      <td>2.00</td>\n",
       "      <td>527</td>\n",
       "    </tr>\n",
       "    <tr>\n",
       "      <th>13</th>\n",
       "      <td>Dell</td>\n",
       "      <td>4</td>\n",
       "      <td>Full HD</td>\n",
       "      <td>2</td>\n",
       "      <td>1</td>\n",
       "      <td>5</td>\n",
       "      <td>35.560</td>\n",
       "      <td>1.6</td>\n",
       "      <td>8</td>\n",
       "      <td>256</td>\n",
       "      <td>1.70</td>\n",
       "      <td>1117</td>\n",
       "    </tr>\n",
       "    <tr>\n",
       "      <th>14</th>\n",
       "      <td>Asus</td>\n",
       "      <td>3</td>\n",
       "      <td>Full HD</td>\n",
       "      <td>2</td>\n",
       "      <td>1</td>\n",
       "      <td>5</td>\n",
       "      <td>35.560</td>\n",
       "      <td>1.6</td>\n",
       "      <td>8</td>\n",
       "      <td>256</td>\n",
       "      <td>1.40</td>\n",
       "      <td>1195</td>\n",
       "    </tr>\n",
       "    <tr>\n",
       "      <th>15</th>\n",
       "      <td>HP</td>\n",
       "      <td>3</td>\n",
       "      <td>Full HD</td>\n",
       "      <td>2</td>\n",
       "      <td>1</td>\n",
       "      <td>5</td>\n",
       "      <td>39.624</td>\n",
       "      <td>2.5</td>\n",
       "      <td>8</td>\n",
       "      <td>256</td>\n",
       "      <td>1.86</td>\n",
       "      <td>876</td>\n",
       "    </tr>\n",
       "    <tr>\n",
       "      <th>16</th>\n",
       "      <td>Dell</td>\n",
       "      <td>4</td>\n",
       "      <td>IPS Panel</td>\n",
       "      <td>1</td>\n",
       "      <td>1</td>\n",
       "      <td>7</td>\n",
       "      <td>33.020</td>\n",
       "      <td>1.8</td>\n",
       "      <td>8</td>\n",
       "      <td>256</td>\n",
       "      <td>1.40</td>\n",
       "      <td>1213</td>\n",
       "    </tr>\n",
       "    <tr>\n",
       "      <th>17</th>\n",
       "      <td>Dell</td>\n",
       "      <td>3</td>\n",
       "      <td>Full HD</td>\n",
       "      <td>1</td>\n",
       "      <td>1</td>\n",
       "      <td>7</td>\n",
       "      <td>39.624</td>\n",
       "      <td>1.8</td>\n",
       "      <td>8</td>\n",
       "      <td>256</td>\n",
       "      <td>2.20</td>\n",
       "      <td>1105</td>\n",
       "    </tr>\n",
       "    <tr>\n",
       "      <th>18</th>\n",
       "      <td>Dell</td>\n",
       "      <td>4</td>\n",
       "      <td>IPS Panel</td>\n",
       "      <td>2</td>\n",
       "      <td>1</td>\n",
       "      <td>5</td>\n",
       "      <td>38.100</td>\n",
       "      <td>1.6</td>\n",
       "      <td>8</td>\n",
       "      <td>256</td>\n",
       "      <td>1.88</td>\n",
       "      <td>1392</td>\n",
       "    </tr>\n",
       "    <tr>\n",
       "      <th>19</th>\n",
       "      <td>HP</td>\n",
       "      <td>3</td>\n",
       "      <td>Full HD</td>\n",
       "      <td>2</td>\n",
       "      <td>1</td>\n",
       "      <td>5</td>\n",
       "      <td>35.560</td>\n",
       "      <td>1.6</td>\n",
       "      <td>8</td>\n",
       "      <td>256</td>\n",
       "      <td>1.63</td>\n",
       "      <td>1092</td>\n",
       "    </tr>\n",
       "  </tbody>\n",
       "</table>\n",
       "</div>"
      ],
      "text/plain": [
       "   Manufacturer  Category     Screen  GPU  OS  CPU_core  Screen_Size_CM  \\\n",
       "0          Acer         4  IPS Panel    2   1         5          35.560   \n",
       "1          Dell         3    Full HD    1   1         3          39.624   \n",
       "2          Dell         3    Full HD    1   1         7          39.624   \n",
       "3          Dell         4  IPS Panel    2   1         5          33.782   \n",
       "4            HP         4    Full HD    2   1         7          39.624   \n",
       "5          Dell         3    Full HD    1   1         5          39.624   \n",
       "6            HP         3    Full HD    3   1         5          39.624   \n",
       "7          Acer         3  IPS Panel    2   1         5          38.100   \n",
       "8          Dell         3    Full HD    1   1         5          39.624   \n",
       "9          Acer         3  IPS Panel    3   1         7          38.100   \n",
       "10         Dell         3    Full HD    1   1         7          39.624   \n",
       "11           HP         3    Full HD    2   1         3          39.624   \n",
       "12         Asus         3    Full HD    2   2         3          39.624   \n",
       "13         Dell         4    Full HD    2   1         5          35.560   \n",
       "14         Asus         3    Full HD    2   1         5          35.560   \n",
       "15           HP         3    Full HD    2   1         5          39.624   \n",
       "16         Dell         4  IPS Panel    1   1         7          33.020   \n",
       "17         Dell         3    Full HD    1   1         7          39.624   \n",
       "18         Dell         4  IPS Panel    2   1         5          38.100   \n",
       "19           HP         3    Full HD    2   1         5          35.560   \n",
       "\n",
       "    CPU_frequency  RAM_GB  Storage_GB_SSD  Weight_kg  Price  \n",
       "0             1.6       8             256       1.60    978  \n",
       "1             2.0       4             256       2.20    634  \n",
       "2             2.7       8             256       2.20    946  \n",
       "3             1.6       8             128       1.22   1244  \n",
       "4             1.8       8             256       1.91    837  \n",
       "5             1.6       8             256       2.20   1016  \n",
       "6             1.6       8             256       2.10   1117  \n",
       "7             1.6       4             256       2.20    866  \n",
       "8             2.5       4             256       2.30    812  \n",
       "9             1.8       8             256       2.20   1068  \n",
       "10            1.8       8             256       2.13    975  \n",
       "11            2.0       4             128       1.91    558  \n",
       "12            2.0       4             256       2.00    527  \n",
       "13            1.6       8             256       1.70   1117  \n",
       "14            1.6       8             256       1.40   1195  \n",
       "15            2.5       8             256       1.86    876  \n",
       "16            1.8       8             256       1.40   1213  \n",
       "17            1.8       8             256       2.20   1105  \n",
       "18            1.6       8             256       1.88   1392  \n",
       "19            1.6       8             256       1.63   1092  "
      ]
     },
     "execution_count": 236,
     "metadata": {},
     "output_type": "execute_result"
    }
   ],
   "source": [
    "df.head(20)"
   ]
  },
  {
   "cell_type": "code",
   "execution_count": 238,
   "id": "3e2f4e38-1b0f-46b2-b4ff-21a4f06f78b5",
   "metadata": {},
   "outputs": [
    {
     "name": "stdout",
     "output_type": "stream",
     "text": [
      "<class 'pandas.core.frame.DataFrame'>\n",
      "RangeIndex: 238 entries, 0 to 237\n",
      "Data columns (total 12 columns):\n",
      " #   Column          Non-Null Count  Dtype  \n",
      "---  ------          --------------  -----  \n",
      " 0   Manufacturer    238 non-null    object \n",
      " 1   Category        238 non-null    int64  \n",
      " 2   Screen          238 non-null    object \n",
      " 3   GPU             238 non-null    int64  \n",
      " 4   OS              238 non-null    int64  \n",
      " 5   CPU_core        238 non-null    int64  \n",
      " 6   Screen_Size_CM  238 non-null    float64\n",
      " 7   CPU_frequency   238 non-null    float64\n",
      " 8   RAM_GB          238 non-null    int64  \n",
      " 9   Storage_GB_SSD  238 non-null    int64  \n",
      " 10  Weight_kg       238 non-null    float64\n",
      " 11  Price           238 non-null    int64  \n",
      "dtypes: float64(3), int64(7), object(2)\n",
      "memory usage: 22.4+ KB\n"
     ]
    }
   ],
   "source": [
    "df.info()"
   ]
  },
  {
   "cell_type": "code",
   "execution_count": 240,
   "id": "37a3c082-fc68-438e-9dd9-c17b3821dda1",
   "metadata": {},
   "outputs": [
    {
     "data": {
      "text/plain": [
       "(238, 12)"
      ]
     },
     "execution_count": 240,
     "metadata": {},
     "output_type": "execute_result"
    }
   ],
   "source": [
    "df.shape"
   ]
  },
  {
   "cell_type": "code",
   "execution_count": 242,
   "id": "d943d2d3-8de1-46b1-98d3-73cee2d2511d",
   "metadata": {},
   "outputs": [
    {
     "data": {
      "text/plain": [
       "Index(['Manufacturer', 'Category', 'Screen', 'GPU', 'OS', 'CPU_core',\n",
       "       'Screen_Size_CM', 'CPU_frequency', 'RAM_GB', 'Storage_GB_SSD',\n",
       "       'Weight_kg', 'Price'],\n",
       "      dtype='object')"
      ]
     },
     "execution_count": 242,
     "metadata": {},
     "output_type": "execute_result"
    }
   ],
   "source": [
    "df.columns"
   ]
  },
  {
   "cell_type": "code",
   "execution_count": 244,
   "id": "275e9e73-d600-468a-998a-275fe2ce8e9e",
   "metadata": {},
   "outputs": [
    {
     "data": {
      "text/plain": [
       "Manufacturer       11\n",
       "Category            5\n",
       "Screen              2\n",
       "GPU                 3\n",
       "OS                  2\n",
       "CPU_core            3\n",
       "Screen_Size_CM     10\n",
       "CPU_frequency      11\n",
       "RAM_GB              5\n",
       "Storage_GB_SSD      2\n",
       "Weight_kg          78\n",
       "Price             193\n",
       "dtype: int64"
      ]
     },
     "execution_count": 244,
     "metadata": {},
     "output_type": "execute_result"
    }
   ],
   "source": [
    "df.nunique()"
   ]
  },
  {
   "cell_type": "code",
   "execution_count": 246,
   "id": "03c9197e-588d-4af8-bc85-32f30f26ab61",
   "metadata": {},
   "outputs": [
    {
     "data": {
      "text/plain": [
       "CPU_frequency\n",
       "2.5    71\n",
       "2.7    43\n",
       "1.6    30\n",
       "2.8    25\n",
       "1.8    23\n",
       "2.6    11\n",
       "2.3    11\n",
       "2.4    10\n",
       "2.0     9\n",
       "2.9     4\n",
       "1.2     1\n",
       "Name: count, dtype: int64"
      ]
     },
     "execution_count": 246,
     "metadata": {},
     "output_type": "execute_result"
    }
   ],
   "source": [
    "df[\"CPU_frequency\"].value_counts()"
   ]
  },
  {
   "cell_type": "code",
   "execution_count": 248,
   "id": "5e5521c8-daa1-4b32-ac6a-03d72329efdc",
   "metadata": {},
   "outputs": [
    {
     "data": {
      "text/plain": [
       "Manufacturer      0\n",
       "Category          0\n",
       "Screen            0\n",
       "GPU               0\n",
       "OS                0\n",
       "CPU_core          0\n",
       "Screen_Size_CM    0\n",
       "CPU_frequency     0\n",
       "RAM_GB            0\n",
       "Storage_GB_SSD    0\n",
       "Weight_kg         0\n",
       "Price             0\n",
       "dtype: int64"
      ]
     },
     "execution_count": 248,
     "metadata": {},
     "output_type": "execute_result"
    }
   ],
   "source": [
    "df.isnull().sum()"
   ]
  },
  {
   "cell_type": "code",
   "execution_count": 250,
   "id": "d6e6dea2-3e8d-4440-a743-4f35264215dc",
   "metadata": {},
   "outputs": [
    {
     "data": {
      "text/plain": [
       "Manufacturer      0\n",
       "Category          0\n",
       "Screen            0\n",
       "GPU               0\n",
       "OS                0\n",
       "CPU_core          0\n",
       "Screen_Size_CM    0\n",
       "CPU_frequency     0\n",
       "RAM_GB            0\n",
       "Storage_GB_SSD    0\n",
       "Weight_kg         0\n",
       "Price             0\n",
       "dtype: int64"
      ]
     },
     "execution_count": 250,
     "metadata": {},
     "output_type": "execute_result"
    }
   ],
   "source": [
    "df.isna().sum()"
   ]
  },
  {
   "cell_type": "code",
   "execution_count": 252,
   "id": "87c3755a-055f-4e8c-8a6a-f5ada7302b5f",
   "metadata": {},
   "outputs": [
    {
     "data": {
      "text/plain": [
       "Manufacturer       object\n",
       "Category            int64\n",
       "Screen             object\n",
       "GPU                 int64\n",
       "OS                  int64\n",
       "CPU_core            int64\n",
       "Screen_Size_CM    float64\n",
       "CPU_frequency     float64\n",
       "RAM_GB              int64\n",
       "Storage_GB_SSD      int64\n",
       "Weight_kg         float64\n",
       "Price               int64\n",
       "dtype: object"
      ]
     },
     "execution_count": 252,
     "metadata": {},
     "output_type": "execute_result"
    }
   ],
   "source": [
    "df.dtypes"
   ]
  },
  {
   "cell_type": "code",
   "execution_count": 254,
   "id": "b8b76555-30ee-4729-971a-59bb93b0521e",
   "metadata": {},
   "outputs": [
    {
     "name": "stdout",
     "output_type": "stream",
     "text": [
      "Unique values in Manufacturer: ['Acer' 'Dell' 'HP' 'Asus' 'Lenovo' 'Huawei' 'Toshiba' 'MSI' 'Razer'\n",
      " 'Samsung' 'Xiaomi']\n",
      "Unique values in Category: [4 3 1 5 2]\n",
      "Unique values in Screen: ['IPS Panel' 'Full HD']\n",
      "Unique values in GPU: [2 1 3]\n",
      "Unique values in OS: [1 2]\n",
      "Unique values in CPU_core: [5 3 7]\n",
      "Unique values in Screen_Size_CM: [35.56       39.624      33.782      38.1        33.02       43.942\n",
      " 43.18       31.75       30.48       37.26961538]\n",
      "Unique values in CPU_frequency: [1.6 2.  2.7 1.8 2.5 2.4 2.8 1.2 2.9 2.6 2.3]\n",
      "Unique values in RAM_GB: [ 8  4  6 16 12]\n",
      "Unique values in Storage_GB_SSD: [256 128]\n",
      "Unique values in Weight_kg: [1.6        2.2        1.22       1.91       2.1        2.3\n",
      " 2.13       2.         1.7        1.4        1.86       1.88\n",
      " 1.63       1.83       1.96       1.21       2.65       1.25\n",
      " 1.38       1.86223176 1.3        1.58       2.5        1.75\n",
      " 1.48       3.         1.05       1.12       1.2        2.56\n",
      " 3.6        1.41       2.05       1.95       3.42       1.1\n",
      " 1.26       1.84       2.6        1.36       2.33       1.5\n",
      " 2.7        1.9        1.43       2.31       1.64       2.17\n",
      " 1.65       2.67       1.42       1.78       1.49       1.44\n",
      " 1.29       2.04       1.32       2.02       1.93       1.87\n",
      " 3.4        2.06       2.18       1.8        1.56       2.63\n",
      " 0.81       2.59       1.18       1.31       2.62       3.14\n",
      " 2.37       2.4        1.23       1.28       1.17       1.47      ]\n",
      "Unique values in Price: [ 978  634  946 1244  837 1016 1117  866  812 1068  975  558  527 1195\n",
      "  876 1213 1105 1392 1092  888  761 2095 1518 1333  616  733  913 1421\n",
      " 1515 1880 2069 1420 1179 1123  727 1255 1418 1396 1374  786 1023  925\n",
      " 1371 1085 1714 1172 1777 1256 1327 1841 1184 1310 1460  860 1731 1057\n",
      "  977 1091 1142 1075 3810  892 1206 1118  934 1053  735 1208 1394 1241\n",
      " 2323  939 3665 1325 1269 1245 1641 1390 1334 1696 1198 1611 1453 1452\n",
      " 2006 1656 2208 1813 1200 2223  697 2712  989 1562 1192 1905 1544 1283\n",
      "  710  951 1815 1498 1306 2509 1709 2655 2340 3059 2124  922 1286 1157\n",
      " 1129 1626 1702 1749 1739 1013  935  896 1419  800 1054 1953 2125 1872\n",
      " 2240 1548  723 1861 2312 1167 3301 1541 2012 1842 1561 1598 1442 1650\n",
      " 1268 1236 1010 1513 1383 1089 1524 1904 1219 3073 1950  685 2414 1983\n",
      " 2361 2031 1501  808 1251 2623 1003 1523 1507 2096 2417 1000 1632 1146\n",
      " 1763 2349 2147 1188 1066 1607 2158 2285 1874 1531 1002 1294 1119 1648\n",
      " 1480 1404 2120 2082 1870 2255 1855 1891 2236  883 1499]\n"
     ]
    }
   ],
   "source": [
    "for column in df.columns:\n",
    "    print(f'Unique values in {column}: {df[column].unique()}')"
   ]
  },
  {
   "cell_type": "markdown",
   "id": "1eed2c38-ec14-48c0-bbb5-35995d43b1db",
   "metadata": {
    "jp-MarkdownHeadingCollapsed": true
   },
   "source": [
    "## Handling Missing Values"
   ]
  },
  {
   "cell_type": "markdown",
   "id": "754c3e9e-e67b-415a-8686-662afcf5a594",
   "metadata": {},
   "source": [
    "Here I found \"?\" to be unknown hence replacing it with np.NaN"
   ]
  },
  {
   "cell_type": "code",
   "execution_count": 259,
   "id": "e9620219-d6ea-4d61-a843-014893e26a6f",
   "metadata": {},
   "outputs": [],
   "source": [
    "df.replace(\"?\", np.NaN, inplace = True)"
   ]
  },
  {
   "cell_type": "markdown",
   "id": "a857e640-b48f-4457-b725-52c64d57c9ba",
   "metadata": {},
   "source": [
    "Checking for Non- Numeric Values in Numeric columns"
   ]
  },
  {
   "cell_type": "code",
   "execution_count": 262,
   "id": "1afed6bd-6ab6-4a1d-833d-da0a1527d7fa",
   "metadata": {},
   "outputs": [],
   "source": [
    "for column in df.select_dtypes(include=[np.number]).columns:\n",
    "        non_numeric = df[pd.to_numeric(df[column], errors='coerce').isna()]\n",
    "        if not non_numeric.empty:\n",
    "            print(f'Non-numeric values in {column}:\\n', non_numeric)"
   ]
  },
  {
   "cell_type": "markdown",
   "id": "b2f82ab9-ae3f-41ee-a735-1144fbb48f98",
   "metadata": {},
   "source": [
    "There are no non numeric values in any numeric columns"
   ]
  },
  {
   "cell_type": "code",
   "execution_count": 264,
   "id": "ab8a5517-d988-412b-baac-15de2096aa5a",
   "metadata": {
    "scrolled": true
   },
   "outputs": [
    {
     "data": {
      "text/html": [
       "<div>\n",
       "<style scoped>\n",
       "    .dataframe tbody tr th:only-of-type {\n",
       "        vertical-align: middle;\n",
       "    }\n",
       "\n",
       "    .dataframe tbody tr th {\n",
       "        vertical-align: top;\n",
       "    }\n",
       "\n",
       "    .dataframe thead th {\n",
       "        text-align: right;\n",
       "    }\n",
       "</style>\n",
       "<table border=\"1\" class=\"dataframe\">\n",
       "  <thead>\n",
       "    <tr style=\"text-align: right;\">\n",
       "      <th></th>\n",
       "      <th>Manufacturer</th>\n",
       "      <th>Category</th>\n",
       "      <th>Screen</th>\n",
       "      <th>GPU</th>\n",
       "      <th>OS</th>\n",
       "      <th>CPU_core</th>\n",
       "      <th>Screen_Size_CM</th>\n",
       "      <th>CPU_frequency</th>\n",
       "      <th>RAM_GB</th>\n",
       "      <th>Storage_GB_SSD</th>\n",
       "      <th>Weight_kg</th>\n",
       "      <th>Price</th>\n",
       "    </tr>\n",
       "  </thead>\n",
       "  <tbody>\n",
       "    <tr>\n",
       "      <th>count</th>\n",
       "      <td>238</td>\n",
       "      <td>238.000000</td>\n",
       "      <td>238</td>\n",
       "      <td>238.000000</td>\n",
       "      <td>238.000000</td>\n",
       "      <td>238.000000</td>\n",
       "      <td>238.000000</td>\n",
       "      <td>238.000000</td>\n",
       "      <td>238.000000</td>\n",
       "      <td>238.000000</td>\n",
       "      <td>238.000000</td>\n",
       "      <td>238.000000</td>\n",
       "    </tr>\n",
       "    <tr>\n",
       "      <th>unique</th>\n",
       "      <td>11</td>\n",
       "      <td>NaN</td>\n",
       "      <td>2</td>\n",
       "      <td>NaN</td>\n",
       "      <td>NaN</td>\n",
       "      <td>NaN</td>\n",
       "      <td>NaN</td>\n",
       "      <td>NaN</td>\n",
       "      <td>NaN</td>\n",
       "      <td>NaN</td>\n",
       "      <td>NaN</td>\n",
       "      <td>NaN</td>\n",
       "    </tr>\n",
       "    <tr>\n",
       "      <th>top</th>\n",
       "      <td>Dell</td>\n",
       "      <td>NaN</td>\n",
       "      <td>Full HD</td>\n",
       "      <td>NaN</td>\n",
       "      <td>NaN</td>\n",
       "      <td>NaN</td>\n",
       "      <td>NaN</td>\n",
       "      <td>NaN</td>\n",
       "      <td>NaN</td>\n",
       "      <td>NaN</td>\n",
       "      <td>NaN</td>\n",
       "      <td>NaN</td>\n",
       "    </tr>\n",
       "    <tr>\n",
       "      <th>freq</th>\n",
       "      <td>71</td>\n",
       "      <td>NaN</td>\n",
       "      <td>161</td>\n",
       "      <td>NaN</td>\n",
       "      <td>NaN</td>\n",
       "      <td>NaN</td>\n",
       "      <td>NaN</td>\n",
       "      <td>NaN</td>\n",
       "      <td>NaN</td>\n",
       "      <td>NaN</td>\n",
       "      <td>NaN</td>\n",
       "      <td>NaN</td>\n",
       "    </tr>\n",
       "    <tr>\n",
       "      <th>mean</th>\n",
       "      <td>NaN</td>\n",
       "      <td>3.205882</td>\n",
       "      <td>NaN</td>\n",
       "      <td>2.151261</td>\n",
       "      <td>1.058824</td>\n",
       "      <td>5.630252</td>\n",
       "      <td>37.269615</td>\n",
       "      <td>2.360084</td>\n",
       "      <td>7.882353</td>\n",
       "      <td>245.781513</td>\n",
       "      <td>1.862232</td>\n",
       "      <td>1462.344538</td>\n",
       "    </tr>\n",
       "    <tr>\n",
       "      <th>std</th>\n",
       "      <td>NaN</td>\n",
       "      <td>0.776533</td>\n",
       "      <td>NaN</td>\n",
       "      <td>0.638282</td>\n",
       "      <td>0.235790</td>\n",
       "      <td>1.241787</td>\n",
       "      <td>2.946184</td>\n",
       "      <td>0.411393</td>\n",
       "      <td>2.482603</td>\n",
       "      <td>34.765316</td>\n",
       "      <td>0.489090</td>\n",
       "      <td>574.607699</td>\n",
       "    </tr>\n",
       "    <tr>\n",
       "      <th>min</th>\n",
       "      <td>NaN</td>\n",
       "      <td>1.000000</td>\n",
       "      <td>NaN</td>\n",
       "      <td>1.000000</td>\n",
       "      <td>1.000000</td>\n",
       "      <td>3.000000</td>\n",
       "      <td>30.480000</td>\n",
       "      <td>1.200000</td>\n",
       "      <td>4.000000</td>\n",
       "      <td>128.000000</td>\n",
       "      <td>0.810000</td>\n",
       "      <td>527.000000</td>\n",
       "    </tr>\n",
       "    <tr>\n",
       "      <th>25%</th>\n",
       "      <td>NaN</td>\n",
       "      <td>3.000000</td>\n",
       "      <td>NaN</td>\n",
       "      <td>2.000000</td>\n",
       "      <td>1.000000</td>\n",
       "      <td>5.000000</td>\n",
       "      <td>35.560000</td>\n",
       "      <td>2.000000</td>\n",
       "      <td>8.000000</td>\n",
       "      <td>256.000000</td>\n",
       "      <td>1.472500</td>\n",
       "      <td>1066.500000</td>\n",
       "    </tr>\n",
       "    <tr>\n",
       "      <th>50%</th>\n",
       "      <td>NaN</td>\n",
       "      <td>3.000000</td>\n",
       "      <td>NaN</td>\n",
       "      <td>2.000000</td>\n",
       "      <td>1.000000</td>\n",
       "      <td>5.000000</td>\n",
       "      <td>38.100000</td>\n",
       "      <td>2.500000</td>\n",
       "      <td>8.000000</td>\n",
       "      <td>256.000000</td>\n",
       "      <td>1.862232</td>\n",
       "      <td>1333.000000</td>\n",
       "    </tr>\n",
       "    <tr>\n",
       "      <th>75%</th>\n",
       "      <td>NaN</td>\n",
       "      <td>4.000000</td>\n",
       "      <td>NaN</td>\n",
       "      <td>3.000000</td>\n",
       "      <td>1.000000</td>\n",
       "      <td>7.000000</td>\n",
       "      <td>39.624000</td>\n",
       "      <td>2.700000</td>\n",
       "      <td>8.000000</td>\n",
       "      <td>256.000000</td>\n",
       "      <td>2.200000</td>\n",
       "      <td>1777.000000</td>\n",
       "    </tr>\n",
       "    <tr>\n",
       "      <th>max</th>\n",
       "      <td>NaN</td>\n",
       "      <td>5.000000</td>\n",
       "      <td>NaN</td>\n",
       "      <td>3.000000</td>\n",
       "      <td>2.000000</td>\n",
       "      <td>7.000000</td>\n",
       "      <td>43.942000</td>\n",
       "      <td>2.900000</td>\n",
       "      <td>16.000000</td>\n",
       "      <td>256.000000</td>\n",
       "      <td>3.600000</td>\n",
       "      <td>3810.000000</td>\n",
       "    </tr>\n",
       "  </tbody>\n",
       "</table>\n",
       "</div>"
      ],
      "text/plain": [
       "       Manufacturer    Category   Screen         GPU          OS    CPU_core  \\\n",
       "count           238  238.000000      238  238.000000  238.000000  238.000000   \n",
       "unique           11         NaN        2         NaN         NaN         NaN   \n",
       "top            Dell         NaN  Full HD         NaN         NaN         NaN   \n",
       "freq             71         NaN      161         NaN         NaN         NaN   \n",
       "mean            NaN    3.205882      NaN    2.151261    1.058824    5.630252   \n",
       "std             NaN    0.776533      NaN    0.638282    0.235790    1.241787   \n",
       "min             NaN    1.000000      NaN    1.000000    1.000000    3.000000   \n",
       "25%             NaN    3.000000      NaN    2.000000    1.000000    5.000000   \n",
       "50%             NaN    3.000000      NaN    2.000000    1.000000    5.000000   \n",
       "75%             NaN    4.000000      NaN    3.000000    1.000000    7.000000   \n",
       "max             NaN    5.000000      NaN    3.000000    2.000000    7.000000   \n",
       "\n",
       "        Screen_Size_CM  CPU_frequency      RAM_GB  Storage_GB_SSD   Weight_kg  \\\n",
       "count       238.000000     238.000000  238.000000      238.000000  238.000000   \n",
       "unique             NaN            NaN         NaN             NaN         NaN   \n",
       "top                NaN            NaN         NaN             NaN         NaN   \n",
       "freq               NaN            NaN         NaN             NaN         NaN   \n",
       "mean         37.269615       2.360084    7.882353      245.781513    1.862232   \n",
       "std           2.946184       0.411393    2.482603       34.765316    0.489090   \n",
       "min          30.480000       1.200000    4.000000      128.000000    0.810000   \n",
       "25%          35.560000       2.000000    8.000000      256.000000    1.472500   \n",
       "50%          38.100000       2.500000    8.000000      256.000000    1.862232   \n",
       "75%          39.624000       2.700000    8.000000      256.000000    2.200000   \n",
       "max          43.942000       2.900000   16.000000      256.000000    3.600000   \n",
       "\n",
       "              Price  \n",
       "count    238.000000  \n",
       "unique          NaN  \n",
       "top             NaN  \n",
       "freq            NaN  \n",
       "mean    1462.344538  \n",
       "std      574.607699  \n",
       "min      527.000000  \n",
       "25%     1066.500000  \n",
       "50%     1333.000000  \n",
       "75%     1777.000000  \n",
       "max     3810.000000  "
      ]
     },
     "execution_count": 264,
     "metadata": {},
     "output_type": "execute_result"
    }
   ],
   "source": [
    "df.describe(include = \"all\")"
   ]
  },
  {
   "cell_type": "markdown",
   "id": "09b58e88-19ec-49b1-86c1-f03ab7a10f54",
   "metadata": {
    "jp-MarkdownHeadingCollapsed": true
   },
   "source": [
    "## Data Formatting"
   ]
  },
  {
   "cell_type": "markdown",
   "id": "af56e285-3527-44fb-a30c-762dde20c1ae",
   "metadata": {},
   "source": [
    "Here Screen_Size_inch, Weight_kg should be of float type hence converting their data type"
   ]
  },
  {
   "cell_type": "code",
   "execution_count": 266,
   "id": "fa8f9024-09ec-452f-b245-070029924f98",
   "metadata": {},
   "outputs": [],
   "source": [
    "df[\"Screen_Size_CM\"] = df[\"Screen_Size_CM\"].astype(\"float64\")"
   ]
  },
  {
   "cell_type": "code",
   "execution_count": 268,
   "id": "7a9c0a2a-bba7-43b8-8267-957de628edbf",
   "metadata": {},
   "outputs": [],
   "source": [
    "df[\"Weight_kg\"] = df[\"Weight_kg\"].astype(\"float64\")"
   ]
  },
  {
   "cell_type": "code",
   "execution_count": 270,
   "id": "8c92abfe-5a90-4857-874d-6c0cb5f1cdd0",
   "metadata": {},
   "outputs": [
    {
     "data": {
      "text/plain": [
       "Manufacturer       object\n",
       "Category            int64\n",
       "Screen             object\n",
       "GPU                 int64\n",
       "OS                  int64\n",
       "CPU_core            int64\n",
       "Screen_Size_CM    float64\n",
       "CPU_frequency     float64\n",
       "RAM_GB              int64\n",
       "Storage_GB_SSD      int64\n",
       "Weight_kg         float64\n",
       "Price               int64\n",
       "dtype: object"
      ]
     },
     "execution_count": 270,
     "metadata": {},
     "output_type": "execute_result"
    }
   ],
   "source": [
    "df.dtypes"
   ]
  },
  {
   "cell_type": "markdown",
   "id": "e30005ea-e384-4f23-8809-eef585ddba0c",
   "metadata": {},
   "source": [
    "Checking for Non- Numeric Values in Numeric columns"
   ]
  },
  {
   "cell_type": "code",
   "execution_count": 275,
   "id": "6a14c112-d7fd-4b4b-8d2b-de5d2b935b18",
   "metadata": {},
   "outputs": [],
   "source": [
    "for column in df.select_dtypes(include=[np.number]).columns:\n",
    "        non_numeric = df[pd.to_numeric(df[column], errors='coerce').isna()]\n",
    "        if not non_numeric.empty:\n",
    "            print(f'Non-numeric values in {column}:\\n', non_numeric)"
   ]
  },
  {
   "cell_type": "markdown",
   "id": "6c02e0c6-0357-4bc9-9706-a4c08970e01e",
   "metadata": {},
   "source": [
    "Checking for NULL Values"
   ]
  },
  {
   "cell_type": "code",
   "execution_count": 277,
   "id": "fb10dd74-b32a-41d1-8312-bf7b84cad166",
   "metadata": {},
   "outputs": [
    {
     "data": {
      "text/plain": [
       "Manufacturer      0\n",
       "Category          0\n",
       "Screen            0\n",
       "GPU               0\n",
       "OS                0\n",
       "CPU_core          0\n",
       "Screen_Size_CM    0\n",
       "CPU_frequency     0\n",
       "RAM_GB            0\n",
       "Storage_GB_SSD    0\n",
       "Weight_kg         0\n",
       "Price             0\n",
       "dtype: int64"
      ]
     },
     "execution_count": 277,
     "metadata": {},
     "output_type": "execute_result"
    }
   ],
   "source": [
    "df.isnull().sum()"
   ]
  },
  {
   "cell_type": "markdown",
   "id": "3ba68423-f9e3-4444-8908-552bd5babedb",
   "metadata": {
    "jp-MarkdownHeadingCollapsed": true
   },
   "source": [
    "## Data Cleaning"
   ]
  },
  {
   "cell_type": "code",
   "execution_count": 282,
   "id": "7c4e9d32-17b9-4bf7-a53e-b48b6be93176",
   "metadata": {},
   "outputs": [
    {
     "data": {
      "text/plain": [
       "0    39.624\n",
       "Name: Screen_Size_CM, dtype: float64"
      ]
     },
     "execution_count": 282,
     "metadata": {},
     "output_type": "execute_result"
    }
   ],
   "source": [
    "mode_Screen_Size_CM = df[\"Screen_Size_CM\"].mode()\n",
    "mode_Screen_Size_CM\n",
    "# we see values in Screen_Size_inch are categorical in nature hence we replce NaN with most frequent value"
   ]
  },
  {
   "cell_type": "code",
   "execution_count": 288,
   "id": "32e53946-0b37-47ec-b8b8-07f44dc44fc2",
   "metadata": {},
   "outputs": [],
   "source": [
    "df[\"Screen_Size_CM\"].replace(np.NaN,mode_Screen_Size_CM[0], inplace = True)"
   ]
  },
  {
   "cell_type": "code",
   "execution_count": 290,
   "id": "64efd685-be64-4301-82e1-ca5491ca67bb",
   "metadata": {},
   "outputs": [],
   "source": [
    "mean_Weight_kg = df[\"Weight_kg\"].mean()"
   ]
  },
  {
   "cell_type": "code",
   "execution_count": 292,
   "id": "53fb30a0-f76e-41df-9d80-4d4130e50471",
   "metadata": {},
   "outputs": [],
   "source": [
    "df[\"Weight_kg\"].replace(np.NaN,mean_Weight_kg, inplace = True)"
   ]
  },
  {
   "cell_type": "code",
   "execution_count": 294,
   "id": "e660dd44-7e60-4938-a84a-a8abec6a8ea3",
   "metadata": {},
   "outputs": [
    {
     "data": {
      "text/plain": [
       "Manufacturer      0\n",
       "Category          0\n",
       "Screen            0\n",
       "GPU               0\n",
       "OS                0\n",
       "CPU_core          0\n",
       "Screen_Size_CM    0\n",
       "CPU_frequency     0\n",
       "RAM_GB            0\n",
       "Storage_GB_SSD    0\n",
       "Weight_kg         0\n",
       "Price             0\n",
       "dtype: int64"
      ]
     },
     "execution_count": 294,
     "metadata": {},
     "output_type": "execute_result"
    }
   ],
   "source": [
    "df.isnull().sum()"
   ]
  },
  {
   "cell_type": "markdown",
   "id": "53c33738-59a4-4641-8186-fcec10c96b47",
   "metadata": {},
   "source": [
    "## Writing the New File to another CSV File"
   ]
  },
  {
   "cell_type": "code",
   "execution_count": 538,
   "id": "2544ece2-2333-4907-8c0b-76bf9b1fb4d5",
   "metadata": {},
   "outputs": [],
   "source": [
    "file_path = \"/Users/vythreynarayanam/Downloads/Laptop_Pricing/eda_with_python_laptop_pricing/laptop_pricing.csv\""
   ]
  },
  {
   "cell_type": "code",
   "execution_count": 540,
   "id": "e661bc2c-7b08-470d-8f5e-12953454b252",
   "metadata": {},
   "outputs": [
    {
     "name": "stdout",
     "output_type": "stream",
     "text": [
      "Deleted existing file: /Users/vythreynarayanam/Downloads/Laptop_Pricing/eda_with_python_laptop_pricing/laptop_pricing.csv\n"
     ]
    }
   ],
   "source": [
    "if os.path.exists(file_path):\n",
    "    os.remove(file_path)\n",
    "    print(f\"Deleted existing file: {file_path}\")"
   ]
  },
  {
   "cell_type": "code",
   "execution_count": 542,
   "id": "52378e2b-a616-4160-8c96-a92f52e0966c",
   "metadata": {},
   "outputs": [],
   "source": [
    "df.to_csv(file_path, index = False)"
   ]
  },
  {
   "cell_type": "code",
   "execution_count": 544,
   "id": "dfeb85cb-e637-44f9-bf42-1585a6ee2097",
   "metadata": {},
   "outputs": [],
   "source": [
    "laptop_pricing = pd.read_csv(\"/Users/vythreynarayanam/Downloads/Laptop_Pricing/eda_with_python_laptop_pricing/laptop_pricing.csv\")"
   ]
  },
  {
   "cell_type": "code",
   "execution_count": 546,
   "id": "94f3aa5d-b131-460b-a487-e23a1251d4f1",
   "metadata": {},
   "outputs": [
    {
     "data": {
      "text/html": [
       "<div>\n",
       "<style scoped>\n",
       "    .dataframe tbody tr th:only-of-type {\n",
       "        vertical-align: middle;\n",
       "    }\n",
       "\n",
       "    .dataframe tbody tr th {\n",
       "        vertical-align: top;\n",
       "    }\n",
       "\n",
       "    .dataframe thead th {\n",
       "        text-align: right;\n",
       "    }\n",
       "</style>\n",
       "<table border=\"1\" class=\"dataframe\">\n",
       "  <thead>\n",
       "    <tr style=\"text-align: right;\">\n",
       "      <th></th>\n",
       "      <th>Manufacturer</th>\n",
       "      <th>Category</th>\n",
       "      <th>Screen</th>\n",
       "      <th>GPU</th>\n",
       "      <th>OS</th>\n",
       "      <th>CPU_core</th>\n",
       "      <th>Screen_Size_CM</th>\n",
       "      <th>CPU_frequency</th>\n",
       "      <th>RAM_GB</th>\n",
       "      <th>Storage_GB_SSD</th>\n",
       "      <th>Weight_kg</th>\n",
       "      <th>Price</th>\n",
       "    </tr>\n",
       "  </thead>\n",
       "  <tbody>\n",
       "    <tr>\n",
       "      <th>0</th>\n",
       "      <td>Acer</td>\n",
       "      <td>4</td>\n",
       "      <td>IPS Panel</td>\n",
       "      <td>2</td>\n",
       "      <td>1</td>\n",
       "      <td>5</td>\n",
       "      <td>35.560</td>\n",
       "      <td>1.6</td>\n",
       "      <td>8</td>\n",
       "      <td>256</td>\n",
       "      <td>1.60</td>\n",
       "      <td>978</td>\n",
       "    </tr>\n",
       "    <tr>\n",
       "      <th>1</th>\n",
       "      <td>Dell</td>\n",
       "      <td>3</td>\n",
       "      <td>Full HD</td>\n",
       "      <td>1</td>\n",
       "      <td>1</td>\n",
       "      <td>3</td>\n",
       "      <td>39.624</td>\n",
       "      <td>2.0</td>\n",
       "      <td>4</td>\n",
       "      <td>256</td>\n",
       "      <td>2.20</td>\n",
       "      <td>634</td>\n",
       "    </tr>\n",
       "    <tr>\n",
       "      <th>2</th>\n",
       "      <td>Dell</td>\n",
       "      <td>3</td>\n",
       "      <td>Full HD</td>\n",
       "      <td>1</td>\n",
       "      <td>1</td>\n",
       "      <td>7</td>\n",
       "      <td>39.624</td>\n",
       "      <td>2.7</td>\n",
       "      <td>8</td>\n",
       "      <td>256</td>\n",
       "      <td>2.20</td>\n",
       "      <td>946</td>\n",
       "    </tr>\n",
       "    <tr>\n",
       "      <th>3</th>\n",
       "      <td>Dell</td>\n",
       "      <td>4</td>\n",
       "      <td>IPS Panel</td>\n",
       "      <td>2</td>\n",
       "      <td>1</td>\n",
       "      <td>5</td>\n",
       "      <td>33.782</td>\n",
       "      <td>1.6</td>\n",
       "      <td>8</td>\n",
       "      <td>128</td>\n",
       "      <td>1.22</td>\n",
       "      <td>1244</td>\n",
       "    </tr>\n",
       "    <tr>\n",
       "      <th>4</th>\n",
       "      <td>HP</td>\n",
       "      <td>4</td>\n",
       "      <td>Full HD</td>\n",
       "      <td>2</td>\n",
       "      <td>1</td>\n",
       "      <td>7</td>\n",
       "      <td>39.624</td>\n",
       "      <td>1.8</td>\n",
       "      <td>8</td>\n",
       "      <td>256</td>\n",
       "      <td>1.91</td>\n",
       "      <td>837</td>\n",
       "    </tr>\n",
       "  </tbody>\n",
       "</table>\n",
       "</div>"
      ],
      "text/plain": [
       "  Manufacturer  Category     Screen  GPU  OS  CPU_core  Screen_Size_CM  \\\n",
       "0         Acer         4  IPS Panel    2   1         5          35.560   \n",
       "1         Dell         3    Full HD    1   1         3          39.624   \n",
       "2         Dell         3    Full HD    1   1         7          39.624   \n",
       "3         Dell         4  IPS Panel    2   1         5          33.782   \n",
       "4           HP         4    Full HD    2   1         7          39.624   \n",
       "\n",
       "   CPU_frequency  RAM_GB  Storage_GB_SSD  Weight_kg  Price  \n",
       "0            1.6       8             256       1.60    978  \n",
       "1            2.0       4             256       2.20    634  \n",
       "2            2.7       8             256       2.20    946  \n",
       "3            1.6       8             128       1.22   1244  \n",
       "4            1.8       8             256       1.91    837  "
      ]
     },
     "execution_count": 546,
     "metadata": {},
     "output_type": "execute_result"
    }
   ],
   "source": [
    "laptop_pricing.head()"
   ]
  },
  {
   "cell_type": "code",
   "execution_count": 548,
   "id": "fc332e2f-99d9-4464-b339-f671743041d0",
   "metadata": {},
   "outputs": [
    {
     "data": {
      "text/html": [
       "<div>\n",
       "<style scoped>\n",
       "    .dataframe tbody tr th:only-of-type {\n",
       "        vertical-align: middle;\n",
       "    }\n",
       "\n",
       "    .dataframe tbody tr th {\n",
       "        vertical-align: top;\n",
       "    }\n",
       "\n",
       "    .dataframe thead th {\n",
       "        text-align: right;\n",
       "    }\n",
       "</style>\n",
       "<table border=\"1\" class=\"dataframe\">\n",
       "  <thead>\n",
       "    <tr style=\"text-align: right;\">\n",
       "      <th></th>\n",
       "      <th>Manufacturer</th>\n",
       "      <th>Category</th>\n",
       "      <th>Screen</th>\n",
       "      <th>GPU</th>\n",
       "      <th>OS</th>\n",
       "      <th>CPU_core</th>\n",
       "      <th>Screen_Size_CM</th>\n",
       "      <th>CPU_frequency</th>\n",
       "      <th>RAM_GB</th>\n",
       "      <th>Storage_GB_SSD</th>\n",
       "      <th>Weight_kg</th>\n",
       "      <th>Price</th>\n",
       "    </tr>\n",
       "  </thead>\n",
       "  <tbody>\n",
       "    <tr>\n",
       "      <th>count</th>\n",
       "      <td>238</td>\n",
       "      <td>238.000000</td>\n",
       "      <td>238</td>\n",
       "      <td>238.000000</td>\n",
       "      <td>238.000000</td>\n",
       "      <td>238.000000</td>\n",
       "      <td>238.000000</td>\n",
       "      <td>238.000000</td>\n",
       "      <td>238.000000</td>\n",
       "      <td>238.000000</td>\n",
       "      <td>238.000000</td>\n",
       "      <td>238.000000</td>\n",
       "    </tr>\n",
       "    <tr>\n",
       "      <th>unique</th>\n",
       "      <td>11</td>\n",
       "      <td>NaN</td>\n",
       "      <td>2</td>\n",
       "      <td>NaN</td>\n",
       "      <td>NaN</td>\n",
       "      <td>NaN</td>\n",
       "      <td>NaN</td>\n",
       "      <td>NaN</td>\n",
       "      <td>NaN</td>\n",
       "      <td>NaN</td>\n",
       "      <td>NaN</td>\n",
       "      <td>NaN</td>\n",
       "    </tr>\n",
       "    <tr>\n",
       "      <th>top</th>\n",
       "      <td>Dell</td>\n",
       "      <td>NaN</td>\n",
       "      <td>Full HD</td>\n",
       "      <td>NaN</td>\n",
       "      <td>NaN</td>\n",
       "      <td>NaN</td>\n",
       "      <td>NaN</td>\n",
       "      <td>NaN</td>\n",
       "      <td>NaN</td>\n",
       "      <td>NaN</td>\n",
       "      <td>NaN</td>\n",
       "      <td>NaN</td>\n",
       "    </tr>\n",
       "    <tr>\n",
       "      <th>freq</th>\n",
       "      <td>71</td>\n",
       "      <td>NaN</td>\n",
       "      <td>161</td>\n",
       "      <td>NaN</td>\n",
       "      <td>NaN</td>\n",
       "      <td>NaN</td>\n",
       "      <td>NaN</td>\n",
       "      <td>NaN</td>\n",
       "      <td>NaN</td>\n",
       "      <td>NaN</td>\n",
       "      <td>NaN</td>\n",
       "      <td>NaN</td>\n",
       "    </tr>\n",
       "    <tr>\n",
       "      <th>mean</th>\n",
       "      <td>NaN</td>\n",
       "      <td>3.205882</td>\n",
       "      <td>NaN</td>\n",
       "      <td>2.151261</td>\n",
       "      <td>1.058824</td>\n",
       "      <td>5.630252</td>\n",
       "      <td>37.269615</td>\n",
       "      <td>2.360084</td>\n",
       "      <td>7.882353</td>\n",
       "      <td>245.781513</td>\n",
       "      <td>1.862232</td>\n",
       "      <td>1462.344538</td>\n",
       "    </tr>\n",
       "    <tr>\n",
       "      <th>std</th>\n",
       "      <td>NaN</td>\n",
       "      <td>0.776533</td>\n",
       "      <td>NaN</td>\n",
       "      <td>0.638282</td>\n",
       "      <td>0.235790</td>\n",
       "      <td>1.241787</td>\n",
       "      <td>2.946184</td>\n",
       "      <td>0.411393</td>\n",
       "      <td>2.482603</td>\n",
       "      <td>34.765316</td>\n",
       "      <td>0.489090</td>\n",
       "      <td>574.607699</td>\n",
       "    </tr>\n",
       "    <tr>\n",
       "      <th>min</th>\n",
       "      <td>NaN</td>\n",
       "      <td>1.000000</td>\n",
       "      <td>NaN</td>\n",
       "      <td>1.000000</td>\n",
       "      <td>1.000000</td>\n",
       "      <td>3.000000</td>\n",
       "      <td>30.480000</td>\n",
       "      <td>1.200000</td>\n",
       "      <td>4.000000</td>\n",
       "      <td>128.000000</td>\n",
       "      <td>0.810000</td>\n",
       "      <td>527.000000</td>\n",
       "    </tr>\n",
       "    <tr>\n",
       "      <th>25%</th>\n",
       "      <td>NaN</td>\n",
       "      <td>3.000000</td>\n",
       "      <td>NaN</td>\n",
       "      <td>2.000000</td>\n",
       "      <td>1.000000</td>\n",
       "      <td>5.000000</td>\n",
       "      <td>35.560000</td>\n",
       "      <td>2.000000</td>\n",
       "      <td>8.000000</td>\n",
       "      <td>256.000000</td>\n",
       "      <td>1.472500</td>\n",
       "      <td>1066.500000</td>\n",
       "    </tr>\n",
       "    <tr>\n",
       "      <th>50%</th>\n",
       "      <td>NaN</td>\n",
       "      <td>3.000000</td>\n",
       "      <td>NaN</td>\n",
       "      <td>2.000000</td>\n",
       "      <td>1.000000</td>\n",
       "      <td>5.000000</td>\n",
       "      <td>38.100000</td>\n",
       "      <td>2.500000</td>\n",
       "      <td>8.000000</td>\n",
       "      <td>256.000000</td>\n",
       "      <td>1.862232</td>\n",
       "      <td>1333.000000</td>\n",
       "    </tr>\n",
       "    <tr>\n",
       "      <th>75%</th>\n",
       "      <td>NaN</td>\n",
       "      <td>4.000000</td>\n",
       "      <td>NaN</td>\n",
       "      <td>3.000000</td>\n",
       "      <td>1.000000</td>\n",
       "      <td>7.000000</td>\n",
       "      <td>39.624000</td>\n",
       "      <td>2.700000</td>\n",
       "      <td>8.000000</td>\n",
       "      <td>256.000000</td>\n",
       "      <td>2.200000</td>\n",
       "      <td>1777.000000</td>\n",
       "    </tr>\n",
       "    <tr>\n",
       "      <th>max</th>\n",
       "      <td>NaN</td>\n",
       "      <td>5.000000</td>\n",
       "      <td>NaN</td>\n",
       "      <td>3.000000</td>\n",
       "      <td>2.000000</td>\n",
       "      <td>7.000000</td>\n",
       "      <td>43.942000</td>\n",
       "      <td>2.900000</td>\n",
       "      <td>16.000000</td>\n",
       "      <td>256.000000</td>\n",
       "      <td>3.600000</td>\n",
       "      <td>3810.000000</td>\n",
       "    </tr>\n",
       "  </tbody>\n",
       "</table>\n",
       "</div>"
      ],
      "text/plain": [
       "       Manufacturer    Category   Screen         GPU          OS    CPU_core  \\\n",
       "count           238  238.000000      238  238.000000  238.000000  238.000000   \n",
       "unique           11         NaN        2         NaN         NaN         NaN   \n",
       "top            Dell         NaN  Full HD         NaN         NaN         NaN   \n",
       "freq             71         NaN      161         NaN         NaN         NaN   \n",
       "mean            NaN    3.205882      NaN    2.151261    1.058824    5.630252   \n",
       "std             NaN    0.776533      NaN    0.638282    0.235790    1.241787   \n",
       "min             NaN    1.000000      NaN    1.000000    1.000000    3.000000   \n",
       "25%             NaN    3.000000      NaN    2.000000    1.000000    5.000000   \n",
       "50%             NaN    3.000000      NaN    2.000000    1.000000    5.000000   \n",
       "75%             NaN    4.000000      NaN    3.000000    1.000000    7.000000   \n",
       "max             NaN    5.000000      NaN    3.000000    2.000000    7.000000   \n",
       "\n",
       "        Screen_Size_CM  CPU_frequency      RAM_GB  Storage_GB_SSD   Weight_kg  \\\n",
       "count       238.000000     238.000000  238.000000      238.000000  238.000000   \n",
       "unique             NaN            NaN         NaN             NaN         NaN   \n",
       "top                NaN            NaN         NaN             NaN         NaN   \n",
       "freq               NaN            NaN         NaN             NaN         NaN   \n",
       "mean         37.269615       2.360084    7.882353      245.781513    1.862232   \n",
       "std           2.946184       0.411393    2.482603       34.765316    0.489090   \n",
       "min          30.480000       1.200000    4.000000      128.000000    0.810000   \n",
       "25%          35.560000       2.000000    8.000000      256.000000    1.472500   \n",
       "50%          38.100000       2.500000    8.000000      256.000000    1.862232   \n",
       "75%          39.624000       2.700000    8.000000      256.000000    2.200000   \n",
       "max          43.942000       2.900000   16.000000      256.000000    3.600000   \n",
       "\n",
       "              Price  \n",
       "count    238.000000  \n",
       "unique          NaN  \n",
       "top             NaN  \n",
       "freq            NaN  \n",
       "mean    1462.344538  \n",
       "std      574.607699  \n",
       "min      527.000000  \n",
       "25%     1066.500000  \n",
       "50%     1333.000000  \n",
       "75%     1777.000000  \n",
       "max     3810.000000  "
      ]
     },
     "execution_count": 548,
     "metadata": {},
     "output_type": "execute_result"
    }
   ],
   "source": [
    "laptop_pricing.describe(include =\"all\")"
   ]
  },
  {
   "cell_type": "markdown",
   "id": "3025d03c-736b-4900-81b1-18feef1e00f0",
   "metadata": {},
   "source": [
    "## Converting cm to inches, kg to pounds as required for this analysis(Data Formatting)"
   ]
  },
  {
   "cell_type": "code",
   "execution_count": 551,
   "id": "7f343dfd-a3ce-43c8-8f45-a279fe3edc7f",
   "metadata": {},
   "outputs": [],
   "source": [
    "laptop_pricing[\"Weight_kg\"] = laptop_pricing[\"Weight_kg\"] * 2.205"
   ]
  },
  {
   "cell_type": "code",
   "execution_count": 553,
   "id": "4c54cd1e-ba58-4773-b6b9-36ecebb19789",
   "metadata": {},
   "outputs": [],
   "source": [
    "laptop_pricing.rename(columns={\"Weight_kg\":\"Weight_pounds\"}, inplace = True)"
   ]
  },
  {
   "cell_type": "code",
   "execution_count": 555,
   "id": "99601696-ac6d-44f7-8629-807d824fd45e",
   "metadata": {},
   "outputs": [],
   "source": [
    "laptop_pricing[\"Screen_Size_CM\"] = laptop_pricing[\"Screen_Size_CM\"] / 2.54"
   ]
  },
  {
   "cell_type": "code",
   "execution_count": 557,
   "id": "8e2770b3-8065-47fe-8843-10a330f7f77d",
   "metadata": {},
   "outputs": [],
   "source": [
    "laptop_pricing.rename(columns={\"Screen_Size_CM\":\"Screen_Size_inches\"}, inplace = True)"
   ]
  },
  {
   "cell_type": "code",
   "execution_count": 559,
   "id": "fdadd9c6-0522-45a2-b176-3a8616e300c2",
   "metadata": {},
   "outputs": [
    {
     "data": {
      "text/html": [
       "<div>\n",
       "<style scoped>\n",
       "    .dataframe tbody tr th:only-of-type {\n",
       "        vertical-align: middle;\n",
       "    }\n",
       "\n",
       "    .dataframe tbody tr th {\n",
       "        vertical-align: top;\n",
       "    }\n",
       "\n",
       "    .dataframe thead th {\n",
       "        text-align: right;\n",
       "    }\n",
       "</style>\n",
       "<table border=\"1\" class=\"dataframe\">\n",
       "  <thead>\n",
       "    <tr style=\"text-align: right;\">\n",
       "      <th></th>\n",
       "      <th>Manufacturer</th>\n",
       "      <th>Category</th>\n",
       "      <th>Screen</th>\n",
       "      <th>GPU</th>\n",
       "      <th>OS</th>\n",
       "      <th>CPU_core</th>\n",
       "      <th>Screen_Size_inches</th>\n",
       "      <th>CPU_frequency</th>\n",
       "      <th>RAM_GB</th>\n",
       "      <th>Storage_GB_SSD</th>\n",
       "      <th>Weight_pounds</th>\n",
       "      <th>Price</th>\n",
       "    </tr>\n",
       "  </thead>\n",
       "  <tbody>\n",
       "    <tr>\n",
       "      <th>0</th>\n",
       "      <td>Acer</td>\n",
       "      <td>4</td>\n",
       "      <td>IPS Panel</td>\n",
       "      <td>2</td>\n",
       "      <td>1</td>\n",
       "      <td>5</td>\n",
       "      <td>14.0</td>\n",
       "      <td>1.6</td>\n",
       "      <td>8</td>\n",
       "      <td>256</td>\n",
       "      <td>3.52800</td>\n",
       "      <td>978</td>\n",
       "    </tr>\n",
       "    <tr>\n",
       "      <th>1</th>\n",
       "      <td>Dell</td>\n",
       "      <td>3</td>\n",
       "      <td>Full HD</td>\n",
       "      <td>1</td>\n",
       "      <td>1</td>\n",
       "      <td>3</td>\n",
       "      <td>15.6</td>\n",
       "      <td>2.0</td>\n",
       "      <td>4</td>\n",
       "      <td>256</td>\n",
       "      <td>4.85100</td>\n",
       "      <td>634</td>\n",
       "    </tr>\n",
       "    <tr>\n",
       "      <th>2</th>\n",
       "      <td>Dell</td>\n",
       "      <td>3</td>\n",
       "      <td>Full HD</td>\n",
       "      <td>1</td>\n",
       "      <td>1</td>\n",
       "      <td>7</td>\n",
       "      <td>15.6</td>\n",
       "      <td>2.7</td>\n",
       "      <td>8</td>\n",
       "      <td>256</td>\n",
       "      <td>4.85100</td>\n",
       "      <td>946</td>\n",
       "    </tr>\n",
       "    <tr>\n",
       "      <th>3</th>\n",
       "      <td>Dell</td>\n",
       "      <td>4</td>\n",
       "      <td>IPS Panel</td>\n",
       "      <td>2</td>\n",
       "      <td>1</td>\n",
       "      <td>5</td>\n",
       "      <td>13.3</td>\n",
       "      <td>1.6</td>\n",
       "      <td>8</td>\n",
       "      <td>128</td>\n",
       "      <td>2.69010</td>\n",
       "      <td>1244</td>\n",
       "    </tr>\n",
       "    <tr>\n",
       "      <th>4</th>\n",
       "      <td>HP</td>\n",
       "      <td>4</td>\n",
       "      <td>Full HD</td>\n",
       "      <td>2</td>\n",
       "      <td>1</td>\n",
       "      <td>7</td>\n",
       "      <td>15.6</td>\n",
       "      <td>1.8</td>\n",
       "      <td>8</td>\n",
       "      <td>256</td>\n",
       "      <td>4.21155</td>\n",
       "      <td>837</td>\n",
       "    </tr>\n",
       "  </tbody>\n",
       "</table>\n",
       "</div>"
      ],
      "text/plain": [
       "  Manufacturer  Category     Screen  GPU  OS  CPU_core  Screen_Size_inches  \\\n",
       "0         Acer         4  IPS Panel    2   1         5                14.0   \n",
       "1         Dell         3    Full HD    1   1         3                15.6   \n",
       "2         Dell         3    Full HD    1   1         7                15.6   \n",
       "3         Dell         4  IPS Panel    2   1         5                13.3   \n",
       "4           HP         4    Full HD    2   1         7                15.6   \n",
       "\n",
       "   CPU_frequency  RAM_GB  Storage_GB_SSD  Weight_pounds  Price  \n",
       "0            1.6       8             256        3.52800    978  \n",
       "1            2.0       4             256        4.85100    634  \n",
       "2            2.7       8             256        4.85100    946  \n",
       "3            1.6       8             128        2.69010   1244  \n",
       "4            1.8       8             256        4.21155    837  "
      ]
     },
     "execution_count": 559,
     "metadata": {},
     "output_type": "execute_result"
    }
   ],
   "source": [
    "laptop_pricing.head()"
   ]
  },
  {
   "cell_type": "code",
   "execution_count": 561,
   "id": "8dd24101-24d6-42fd-ba13-e1bcc3e46107",
   "metadata": {},
   "outputs": [
    {
     "data": {
      "text/plain": [
       "Manufacturer           11\n",
       "Category                5\n",
       "Screen                  2\n",
       "GPU                     3\n",
       "OS                      2\n",
       "CPU_core                3\n",
       "Screen_Size_inches     10\n",
       "CPU_frequency          11\n",
       "RAM_GB                  5\n",
       "Storage_GB_SSD          2\n",
       "Weight_pounds          78\n",
       "Price                 193\n",
       "dtype: int64"
      ]
     },
     "execution_count": 561,
     "metadata": {},
     "output_type": "execute_result"
    }
   ],
   "source": [
    "laptop_pricing.nunique()"
   ]
  },
  {
   "cell_type": "markdown",
   "id": "c8097b69-e0b5-46c7-b769-b5e937515985",
   "metadata": {},
   "source": [
    "## Binning and Visualization"
   ]
  },
  {
   "cell_type": "code",
   "execution_count": 564,
   "id": "059d79dd-db67-4f9d-b244-549e8b5be041",
   "metadata": {},
   "outputs": [],
   "source": [
    "Price_Bins = np.linspace(laptop_pricing[\"Price\"].min(),laptop_pricing[\"Price\"].max(), 4)"
   ]
  },
  {
   "cell_type": "code",
   "execution_count": 566,
   "id": "3776341b-1489-4d2b-9d12-afca8d5c4355",
   "metadata": {},
   "outputs": [],
   "source": [
    "Price_Labels = [\"low\",\"medium\",\"high\"]"
   ]
  },
  {
   "cell_type": "code",
   "execution_count": 568,
   "id": "de195a6f-d125-45d9-8f9d-dcd3f02351ad",
   "metadata": {},
   "outputs": [],
   "source": [
    "laptop_pricing[\"Price_Binned\"] = pd.cut(laptop_pricing[\"Price\"],Price_Bins, labels = Price_Labels )"
   ]
  },
  {
   "cell_type": "code",
   "execution_count": 570,
   "id": "acbfcdea-09b7-4664-800c-4f6df52b783b",
   "metadata": {},
   "outputs": [
    {
     "data": {
      "text/plain": [
       "0         low\n",
       "1         low\n",
       "2         low\n",
       "3         low\n",
       "4         low\n",
       "        ...  \n",
       "233    medium\n",
       "234    medium\n",
       "235    medium\n",
       "236       low\n",
       "237       low\n",
       "Name: Price_Binned, Length: 238, dtype: category\n",
       "Categories (3, object): ['low' < 'medium' < 'high']"
      ]
     },
     "execution_count": 570,
     "metadata": {},
     "output_type": "execute_result"
    }
   ],
   "source": [
    "laptop_pricing[\"Price_Binned\"] "
   ]
  },
  {
   "cell_type": "code",
   "execution_count": 572,
   "id": "5fe0cbe8-8b56-4d9f-8792-868e02bffe1f",
   "metadata": {},
   "outputs": [
    {
     "data": {
      "text/plain": [
       "[Text(0, 0, '159'), Text(0, 0, '72'), Text(0, 0, '6')]"
      ]
     },
     "execution_count": 572,
     "metadata": {},
     "output_type": "execute_result"
    },
    {
     "data": {
      "image/png": "[encoded data removed]",
      "text/plain": [
       "<Figure size 1200x500 with 1 Axes>"
      ]
     },
     "metadata": {},
     "output_type": "display_data"
    }
   ],
   "source": [
    "plt.figure(figsize=(12, 5))\n",
    "graph_for_Price_Binned = laptop_pricing[\"Price_Binned\"] .value_counts().plot(kind='bar',title =\"Pricing Distribution For Laptops\")\n",
    "graph_for_Price_Binned.bar_label(graph_for_Price_Binned.containers[0], label_type='edge')"
   ]
  },
  {
   "cell_type": "markdown",
   "id": "8e113b4b-9201-4059-817e-c6b222780e75",
   "metadata": {},
   "source": [
    "## One Hot Encoding"
   ]
  },
  {
   "cell_type": "code",
   "execution_count": 574,
   "id": "15962b23-a06d-4983-9583-523bb8683ff4",
   "metadata": {},
   "outputs": [
    {
     "data": {
      "text/plain": [
       "Manufacturer            object\n",
       "Category                 int64\n",
       "Screen                  object\n",
       "GPU                      int64\n",
       "OS                       int64\n",
       "CPU_core                 int64\n",
       "Screen_Size_inches     float64\n",
       "CPU_frequency          float64\n",
       "RAM_GB                   int64\n",
       "Storage_GB_SSD           int64\n",
       "Weight_pounds          float64\n",
       "Price                    int64\n",
       "Price_Binned          category\n",
       "dtype: object"
      ]
     },
     "execution_count": 574,
     "metadata": {},
     "output_type": "execute_result"
    }
   ],
   "source": [
    "laptop_pricing.dtypes"
   ]
  },
  {
   "cell_type": "markdown",
   "id": "720bf009-3371-4846-9abb-f2081db71d42",
   "metadata": {},
   "source": [
    "checking the non numeric or categorical variables"
   ]
  },
  {
   "cell_type": "code",
   "execution_count": 577,
   "id": "4f57422f-1edb-40da-881f-84b2a8eb3308",
   "metadata": {},
   "outputs": [
    {
     "data": {
      "text/html": [
       "<div>\n",
       "<style scoped>\n",
       "    .dataframe tbody tr th:only-of-type {\n",
       "        vertical-align: middle;\n",
       "    }\n",
       "\n",
       "    .dataframe tbody tr th {\n",
       "        vertical-align: top;\n",
       "    }\n",
       "\n",
       "    .dataframe thead th {\n",
       "        text-align: right;\n",
       "    }\n",
       "</style>\n",
       "<table border=\"1\" class=\"dataframe\">\n",
       "  <thead>\n",
       "    <tr style=\"text-align: right;\">\n",
       "      <th></th>\n",
       "      <th>Manufacturer</th>\n",
       "      <th>Screen</th>\n",
       "      <th>Price_Binned</th>\n",
       "    </tr>\n",
       "  </thead>\n",
       "  <tbody>\n",
       "    <tr>\n",
       "      <th>0</th>\n",
       "      <td>Acer</td>\n",
       "      <td>IPS Panel</td>\n",
       "      <td>low</td>\n",
       "    </tr>\n",
       "    <tr>\n",
       "      <th>1</th>\n",
       "      <td>Dell</td>\n",
       "      <td>Full HD</td>\n",
       "      <td>low</td>\n",
       "    </tr>\n",
       "    <tr>\n",
       "      <th>2</th>\n",
       "      <td>Dell</td>\n",
       "      <td>Full HD</td>\n",
       "      <td>low</td>\n",
       "    </tr>\n",
       "    <tr>\n",
       "      <th>3</th>\n",
       "      <td>Dell</td>\n",
       "      <td>IPS Panel</td>\n",
       "      <td>low</td>\n",
       "    </tr>\n",
       "    <tr>\n",
       "      <th>4</th>\n",
       "      <td>HP</td>\n",
       "      <td>Full HD</td>\n",
       "      <td>low</td>\n",
       "    </tr>\n",
       "    <tr>\n",
       "      <th>...</th>\n",
       "      <td>...</td>\n",
       "      <td>...</td>\n",
       "      <td>...</td>\n",
       "    </tr>\n",
       "    <tr>\n",
       "      <th>233</th>\n",
       "      <td>Lenovo</td>\n",
       "      <td>IPS Panel</td>\n",
       "      <td>medium</td>\n",
       "    </tr>\n",
       "    <tr>\n",
       "      <th>234</th>\n",
       "      <td>Toshiba</td>\n",
       "      <td>Full HD</td>\n",
       "      <td>medium</td>\n",
       "    </tr>\n",
       "    <tr>\n",
       "      <th>235</th>\n",
       "      <td>Lenovo</td>\n",
       "      <td>IPS Panel</td>\n",
       "      <td>medium</td>\n",
       "    </tr>\n",
       "    <tr>\n",
       "      <th>236</th>\n",
       "      <td>Lenovo</td>\n",
       "      <td>Full HD</td>\n",
       "      <td>low</td>\n",
       "    </tr>\n",
       "    <tr>\n",
       "      <th>237</th>\n",
       "      <td>Toshiba</td>\n",
       "      <td>Full HD</td>\n",
       "      <td>low</td>\n",
       "    </tr>\n",
       "  </tbody>\n",
       "</table>\n",
       "<p>238 rows × 3 columns</p>\n",
       "</div>"
      ],
      "text/plain": [
       "    Manufacturer     Screen Price_Binned\n",
       "0           Acer  IPS Panel          low\n",
       "1           Dell    Full HD          low\n",
       "2           Dell    Full HD          low\n",
       "3           Dell  IPS Panel          low\n",
       "4             HP    Full HD          low\n",
       "..           ...        ...          ...\n",
       "233       Lenovo  IPS Panel       medium\n",
       "234      Toshiba    Full HD       medium\n",
       "235       Lenovo  IPS Panel       medium\n",
       "236       Lenovo    Full HD          low\n",
       "237      Toshiba    Full HD          low\n",
       "\n",
       "[238 rows x 3 columns]"
      ]
     },
     "execution_count": 577,
     "metadata": {},
     "output_type": "execute_result"
    }
   ],
   "source": [
    "laptop_pricing.select_dtypes(exclude=['float64','int64'])"
   ]
  },
  {
   "cell_type": "code",
   "execution_count": 579,
   "id": "b758f8b1-dd62-45b6-91d2-798551f150d3",
   "metadata": {},
   "outputs": [
    {
     "data": {
      "text/plain": [
       "Index(['Manufacturer', 'Category', 'Screen', 'GPU', 'OS', 'CPU_core',\n",
       "       'Screen_Size_inches', 'CPU_frequency', 'RAM_GB', 'Storage_GB_SSD',\n",
       "       'Weight_pounds', 'Price', 'Price_Binned'],\n",
       "      dtype='object')"
      ]
     },
     "execution_count": 579,
     "metadata": {},
     "output_type": "execute_result"
    }
   ],
   "source": [
    "laptop_pricing.columns"
   ]
  },
  {
   "cell_type": "code",
   "execution_count": 581,
   "id": "9e52a36e-7fdd-48ac-a050-601300bef837",
   "metadata": {},
   "outputs": [],
   "source": [
    "Columns_needed_to_create_dummies = laptop_pricing.select_dtypes(exclude=['float64','int64']).columns "
   ]
  },
  {
   "cell_type": "code",
   "execution_count": 583,
   "id": "7871aae9-6c94-4578-b239-34be53454290",
   "metadata": {},
   "outputs": [
    {
     "data": {
      "text/plain": [
       "Index(['Manufacturer', 'Screen', 'Price_Binned'], dtype='object')"
      ]
     },
     "execution_count": 583,
     "metadata": {},
     "output_type": "execute_result"
    }
   ],
   "source": [
    "Columns_needed_to_create_dummies"
   ]
  },
  {
   "cell_type": "code",
   "execution_count": 534,
   "id": "4c6e6939-1ce1-4083-b17d-a3a0ba52a1f9",
   "metadata": {},
   "outputs": [
    {
     "data": {
      "text/plain": [
       "array(['Category', 'GPU', 'OS', 'CPU_core', 'CPU_frequency', 'RAM_GB',\n",
       "       'Storage_GB_SSD', 'Weight_pounds', 'Price', 'Manufacturer_Acer',\n",
       "       'Manufacturer_Asus', 'Manufacturer_Dell', 'Manufacturer_HP',\n",
       "       'Manufacturer_Huawei', 'Manufacturer_Lenovo', 'Manufacturer_MSI',\n",
       "       'Manufacturer_Razer', 'Manufacturer_Samsung',\n",
       "       'Manufacturer_Toshiba', 'Manufacturer_Xiaomi', 'Screen_Full HD',\n",
       "       'Screen_IPS Panel', 'Price_Binned_low', 'Price_Binned_medium',\n",
       "       'Price_Binned_high'], dtype=object)"
      ]
     },
     "execution_count": 534,
     "metadata": {},
     "output_type": "execute_result"
    }
   ],
   "source": [
    "for var in Columns_needed_to_create_dummies:\n",
    "    cat_list = pd.get_dummies(laptop_pricing[var], prefix=var)\n",
    "    existing_dummy_columns = [col for col in laptop_pricing.columns if col.startswith(var + '_')]\n",
    "    if existing_dummy_columns:\n",
    "        laptop_pricing = laptop_pricing.drop(columns=existing_dummy_columns)\n",
    "    laptop_pricing_with_dummies = laptop_pricing.join(cat_list)\n",
    "    laptop_pricing = laptop_pricing_with_dummies\n",
    "cat_vars = Columns_needed_to_create_dummies\n",
    "data_vars=laptop_pricing.columns.values.tolist()\n",
    "to_keep=[i for i in data_vars if i not in cat_vars]\n",
    "laptop_pricing_final=laptop_pricing[to_keep]\n",
    "laptop_pricing_final.columns.values"
   ]
  },
  {
   "cell_type": "code",
   "execution_count": null,
   "id": "37a9ce80-e02e-48d3-b68e-ac77e711a529",
   "metadata": {},
   "outputs": [],
   "source": []
  }
 ],
 "metadata": {
  "kernelspec": {
   "display_name": "Python 3 (ipykernel)",
   "language": "python",
   "name": "python3"
  },
  "language_info": {
   "codemirror_mode": {
    "name": "ipython",
    "version": 3
   },
   "file_extension": ".py",
   "mimetype": "text/x-python",
   "name": "python",
   "nbconvert_exporter": "python",
   "pygments_lexer": "ipython3",
   "version": "3.11.7"
  }
 },
 "nbformat": 4,
 "nbformat_minor": 5
}
