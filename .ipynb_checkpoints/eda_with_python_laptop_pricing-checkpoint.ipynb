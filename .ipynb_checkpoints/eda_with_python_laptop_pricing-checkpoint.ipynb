{
 "cells": [
  {
   "cell_type": "markdown",
   "id": "900c5a6a-88b1-4990-b95f-a68ff371554e",
   "metadata": {
    "jp-MarkdownHeadingCollapsed": true
   },
   "source": [
    "# Data Acquisition"
   ]
  },
  {
   "cell_type": "code",
   "execution_count": 2,
   "id": "349ab080-32e1-42f9-86f7-8d5a58276e1c",
   "metadata": {},
   "outputs": [],
   "source": [
    "import pandas as pd\n",
    "import numpy as np\n",
    "from tqdm import tqdm\n",
    "import matplotlib.pyplot as plt\n",
    "%matplotlib inline\n",
    "import seaborn as sns\n",
    "import re\n",
    "import scipy.stats as stats \n",
    "from scipy.stats import pearsonr\n",
    "from sklearn.linear_model import LinearRegression, Ridge\n",
    "from sklearn.preprocessing import StandardScaler, PolynomialFeatures\n",
    "from sklearn.pipeline import Pipeline\n",
    "from sklearn.model_selection import train_test_split, cross_val_score, GridSearchCV\n",
    "from sklearn.metrics import mean_squared_error, r2_score\n",
    "import requests\n",
    "import os\n",
    "\n",
    "from tqdm import tqdm\n",
    "\n",
    "pd.set_option('display.max_columns',None)\n",
    "pd.set_option('display.max_columns',50)\n",
    "\n",
    "\n",
    "def download(url, filename):\n",
    "    response = requests.get(url)\n",
    "    if response.status_code == 200:\n",
    "        with open(filename, 'wb') as f:\n",
    "            f.write(response.content)"
   ]
  },
  {
   "cell_type": "code",
   "execution_count": 3,
   "id": "47f8e306-1c0f-42cb-a613-a9cacec7f8f5",
   "metadata": {},
   "outputs": [],
   "source": [
    "url = \"https://cf-courses-data.s3.us.cloud-object-storage.appdomain.cloud/IBMDeveloperSkillsNetwork-DA0101EN-Coursera/laptop_pricing_dataset_base.csv\"\n",
    "filename = \"laptops.csv\"\n",
    "download(url, filename)"
   ]
  },
  {
   "cell_type": "markdown",
   "id": "0a66466a-4b69-45ef-82d1-ed567c4f8a67",
   "metadata": {
    "jp-MarkdownHeadingCollapsed": true
   },
   "source": [
    "## Read File"
   ]
  },
  {
   "cell_type": "code",
   "execution_count": 5,
   "id": "e64326a0-894b-4c9b-a13d-6fc4bb75f1e5",
   "metadata": {},
   "outputs": [
    {
     "name": "stdout",
     "output_type": "stream",
     "text": [
      "     0   1          2   3   4   5       6    7   8    9     10    11\n",
      "0  Acer   4  IPS Panel   2   1   5   35.56  1.6   8  256   1.6   978\n",
      "1  Dell   3    Full HD   1   1   3  39.624  2.0   4  256   2.2   634\n",
      "2  Dell   3    Full HD   1   1   7  39.624  2.7   8  256   2.2   946\n",
      "3  Dell   4  IPS Panel   2   1   5  33.782  1.6   8  128  1.22  1244\n",
      "4    HP   4    Full HD   2   1   7  39.624  1.8   8  256  1.91   837\n"
     ]
    }
   ],
   "source": [
    "df = pd.read_csv(filename, header=None)\n",
    "print(df.head())"
   ]
  },
  {
   "cell_type": "code",
   "execution_count": 6,
   "id": "eef79bd5-9c8c-478c-b4d8-edb5cae8e7d3",
   "metadata": {},
   "outputs": [],
   "source": [
    "headers = [\"Manufacturer\", \"Category\", \"Type_of_Screen\", \"GPU\", \"OS\", \"CPU_core\", \"Screen_Size_CM\", \"CPU_frequency\", \"RAM_GB\", \"Storage_GB_SSD\", \"Weight_kg\",\"Price\"]"
   ]
  },
  {
   "cell_type": "code",
   "execution_count": 7,
   "id": "4cb4f920-1139-4aee-9305-a62daca915d1",
   "metadata": {},
   "outputs": [],
   "source": [
    "df.columns = headers"
   ]
  },
  {
   "cell_type": "markdown",
   "id": "81c58767-b8e5-4608-ab3c-b2d3e429c37e",
   "metadata": {
    "jp-MarkdownHeadingCollapsed": true
   },
   "source": [
    "# Data Preprocessing before EDA"
   ]
  },
  {
   "cell_type": "markdown",
   "id": "a53cb188-759b-4ad0-a79f-6830150ea2c7",
   "metadata": {
    "jp-MarkdownHeadingCollapsed": true
   },
   "source": [
    "## Data Overview"
   ]
  },
  {
   "cell_type": "code",
   "execution_count": 10,
   "id": "c40f6978-a4a2-4b3d-be5b-dec4c33511d9",
   "metadata": {},
   "outputs": [
    {
     "data": {
      "text/html": [
       "<div>\n",
       "<style scoped>\n",
       "    .dataframe tbody tr th:only-of-type {\n",
       "        vertical-align: middle;\n",
       "    }\n",
       "\n",
       "    .dataframe tbody tr th {\n",
       "        vertical-align: top;\n",
       "    }\n",
       "\n",
       "    .dataframe thead th {\n",
       "        text-align: right;\n",
       "    }\n",
       "</style>\n",
       "<table border=\"1\" class=\"dataframe\">\n",
       "  <thead>\n",
       "    <tr style=\"text-align: right;\">\n",
       "      <th></th>\n",
       "      <th>Manufacturer</th>\n",
       "      <th>Category</th>\n",
       "      <th>Type_of_Screen</th>\n",
       "      <th>GPU</th>\n",
       "      <th>OS</th>\n",
       "      <th>CPU_core</th>\n",
       "      <th>Screen_Size_CM</th>\n",
       "      <th>CPU_frequency</th>\n",
       "      <th>RAM_GB</th>\n",
       "      <th>Storage_GB_SSD</th>\n",
       "      <th>Weight_kg</th>\n",
       "      <th>Price</th>\n",
       "    </tr>\n",
       "  </thead>\n",
       "  <tbody>\n",
       "    <tr>\n",
       "      <th>0</th>\n",
       "      <td>Acer</td>\n",
       "      <td>4</td>\n",
       "      <td>IPS Panel</td>\n",
       "      <td>2</td>\n",
       "      <td>1</td>\n",
       "      <td>5</td>\n",
       "      <td>35.56</td>\n",
       "      <td>1.6</td>\n",
       "      <td>8</td>\n",
       "      <td>256</td>\n",
       "      <td>1.6</td>\n",
       "      <td>978</td>\n",
       "    </tr>\n",
       "    <tr>\n",
       "      <th>1</th>\n",
       "      <td>Dell</td>\n",
       "      <td>3</td>\n",
       "      <td>Full HD</td>\n",
       "      <td>1</td>\n",
       "      <td>1</td>\n",
       "      <td>3</td>\n",
       "      <td>39.624</td>\n",
       "      <td>2.0</td>\n",
       "      <td>4</td>\n",
       "      <td>256</td>\n",
       "      <td>2.2</td>\n",
       "      <td>634</td>\n",
       "    </tr>\n",
       "    <tr>\n",
       "      <th>2</th>\n",
       "      <td>Dell</td>\n",
       "      <td>3</td>\n",
       "      <td>Full HD</td>\n",
       "      <td>1</td>\n",
       "      <td>1</td>\n",
       "      <td>7</td>\n",
       "      <td>39.624</td>\n",
       "      <td>2.7</td>\n",
       "      <td>8</td>\n",
       "      <td>256</td>\n",
       "      <td>2.2</td>\n",
       "      <td>946</td>\n",
       "    </tr>\n",
       "    <tr>\n",
       "      <th>3</th>\n",
       "      <td>Dell</td>\n",
       "      <td>4</td>\n",
       "      <td>IPS Panel</td>\n",
       "      <td>2</td>\n",
       "      <td>1</td>\n",
       "      <td>5</td>\n",
       "      <td>33.782</td>\n",
       "      <td>1.6</td>\n",
       "      <td>8</td>\n",
       "      <td>128</td>\n",
       "      <td>1.22</td>\n",
       "      <td>1244</td>\n",
       "    </tr>\n",
       "    <tr>\n",
       "      <th>4</th>\n",
       "      <td>HP</td>\n",
       "      <td>4</td>\n",
       "      <td>Full HD</td>\n",
       "      <td>2</td>\n",
       "      <td>1</td>\n",
       "      <td>7</td>\n",
       "      <td>39.624</td>\n",
       "      <td>1.8</td>\n",
       "      <td>8</td>\n",
       "      <td>256</td>\n",
       "      <td>1.91</td>\n",
       "      <td>837</td>\n",
       "    </tr>\n",
       "  </tbody>\n",
       "</table>\n",
       "</div>"
      ],
      "text/plain": [
       "  Manufacturer  Category Type_of_Screen  GPU  OS  CPU_core Screen_Size_CM  \\\n",
       "0         Acer         4      IPS Panel    2   1         5          35.56   \n",
       "1         Dell         3        Full HD    1   1         3         39.624   \n",
       "2         Dell         3        Full HD    1   1         7         39.624   \n",
       "3         Dell         4      IPS Panel    2   1         5         33.782   \n",
       "4           HP         4        Full HD    2   1         7         39.624   \n",
       "\n",
       "   CPU_frequency  RAM_GB  Storage_GB_SSD Weight_kg  Price  \n",
       "0            1.6       8             256       1.6    978  \n",
       "1            2.0       4             256       2.2    634  \n",
       "2            2.7       8             256       2.2    946  \n",
       "3            1.6       8             128      1.22   1244  \n",
       "4            1.8       8             256      1.91    837  "
      ]
     },
     "execution_count": 10,
     "metadata": {},
     "output_type": "execute_result"
    }
   ],
   "source": [
    "df.head(5)"
   ]
  },
  {
   "cell_type": "code",
   "execution_count": 11,
   "id": "3e2f4e38-1b0f-46b2-b4ff-21a4f06f78b5",
   "metadata": {},
   "outputs": [
    {
     "name": "stdout",
     "output_type": "stream",
     "text": [
      "<class 'pandas.core.frame.DataFrame'>\n",
      "RangeIndex: 238 entries, 0 to 237\n",
      "Data columns (total 12 columns):\n",
      " #   Column          Non-Null Count  Dtype  \n",
      "---  ------          --------------  -----  \n",
      " 0   Manufacturer    238 non-null    object \n",
      " 1   Category        238 non-null    int64  \n",
      " 2   Type_of_Screen  238 non-null    object \n",
      " 3   GPU             238 non-null    int64  \n",
      " 4   OS              238 non-null    int64  \n",
      " 5   CPU_core        238 non-null    int64  \n",
      " 6   Screen_Size_CM  238 non-null    object \n",
      " 7   CPU_frequency   238 non-null    float64\n",
      " 8   RAM_GB          238 non-null    int64  \n",
      " 9   Storage_GB_SSD  238 non-null    int64  \n",
      " 10  Weight_kg       238 non-null    object \n",
      " 11  Price           238 non-null    int64  \n",
      "dtypes: float64(1), int64(7), object(4)\n",
      "memory usage: 22.4+ KB\n"
     ]
    }
   ],
   "source": [
    "df.info()"
   ]
  },
  {
   "cell_type": "code",
   "execution_count": 12,
   "id": "37a3c082-fc68-438e-9dd9-c17b3821dda1",
   "metadata": {},
   "outputs": [
    {
     "data": {
      "text/plain": [
       "(238, 12)"
      ]
     },
     "execution_count": 12,
     "metadata": {},
     "output_type": "execute_result"
    }
   ],
   "source": [
    "df.shape"
   ]
  },
  {
   "cell_type": "code",
   "execution_count": 13,
   "id": "d943d2d3-8de1-46b1-98d3-73cee2d2511d",
   "metadata": {},
   "outputs": [
    {
     "data": {
      "text/plain": [
       "Index(['Manufacturer', 'Category', 'Type_of_Screen', 'GPU', 'OS', 'CPU_core',\n",
       "       'Screen_Size_CM', 'CPU_frequency', 'RAM_GB', 'Storage_GB_SSD',\n",
       "       'Weight_kg', 'Price'],\n",
       "      dtype='object')"
      ]
     },
     "execution_count": 13,
     "metadata": {},
     "output_type": "execute_result"
    }
   ],
   "source": [
    "df.columns"
   ]
  },
  {
   "cell_type": "code",
   "execution_count": 14,
   "id": "275e9e73-d600-468a-998a-275fe2ce8e9e",
   "metadata": {},
   "outputs": [
    {
     "data": {
      "text/plain": [
       "Manufacturer       11\n",
       "Category            5\n",
       "Type_of_Screen      2\n",
       "GPU                 3\n",
       "OS                  2\n",
       "CPU_core            3\n",
       "Screen_Size_CM     10\n",
       "CPU_frequency      11\n",
       "RAM_GB              5\n",
       "Storage_GB_SSD      2\n",
       "Weight_kg          78\n",
       "Price             193\n",
       "dtype: int64"
      ]
     },
     "execution_count": 14,
     "metadata": {},
     "output_type": "execute_result"
    }
   ],
   "source": [
    "df.nunique()"
   ]
  },
  {
   "cell_type": "code",
   "execution_count": 15,
   "id": "03c9197e-588d-4af8-bc85-32f30f26ab61",
   "metadata": {},
   "outputs": [
    {
     "data": {
      "text/plain": [
       "CPU_frequency\n",
       "2.5    71\n",
       "2.7    43\n",
       "1.6    30\n",
       "2.8    25\n",
       "1.8    23\n",
       "2.6    11\n",
       "2.3    11\n",
       "2.4    10\n",
       "2.0     9\n",
       "2.9     4\n",
       "1.2     1\n",
       "Name: count, dtype: int64"
      ]
     },
     "execution_count": 15,
     "metadata": {},
     "output_type": "execute_result"
    }
   ],
   "source": [
    "df[\"CPU_frequency\"].value_counts()"
   ]
  },
  {
   "cell_type": "code",
   "execution_count": 16,
   "id": "5e5521c8-daa1-4b32-ac6a-03d72329efdc",
   "metadata": {},
   "outputs": [
    {
     "data": {
      "text/plain": [
       "Manufacturer      0\n",
       "Category          0\n",
       "Type_of_Screen    0\n",
       "GPU               0\n",
       "OS                0\n",
       "CPU_core          0\n",
       "Screen_Size_CM    0\n",
       "CPU_frequency     0\n",
       "RAM_GB            0\n",
       "Storage_GB_SSD    0\n",
       "Weight_kg         0\n",
       "Price             0\n",
       "dtype: int64"
      ]
     },
     "execution_count": 16,
     "metadata": {},
     "output_type": "execute_result"
    }
   ],
   "source": [
    "df.isnull().sum()"
   ]
  },
  {
   "cell_type": "code",
   "execution_count": 17,
   "id": "d6e6dea2-3e8d-4440-a743-4f35264215dc",
   "metadata": {},
   "outputs": [
    {
     "data": {
      "text/plain": [
       "Manufacturer      0\n",
       "Category          0\n",
       "Type_of_Screen    0\n",
       "GPU               0\n",
       "OS                0\n",
       "CPU_core          0\n",
       "Screen_Size_CM    0\n",
       "CPU_frequency     0\n",
       "RAM_GB            0\n",
       "Storage_GB_SSD    0\n",
       "Weight_kg         0\n",
       "Price             0\n",
       "dtype: int64"
      ]
     },
     "execution_count": 17,
     "metadata": {},
     "output_type": "execute_result"
    }
   ],
   "source": [
    "df.isna().sum()"
   ]
  },
  {
   "cell_type": "code",
   "execution_count": 18,
   "id": "87c3755a-055f-4e8c-8a6a-f5ada7302b5f",
   "metadata": {},
   "outputs": [
    {
     "data": {
      "text/plain": [
       "Manufacturer       object\n",
       "Category            int64\n",
       "Type_of_Screen     object\n",
       "GPU                 int64\n",
       "OS                  int64\n",
       "CPU_core            int64\n",
       "Screen_Size_CM     object\n",
       "CPU_frequency     float64\n",
       "RAM_GB              int64\n",
       "Storage_GB_SSD      int64\n",
       "Weight_kg          object\n",
       "Price               int64\n",
       "dtype: object"
      ]
     },
     "execution_count": 18,
     "metadata": {},
     "output_type": "execute_result"
    }
   ],
   "source": [
    "df.dtypes"
   ]
  },
  {
   "cell_type": "code",
   "execution_count": 19,
   "id": "b8b76555-30ee-4729-971a-59bb93b0521e",
   "metadata": {},
   "outputs": [
    {
     "name": "stdout",
     "output_type": "stream",
     "text": [
      "Unique values in Manufacturer: ['Acer' 'Dell' 'HP' 'Asus' 'Lenovo' 'Huawei' 'Toshiba' 'MSI' 'Razer'\n",
      " 'Samsung' 'Xiaomi']\n",
      "Unique values in Category: [4 3 1 5 2]\n",
      "Unique values in Type_of_Screen: ['IPS Panel' 'Full HD']\n",
      "Unique values in GPU: [2 1 3]\n",
      "Unique values in OS: [1 2]\n",
      "Unique values in CPU_core: [5 3 7]\n",
      "Unique values in Screen_Size_CM: ['35.56' '39.624' '33.782' '38.1' '33.02' '43.942' '43.18' '31.75' '30.48'\n",
      " '?']\n",
      "Unique values in CPU_frequency: [1.6 2.  2.7 1.8 2.5 2.4 2.8 1.2 2.9 2.6 2.3]\n",
      "Unique values in RAM_GB: [ 8  4  6 16 12]\n",
      "Unique values in Storage_GB_SSD: [256 128]\n",
      "Unique values in Weight_kg: ['1.6' '2.2' '1.22' '1.91' '2.1' '2.3' '2.13' '2' '1.7' '1.4' '1.86'\n",
      " '1.88' '1.63' '1.83' '1.96' '1.21' '2.65' '1.25' '1.38' '?' '1.3' '1.58'\n",
      " '2.5' '1.75' '1.48' '3' '1.05' '1.12' '1.2' '2.56' '3.6' '1.41' '2.05'\n",
      " '1.95' '3.42' '1.1' '1.26' '1.84' '2.6' '1.36' '2.33' '1.5' '2.7' '1.9'\n",
      " '1.43' '2.31' '1.64' '2.17' '1.65' '2.67' '1.42' '1.78' '1.49' '1.44'\n",
      " '1.29' '2.04' '1.32' '2.02' '1.93' '1.87' '3.4' '2.06' '2.18' '1.8'\n",
      " '1.56' '2.63' '0.81' '2.59' '1.18' '1.31' '2.62' '3.14' '2.37' '2.4'\n",
      " '1.23' '1.28' '1.17' '1.47']\n",
      "Unique values in Price: [ 978  634  946 1244  837 1016 1117  866  812 1068  975  558  527 1195\n",
      "  876 1213 1105 1392 1092  888  761 2095 1518 1333  616  733  913 1421\n",
      " 1515 1880 2069 1420 1179 1123  727 1255 1418 1396 1374  786 1023  925\n",
      " 1371 1085 1714 1172 1777 1256 1327 1841 1184 1310 1460  860 1731 1057\n",
      "  977 1091 1142 1075 3810  892 1206 1118  934 1053  735 1208 1394 1241\n",
      " 2323  939 3665 1325 1269 1245 1641 1390 1334 1696 1198 1611 1453 1452\n",
      " 2006 1656 2208 1813 1200 2223  697 2712  989 1562 1192 1905 1544 1283\n",
      "  710  951 1815 1498 1306 2509 1709 2655 2340 3059 2124  922 1286 1157\n",
      " 1129 1626 1702 1749 1739 1013  935  896 1419  800 1054 1953 2125 1872\n",
      " 2240 1548  723 1861 2312 1167 3301 1541 2012 1842 1561 1598 1442 1650\n",
      " 1268 1236 1010 1513 1383 1089 1524 1904 1219 3073 1950  685 2414 1983\n",
      " 2361 2031 1501  808 1251 2623 1003 1523 1507 2096 2417 1000 1632 1146\n",
      " 1763 2349 2147 1188 1066 1607 2158 2285 1874 1531 1002 1294 1119 1648\n",
      " 1480 1404 2120 2082 1870 2255 1855 1891 2236  883 1499]\n"
     ]
    }
   ],
   "source": [
    "for column in df.columns:\n",
    "    print(f'Unique values in {column}: {df[column].unique()}')"
   ]
  },
  {
   "cell_type": "markdown",
   "id": "1eed2c38-ec14-48c0-bbb5-35995d43b1db",
   "metadata": {
    "jp-MarkdownHeadingCollapsed": true
   },
   "source": [
    "## Handling Missing Values"
   ]
  },
  {
   "cell_type": "markdown",
   "id": "754c3e9e-e67b-415a-8686-662afcf5a594",
   "metadata": {},
   "source": [
    "Here I found \"?\" to be unknown hence replacing it with np.NaN"
   ]
  },
  {
   "cell_type": "code",
   "execution_count": 22,
   "id": "e9620219-d6ea-4d61-a843-014893e26a6f",
   "metadata": {},
   "outputs": [],
   "source": [
    "df.replace(\"?\", np.NaN, inplace = True)"
   ]
  },
  {
   "cell_type": "markdown",
   "id": "a857e640-b48f-4457-b725-52c64d57c9ba",
   "metadata": {},
   "source": [
    "Checking for Non- Numeric Values in Numeric columns"
   ]
  },
  {
   "cell_type": "code",
   "execution_count": 24,
   "id": "1afed6bd-6ab6-4a1d-833d-da0a1527d7fa",
   "metadata": {},
   "outputs": [],
   "source": [
    "for column in df.select_dtypes(include=[np.number]).columns:\n",
    "        non_numeric = df[pd.to_numeric(df[column], errors='coerce').isna()]\n",
    "        if not non_numeric.empty:\n",
    "            print(f'Non-numeric values in {column}:\\n', non_numeric)"
   ]
  },
  {
   "cell_type": "markdown",
   "id": "b2f82ab9-ae3f-41ee-a735-1144fbb48f98",
   "metadata": {},
   "source": [
    "There are no non numeric values in any numeric columns"
   ]
  },
  {
   "cell_type": "code",
   "execution_count": 26,
   "id": "ab8a5517-d988-412b-baac-15de2096aa5a",
   "metadata": {
    "scrolled": true
   },
   "outputs": [
    {
     "data": {
      "text/html": [
       "<div>\n",
       "<style scoped>\n",
       "    .dataframe tbody tr th:only-of-type {\n",
       "        vertical-align: middle;\n",
       "    }\n",
       "\n",
       "    .dataframe tbody tr th {\n",
       "        vertical-align: top;\n",
       "    }\n",
       "\n",
       "    .dataframe thead th {\n",
       "        text-align: right;\n",
       "    }\n",
       "</style>\n",
       "<table border=\"1\" class=\"dataframe\">\n",
       "  <thead>\n",
       "    <tr style=\"text-align: right;\">\n",
       "      <th></th>\n",
       "      <th>Manufacturer</th>\n",
       "      <th>Category</th>\n",
       "      <th>Type_of_Screen</th>\n",
       "      <th>GPU</th>\n",
       "      <th>OS</th>\n",
       "      <th>CPU_core</th>\n",
       "      <th>Screen_Size_CM</th>\n",
       "      <th>CPU_frequency</th>\n",
       "      <th>RAM_GB</th>\n",
       "      <th>Storage_GB_SSD</th>\n",
       "      <th>Weight_kg</th>\n",
       "      <th>Price</th>\n",
       "    </tr>\n",
       "  </thead>\n",
       "  <tbody>\n",
       "    <tr>\n",
       "      <th>count</th>\n",
       "      <td>238</td>\n",
       "      <td>238.000000</td>\n",
       "      <td>238</td>\n",
       "      <td>238.000000</td>\n",
       "      <td>238.000000</td>\n",
       "      <td>238.000000</td>\n",
       "      <td>234</td>\n",
       "      <td>238.000000</td>\n",
       "      <td>238.000000</td>\n",
       "      <td>238.000000</td>\n",
       "      <td>233</td>\n",
       "      <td>238.000000</td>\n",
       "    </tr>\n",
       "    <tr>\n",
       "      <th>unique</th>\n",
       "      <td>11</td>\n",
       "      <td>NaN</td>\n",
       "      <td>2</td>\n",
       "      <td>NaN</td>\n",
       "      <td>NaN</td>\n",
       "      <td>NaN</td>\n",
       "      <td>9</td>\n",
       "      <td>NaN</td>\n",
       "      <td>NaN</td>\n",
       "      <td>NaN</td>\n",
       "      <td>77</td>\n",
       "      <td>NaN</td>\n",
       "    </tr>\n",
       "    <tr>\n",
       "      <th>top</th>\n",
       "      <td>Dell</td>\n",
       "      <td>NaN</td>\n",
       "      <td>Full HD</td>\n",
       "      <td>NaN</td>\n",
       "      <td>NaN</td>\n",
       "      <td>NaN</td>\n",
       "      <td>39.624</td>\n",
       "      <td>NaN</td>\n",
       "      <td>NaN</td>\n",
       "      <td>NaN</td>\n",
       "      <td>2.2</td>\n",
       "      <td>NaN</td>\n",
       "    </tr>\n",
       "    <tr>\n",
       "      <th>freq</th>\n",
       "      <td>71</td>\n",
       "      <td>NaN</td>\n",
       "      <td>161</td>\n",
       "      <td>NaN</td>\n",
       "      <td>NaN</td>\n",
       "      <td>NaN</td>\n",
       "      <td>89</td>\n",
       "      <td>NaN</td>\n",
       "      <td>NaN</td>\n",
       "      <td>NaN</td>\n",
       "      <td>21</td>\n",
       "      <td>NaN</td>\n",
       "    </tr>\n",
       "    <tr>\n",
       "      <th>mean</th>\n",
       "      <td>NaN</td>\n",
       "      <td>3.205882</td>\n",
       "      <td>NaN</td>\n",
       "      <td>2.151261</td>\n",
       "      <td>1.058824</td>\n",
       "      <td>5.630252</td>\n",
       "      <td>NaN</td>\n",
       "      <td>2.360084</td>\n",
       "      <td>7.882353</td>\n",
       "      <td>245.781513</td>\n",
       "      <td>NaN</td>\n",
       "      <td>1462.344538</td>\n",
       "    </tr>\n",
       "    <tr>\n",
       "      <th>std</th>\n",
       "      <td>NaN</td>\n",
       "      <td>0.776533</td>\n",
       "      <td>NaN</td>\n",
       "      <td>0.638282</td>\n",
       "      <td>0.235790</td>\n",
       "      <td>1.241787</td>\n",
       "      <td>NaN</td>\n",
       "      <td>0.411393</td>\n",
       "      <td>2.482603</td>\n",
       "      <td>34.765316</td>\n",
       "      <td>NaN</td>\n",
       "      <td>574.607699</td>\n",
       "    </tr>\n",
       "    <tr>\n",
       "      <th>min</th>\n",
       "      <td>NaN</td>\n",
       "      <td>1.000000</td>\n",
       "      <td>NaN</td>\n",
       "      <td>1.000000</td>\n",
       "      <td>1.000000</td>\n",
       "      <td>3.000000</td>\n",
       "      <td>NaN</td>\n",
       "      <td>1.200000</td>\n",
       "      <td>4.000000</td>\n",
       "      <td>128.000000</td>\n",
       "      <td>NaN</td>\n",
       "      <td>527.000000</td>\n",
       "    </tr>\n",
       "    <tr>\n",
       "      <th>25%</th>\n",
       "      <td>NaN</td>\n",
       "      <td>3.000000</td>\n",
       "      <td>NaN</td>\n",
       "      <td>2.000000</td>\n",
       "      <td>1.000000</td>\n",
       "      <td>5.000000</td>\n",
       "      <td>NaN</td>\n",
       "      <td>2.000000</td>\n",
       "      <td>8.000000</td>\n",
       "      <td>256.000000</td>\n",
       "      <td>NaN</td>\n",
       "      <td>1066.500000</td>\n",
       "    </tr>\n",
       "    <tr>\n",
       "      <th>50%</th>\n",
       "      <td>NaN</td>\n",
       "      <td>3.000000</td>\n",
       "      <td>NaN</td>\n",
       "      <td>2.000000</td>\n",
       "      <td>1.000000</td>\n",
       "      <td>5.000000</td>\n",
       "      <td>NaN</td>\n",
       "      <td>2.500000</td>\n",
       "      <td>8.000000</td>\n",
       "      <td>256.000000</td>\n",
       "      <td>NaN</td>\n",
       "      <td>1333.000000</td>\n",
       "    </tr>\n",
       "    <tr>\n",
       "      <th>75%</th>\n",
       "      <td>NaN</td>\n",
       "      <td>4.000000</td>\n",
       "      <td>NaN</td>\n",
       "      <td>3.000000</td>\n",
       "      <td>1.000000</td>\n",
       "      <td>7.000000</td>\n",
       "      <td>NaN</td>\n",
       "      <td>2.700000</td>\n",
       "      <td>8.000000</td>\n",
       "      <td>256.000000</td>\n",
       "      <td>NaN</td>\n",
       "      <td>1777.000000</td>\n",
       "    </tr>\n",
       "    <tr>\n",
       "      <th>max</th>\n",
       "      <td>NaN</td>\n",
       "      <td>5.000000</td>\n",
       "      <td>NaN</td>\n",
       "      <td>3.000000</td>\n",
       "      <td>2.000000</td>\n",
       "      <td>7.000000</td>\n",
       "      <td>NaN</td>\n",
       "      <td>2.900000</td>\n",
       "      <td>16.000000</td>\n",
       "      <td>256.000000</td>\n",
       "      <td>NaN</td>\n",
       "      <td>3810.000000</td>\n",
       "    </tr>\n",
       "  </tbody>\n",
       "</table>\n",
       "</div>"
      ],
      "text/plain": [
       "       Manufacturer    Category Type_of_Screen         GPU          OS  \\\n",
       "count           238  238.000000            238  238.000000  238.000000   \n",
       "unique           11         NaN              2         NaN         NaN   \n",
       "top            Dell         NaN        Full HD         NaN         NaN   \n",
       "freq             71         NaN            161         NaN         NaN   \n",
       "mean            NaN    3.205882            NaN    2.151261    1.058824   \n",
       "std             NaN    0.776533            NaN    0.638282    0.235790   \n",
       "min             NaN    1.000000            NaN    1.000000    1.000000   \n",
       "25%             NaN    3.000000            NaN    2.000000    1.000000   \n",
       "50%             NaN    3.000000            NaN    2.000000    1.000000   \n",
       "75%             NaN    4.000000            NaN    3.000000    1.000000   \n",
       "max             NaN    5.000000            NaN    3.000000    2.000000   \n",
       "\n",
       "          CPU_core Screen_Size_CM  CPU_frequency      RAM_GB  Storage_GB_SSD  \\\n",
       "count   238.000000            234     238.000000  238.000000      238.000000   \n",
       "unique         NaN              9            NaN         NaN             NaN   \n",
       "top            NaN         39.624            NaN         NaN             NaN   \n",
       "freq           NaN             89            NaN         NaN             NaN   \n",
       "mean      5.630252            NaN       2.360084    7.882353      245.781513   \n",
       "std       1.241787            NaN       0.411393    2.482603       34.765316   \n",
       "min       3.000000            NaN       1.200000    4.000000      128.000000   \n",
       "25%       5.000000            NaN       2.000000    8.000000      256.000000   \n",
       "50%       5.000000            NaN       2.500000    8.000000      256.000000   \n",
       "75%       7.000000            NaN       2.700000    8.000000      256.000000   \n",
       "max       7.000000            NaN       2.900000   16.000000      256.000000   \n",
       "\n",
       "       Weight_kg        Price  \n",
       "count        233   238.000000  \n",
       "unique        77          NaN  \n",
       "top          2.2          NaN  \n",
       "freq          21          NaN  \n",
       "mean         NaN  1462.344538  \n",
       "std          NaN   574.607699  \n",
       "min          NaN   527.000000  \n",
       "25%          NaN  1066.500000  \n",
       "50%          NaN  1333.000000  \n",
       "75%          NaN  1777.000000  \n",
       "max          NaN  3810.000000  "
      ]
     },
     "execution_count": 26,
     "metadata": {},
     "output_type": "execute_result"
    }
   ],
   "source": [
    "df.describe(include = \"all\")"
   ]
  },
  {
   "cell_type": "markdown",
   "id": "09b58e88-19ec-49b1-86c1-f03ab7a10f54",
   "metadata": {
    "jp-MarkdownHeadingCollapsed": true
   },
   "source": [
    "## Data Formatting"
   ]
  },
  {
   "cell_type": "markdown",
   "id": "af56e285-3527-44fb-a30c-762dde20c1ae",
   "metadata": {},
   "source": [
    "Here Screen_Size_inch, Weight_kg should be of float type hence converting their data type"
   ]
  },
  {
   "cell_type": "code",
   "execution_count": 29,
   "id": "fa8f9024-09ec-452f-b245-070029924f98",
   "metadata": {},
   "outputs": [],
   "source": [
    "df[\"Screen_Size_CM\"] = df[\"Screen_Size_CM\"].astype(\"float64\")"
   ]
  },
  {
   "cell_type": "code",
   "execution_count": 30,
   "id": "7a9c0a2a-bba7-43b8-8267-957de628edbf",
   "metadata": {},
   "outputs": [],
   "source": [
    "df[\"Weight_kg\"] = df[\"Weight_kg\"].astype(\"float64\")"
   ]
  },
  {
   "cell_type": "code",
   "execution_count": 31,
   "id": "8c92abfe-5a90-4857-874d-6c0cb5f1cdd0",
   "metadata": {},
   "outputs": [
    {
     "data": {
      "text/plain": [
       "Manufacturer       object\n",
       "Category            int64\n",
       "Type_of_Screen     object\n",
       "GPU                 int64\n",
       "OS                  int64\n",
       "CPU_core            int64\n",
       "Screen_Size_CM    float64\n",
       "CPU_frequency     float64\n",
       "RAM_GB              int64\n",
       "Storage_GB_SSD      int64\n",
       "Weight_kg         float64\n",
       "Price               int64\n",
       "dtype: object"
      ]
     },
     "execution_count": 31,
     "metadata": {},
     "output_type": "execute_result"
    }
   ],
   "source": [
    "df.dtypes"
   ]
  },
  {
   "cell_type": "markdown",
   "id": "e30005ea-e384-4f23-8809-eef585ddba0c",
   "metadata": {},
   "source": [
    "Checking for Non- Numeric Values in Numeric columns"
   ]
  },
  {
   "cell_type": "code",
   "execution_count": 33,
   "id": "6a14c112-d7fd-4b4b-8d2b-de5d2b935b18",
   "metadata": {},
   "outputs": [
    {
     "name": "stdout",
     "output_type": "stream",
     "text": [
      "Non-numeric values in Screen_Size_CM:\n",
      "     Manufacturer  Category Type_of_Screen  GPU  OS  CPU_core  Screen_Size_CM  \\\n",
      "120         Dell         4        Full HD    2   1         5             NaN   \n",
      "151         Dell         5        Full HD    3   1         7             NaN   \n",
      "187      Samsung         4        Full HD    2   1         7             NaN   \n",
      "230         Dell         4        Full HD    2   1         5             NaN   \n",
      "\n",
      "     CPU_frequency  RAM_GB  Storage_GB_SSD  Weight_kg  Price  \n",
      "120            1.6       8             256       1.42   2340  \n",
      "151            2.8       8             256       2.06   2240  \n",
      "187            2.7       8             256       1.31   2031  \n",
      "230            2.5       8             256       1.36   1870  \n",
      "Non-numeric values in Weight_kg:\n",
      "    Manufacturer  Category Type_of_Screen  GPU  OS  CPU_core  Screen_Size_CM  \\\n",
      "29           HP         3      IPS Panel    3   1         5          35.560   \n",
      "38           HP         3      IPS Panel    2   1         5          33.020   \n",
      "49         Dell         4        Full HD    2   1         5          33.782   \n",
      "61         Dell         3        Full HD    1   2         7          39.624   \n",
      "68         Dell         3        Full HD    1   2         7          39.624   \n",
      "\n",
      "    CPU_frequency  RAM_GB  Storage_GB_SSD  Weight_kg  Price  \n",
      "29            2.5       6             256        NaN    837  \n",
      "38            2.5       4             256        NaN    888  \n",
      "49            1.6       8             256        NaN   1777  \n",
      "61            2.7      16             256        NaN   1142  \n",
      "68            1.8       8             256        NaN    934  \n"
     ]
    }
   ],
   "source": [
    "for column in df.select_dtypes(include=[np.number]).columns:\n",
    "        non_numeric = df[pd.to_numeric(df[column], errors='coerce').isna()]\n",
    "        if not non_numeric.empty:\n",
    "            print(f'Non-numeric values in {column}:\\n', non_numeric)"
   ]
  },
  {
   "cell_type": "markdown",
   "id": "6c02e0c6-0357-4bc9-9706-a4c08970e01e",
   "metadata": {},
   "source": [
    "Checking for NULL Values"
   ]
  },
  {
   "cell_type": "code",
   "execution_count": 35,
   "id": "fb10dd74-b32a-41d1-8312-bf7b84cad166",
   "metadata": {},
   "outputs": [
    {
     "data": {
      "text/plain": [
       "Manufacturer      0\n",
       "Category          0\n",
       "Type_of_Screen    0\n",
       "GPU               0\n",
       "OS                0\n",
       "CPU_core          0\n",
       "Screen_Size_CM    4\n",
       "CPU_frequency     0\n",
       "RAM_GB            0\n",
       "Storage_GB_SSD    0\n",
       "Weight_kg         5\n",
       "Price             0\n",
       "dtype: int64"
      ]
     },
     "execution_count": 35,
     "metadata": {},
     "output_type": "execute_result"
    }
   ],
   "source": [
    "df.isnull().sum()"
   ]
  },
  {
   "cell_type": "markdown",
   "id": "3ba68423-f9e3-4444-8908-552bd5babedb",
   "metadata": {
    "jp-MarkdownHeadingCollapsed": true
   },
   "source": [
    "## Data Cleaning"
   ]
  },
  {
   "cell_type": "code",
   "execution_count": 37,
   "id": "7c4e9d32-17b9-4bf7-a53e-b48b6be93176",
   "metadata": {},
   "outputs": [
    {
     "data": {
      "text/plain": [
       "0    39.624\n",
       "Name: Screen_Size_CM, dtype: float64"
      ]
     },
     "execution_count": 37,
     "metadata": {},
     "output_type": "execute_result"
    }
   ],
   "source": [
    "mode_Screen_Size_CM = df[\"Screen_Size_CM\"].mode()\n",
    "mode_Screen_Size_CM\n",
    "# we see values in Screen_Size_inch are categorical in nature hence we replce NaN with most frequent value"
   ]
  },
  {
   "cell_type": "code",
   "execution_count": 38,
   "id": "32e53946-0b37-47ec-b8b8-07f44dc44fc2",
   "metadata": {},
   "outputs": [],
   "source": [
    "df[\"Screen_Size_CM\"].replace(np.NaN,mode_Screen_Size_CM[0], inplace = True)"
   ]
  },
  {
   "cell_type": "code",
   "execution_count": 39,
   "id": "64efd685-be64-4301-82e1-ca5491ca67bb",
   "metadata": {},
   "outputs": [],
   "source": [
    "mean_Weight_kg = df[\"Weight_kg\"].mean()"
   ]
  },
  {
   "cell_type": "code",
   "execution_count": 40,
   "id": "53fb30a0-f76e-41df-9d80-4d4130e50471",
   "metadata": {},
   "outputs": [],
   "source": [
    "df[\"Weight_kg\"].replace(np.NaN,mean_Weight_kg, inplace = True)"
   ]
  },
  {
   "cell_type": "code",
   "execution_count": 41,
   "id": "e660dd44-7e60-4938-a84a-a8abec6a8ea3",
   "metadata": {},
   "outputs": [
    {
     "data": {
      "text/plain": [
       "Manufacturer      0\n",
       "Category          0\n",
       "Type_of_Screen    0\n",
       "GPU               0\n",
       "OS                0\n",
       "CPU_core          0\n",
       "Screen_Size_CM    0\n",
       "CPU_frequency     0\n",
       "RAM_GB            0\n",
       "Storage_GB_SSD    0\n",
       "Weight_kg         0\n",
       "Price             0\n",
       "dtype: int64"
      ]
     },
     "execution_count": 41,
     "metadata": {},
     "output_type": "execute_result"
    }
   ],
   "source": [
    "df.isnull().sum()"
   ]
  },
  {
   "cell_type": "markdown",
   "id": "53c33738-59a4-4641-8186-fcec10c96b47",
   "metadata": {
    "jp-MarkdownHeadingCollapsed": true
   },
   "source": [
    "## Writing the New File to another CSV File"
   ]
  },
  {
   "cell_type": "code",
   "execution_count": 43,
   "id": "2544ece2-2333-4907-8c0b-76bf9b1fb4d5",
   "metadata": {},
   "outputs": [],
   "source": [
    "file_path = \"/Users/vythreynarayanam/Downloads/Laptop_Pricing/eda_with_python_laptop_pricing/laptop_pricing.csv\""
   ]
  },
  {
   "cell_type": "code",
   "execution_count": 44,
   "id": "e661bc2c-7b08-470d-8f5e-12953454b252",
   "metadata": {},
   "outputs": [
    {
     "name": "stdout",
     "output_type": "stream",
     "text": [
      "Deleted existing file: /Users/vythreynarayanam/Downloads/Laptop_Pricing/eda_with_python_laptop_pricing/laptop_pricing.csv\n"
     ]
    }
   ],
   "source": [
    "if os.path.exists(file_path):\n",
    "    os.remove(file_path)\n",
    "    print(f\"Deleted existing file: {file_path}\")"
   ]
  },
  {
   "cell_type": "code",
   "execution_count": 45,
   "id": "52378e2b-a616-4160-8c96-a92f52e0966c",
   "metadata": {},
   "outputs": [],
   "source": [
    "df.to_csv(file_path, index = False)"
   ]
  },
  {
   "cell_type": "code",
   "execution_count": 46,
   "id": "dfeb85cb-e637-44f9-bf42-1585a6ee2097",
   "metadata": {},
   "outputs": [],
   "source": [
    "laptop_pricing = pd.read_csv(\"/Users/vythreynarayanam/Downloads/Laptop_Pricing/eda_with_python_laptop_pricing/laptop_pricing.csv\")"
   ]
  },
  {
   "cell_type": "code",
   "execution_count": 47,
   "id": "94f3aa5d-b131-460b-a487-e23a1251d4f1",
   "metadata": {},
   "outputs": [
    {
     "data": {
      "text/html": [
       "<div>\n",
       "<style scoped>\n",
       "    .dataframe tbody tr th:only-of-type {\n",
       "        vertical-align: middle;\n",
       "    }\n",
       "\n",
       "    .dataframe tbody tr th {\n",
       "        vertical-align: top;\n",
       "    }\n",
       "\n",
       "    .dataframe thead th {\n",
       "        text-align: right;\n",
       "    }\n",
       "</style>\n",
       "<table border=\"1\" class=\"dataframe\">\n",
       "  <thead>\n",
       "    <tr style=\"text-align: right;\">\n",
       "      <th></th>\n",
       "      <th>Manufacturer</th>\n",
       "      <th>Category</th>\n",
       "      <th>Type_of_Screen</th>\n",
       "      <th>GPU</th>\n",
       "      <th>OS</th>\n",
       "      <th>CPU_core</th>\n",
       "      <th>Screen_Size_CM</th>\n",
       "      <th>CPU_frequency</th>\n",
       "      <th>RAM_GB</th>\n",
       "      <th>Storage_GB_SSD</th>\n",
       "      <th>Weight_kg</th>\n",
       "      <th>Price</th>\n",
       "    </tr>\n",
       "  </thead>\n",
       "  <tbody>\n",
       "    <tr>\n",
       "      <th>0</th>\n",
       "      <td>Acer</td>\n",
       "      <td>4</td>\n",
       "      <td>IPS Panel</td>\n",
       "      <td>2</td>\n",
       "      <td>1</td>\n",
       "      <td>5</td>\n",
       "      <td>35.560</td>\n",
       "      <td>1.6</td>\n",
       "      <td>8</td>\n",
       "      <td>256</td>\n",
       "      <td>1.60</td>\n",
       "      <td>978</td>\n",
       "    </tr>\n",
       "    <tr>\n",
       "      <th>1</th>\n",
       "      <td>Dell</td>\n",
       "      <td>3</td>\n",
       "      <td>Full HD</td>\n",
       "      <td>1</td>\n",
       "      <td>1</td>\n",
       "      <td>3</td>\n",
       "      <td>39.624</td>\n",
       "      <td>2.0</td>\n",
       "      <td>4</td>\n",
       "      <td>256</td>\n",
       "      <td>2.20</td>\n",
       "      <td>634</td>\n",
       "    </tr>\n",
       "    <tr>\n",
       "      <th>2</th>\n",
       "      <td>Dell</td>\n",
       "      <td>3</td>\n",
       "      <td>Full HD</td>\n",
       "      <td>1</td>\n",
       "      <td>1</td>\n",
       "      <td>7</td>\n",
       "      <td>39.624</td>\n",
       "      <td>2.7</td>\n",
       "      <td>8</td>\n",
       "      <td>256</td>\n",
       "      <td>2.20</td>\n",
       "      <td>946</td>\n",
       "    </tr>\n",
       "    <tr>\n",
       "      <th>3</th>\n",
       "      <td>Dell</td>\n",
       "      <td>4</td>\n",
       "      <td>IPS Panel</td>\n",
       "      <td>2</td>\n",
       "      <td>1</td>\n",
       "      <td>5</td>\n",
       "      <td>33.782</td>\n",
       "      <td>1.6</td>\n",
       "      <td>8</td>\n",
       "      <td>128</td>\n",
       "      <td>1.22</td>\n",
       "      <td>1244</td>\n",
       "    </tr>\n",
       "    <tr>\n",
       "      <th>4</th>\n",
       "      <td>HP</td>\n",
       "      <td>4</td>\n",
       "      <td>Full HD</td>\n",
       "      <td>2</td>\n",
       "      <td>1</td>\n",
       "      <td>7</td>\n",
       "      <td>39.624</td>\n",
       "      <td>1.8</td>\n",
       "      <td>8</td>\n",
       "      <td>256</td>\n",
       "      <td>1.91</td>\n",
       "      <td>837</td>\n",
       "    </tr>\n",
       "  </tbody>\n",
       "</table>\n",
       "</div>"
      ],
      "text/plain": [
       "  Manufacturer  Category Type_of_Screen  GPU  OS  CPU_core  Screen_Size_CM  \\\n",
       "0         Acer         4      IPS Panel    2   1         5          35.560   \n",
       "1         Dell         3        Full HD    1   1         3          39.624   \n",
       "2         Dell         3        Full HD    1   1         7          39.624   \n",
       "3         Dell         4      IPS Panel    2   1         5          33.782   \n",
       "4           HP         4        Full HD    2   1         7          39.624   \n",
       "\n",
       "   CPU_frequency  RAM_GB  Storage_GB_SSD  Weight_kg  Price  \n",
       "0            1.6       8             256       1.60    978  \n",
       "1            2.0       4             256       2.20    634  \n",
       "2            2.7       8             256       2.20    946  \n",
       "3            1.6       8             128       1.22   1244  \n",
       "4            1.8       8             256       1.91    837  "
      ]
     },
     "execution_count": 47,
     "metadata": {},
     "output_type": "execute_result"
    }
   ],
   "source": [
    "laptop_pricing.head()"
   ]
  },
  {
   "cell_type": "code",
   "execution_count": 48,
   "id": "fc332e2f-99d9-4464-b339-f671743041d0",
   "metadata": {},
   "outputs": [
    {
     "data": {
      "text/html": [
       "<div>\n",
       "<style scoped>\n",
       "    .dataframe tbody tr th:only-of-type {\n",
       "        vertical-align: middle;\n",
       "    }\n",
       "\n",
       "    .dataframe tbody tr th {\n",
       "        vertical-align: top;\n",
       "    }\n",
       "\n",
       "    .dataframe thead th {\n",
       "        text-align: right;\n",
       "    }\n",
       "</style>\n",
       "<table border=\"1\" class=\"dataframe\">\n",
       "  <thead>\n",
       "    <tr style=\"text-align: right;\">\n",
       "      <th></th>\n",
       "      <th>Manufacturer</th>\n",
       "      <th>Category</th>\n",
       "      <th>Type_of_Screen</th>\n",
       "      <th>GPU</th>\n",
       "      <th>OS</th>\n",
       "      <th>CPU_core</th>\n",
       "      <th>Screen_Size_CM</th>\n",
       "      <th>CPU_frequency</th>\n",
       "      <th>RAM_GB</th>\n",
       "      <th>Storage_GB_SSD</th>\n",
       "      <th>Weight_kg</th>\n",
       "      <th>Price</th>\n",
       "    </tr>\n",
       "  </thead>\n",
       "  <tbody>\n",
       "    <tr>\n",
       "      <th>count</th>\n",
       "      <td>238</td>\n",
       "      <td>238.000000</td>\n",
       "      <td>238</td>\n",
       "      <td>238.000000</td>\n",
       "      <td>238.000000</td>\n",
       "      <td>238.000000</td>\n",
       "      <td>238.000000</td>\n",
       "      <td>238.000000</td>\n",
       "      <td>238.000000</td>\n",
       "      <td>238.000000</td>\n",
       "      <td>238.000000</td>\n",
       "      <td>238.000000</td>\n",
       "    </tr>\n",
       "    <tr>\n",
       "      <th>unique</th>\n",
       "      <td>11</td>\n",
       "      <td>NaN</td>\n",
       "      <td>2</td>\n",
       "      <td>NaN</td>\n",
       "      <td>NaN</td>\n",
       "      <td>NaN</td>\n",
       "      <td>NaN</td>\n",
       "      <td>NaN</td>\n",
       "      <td>NaN</td>\n",
       "      <td>NaN</td>\n",
       "      <td>NaN</td>\n",
       "      <td>NaN</td>\n",
       "    </tr>\n",
       "    <tr>\n",
       "      <th>top</th>\n",
       "      <td>Dell</td>\n",
       "      <td>NaN</td>\n",
       "      <td>Full HD</td>\n",
       "      <td>NaN</td>\n",
       "      <td>NaN</td>\n",
       "      <td>NaN</td>\n",
       "      <td>NaN</td>\n",
       "      <td>NaN</td>\n",
       "      <td>NaN</td>\n",
       "      <td>NaN</td>\n",
       "      <td>NaN</td>\n",
       "      <td>NaN</td>\n",
       "    </tr>\n",
       "    <tr>\n",
       "      <th>freq</th>\n",
       "      <td>71</td>\n",
       "      <td>NaN</td>\n",
       "      <td>161</td>\n",
       "      <td>NaN</td>\n",
       "      <td>NaN</td>\n",
       "      <td>NaN</td>\n",
       "      <td>NaN</td>\n",
       "      <td>NaN</td>\n",
       "      <td>NaN</td>\n",
       "      <td>NaN</td>\n",
       "      <td>NaN</td>\n",
       "      <td>NaN</td>\n",
       "    </tr>\n",
       "    <tr>\n",
       "      <th>mean</th>\n",
       "      <td>NaN</td>\n",
       "      <td>3.205882</td>\n",
       "      <td>NaN</td>\n",
       "      <td>2.151261</td>\n",
       "      <td>1.058824</td>\n",
       "      <td>5.630252</td>\n",
       "      <td>37.309185</td>\n",
       "      <td>2.360084</td>\n",
       "      <td>7.882353</td>\n",
       "      <td>245.781513</td>\n",
       "      <td>1.862232</td>\n",
       "      <td>1462.344538</td>\n",
       "    </tr>\n",
       "    <tr>\n",
       "      <th>std</th>\n",
       "      <td>NaN</td>\n",
       "      <td>0.776533</td>\n",
       "      <td>NaN</td>\n",
       "      <td>0.638282</td>\n",
       "      <td>0.235790</td>\n",
       "      <td>1.241787</td>\n",
       "      <td>2.961753</td>\n",
       "      <td>0.411393</td>\n",
       "      <td>2.482603</td>\n",
       "      <td>34.765316</td>\n",
       "      <td>0.489090</td>\n",
       "      <td>574.607699</td>\n",
       "    </tr>\n",
       "    <tr>\n",
       "      <th>min</th>\n",
       "      <td>NaN</td>\n",
       "      <td>1.000000</td>\n",
       "      <td>NaN</td>\n",
       "      <td>1.000000</td>\n",
       "      <td>1.000000</td>\n",
       "      <td>3.000000</td>\n",
       "      <td>30.480000</td>\n",
       "      <td>1.200000</td>\n",
       "      <td>4.000000</td>\n",
       "      <td>128.000000</td>\n",
       "      <td>0.810000</td>\n",
       "      <td>527.000000</td>\n",
       "    </tr>\n",
       "    <tr>\n",
       "      <th>25%</th>\n",
       "      <td>NaN</td>\n",
       "      <td>3.000000</td>\n",
       "      <td>NaN</td>\n",
       "      <td>2.000000</td>\n",
       "      <td>1.000000</td>\n",
       "      <td>5.000000</td>\n",
       "      <td>35.560000</td>\n",
       "      <td>2.000000</td>\n",
       "      <td>8.000000</td>\n",
       "      <td>256.000000</td>\n",
       "      <td>1.472500</td>\n",
       "      <td>1066.500000</td>\n",
       "    </tr>\n",
       "    <tr>\n",
       "      <th>50%</th>\n",
       "      <td>NaN</td>\n",
       "      <td>3.000000</td>\n",
       "      <td>NaN</td>\n",
       "      <td>2.000000</td>\n",
       "      <td>1.000000</td>\n",
       "      <td>5.000000</td>\n",
       "      <td>38.100000</td>\n",
       "      <td>2.500000</td>\n",
       "      <td>8.000000</td>\n",
       "      <td>256.000000</td>\n",
       "      <td>1.862232</td>\n",
       "      <td>1333.000000</td>\n",
       "    </tr>\n",
       "    <tr>\n",
       "      <th>75%</th>\n",
       "      <td>NaN</td>\n",
       "      <td>4.000000</td>\n",
       "      <td>NaN</td>\n",
       "      <td>3.000000</td>\n",
       "      <td>1.000000</td>\n",
       "      <td>7.000000</td>\n",
       "      <td>39.624000</td>\n",
       "      <td>2.700000</td>\n",
       "      <td>8.000000</td>\n",
       "      <td>256.000000</td>\n",
       "      <td>2.200000</td>\n",
       "      <td>1777.000000</td>\n",
       "    </tr>\n",
       "    <tr>\n",
       "      <th>max</th>\n",
       "      <td>NaN</td>\n",
       "      <td>5.000000</td>\n",
       "      <td>NaN</td>\n",
       "      <td>3.000000</td>\n",
       "      <td>2.000000</td>\n",
       "      <td>7.000000</td>\n",
       "      <td>43.942000</td>\n",
       "      <td>2.900000</td>\n",
       "      <td>16.000000</td>\n",
       "      <td>256.000000</td>\n",
       "      <td>3.600000</td>\n",
       "      <td>3810.000000</td>\n",
       "    </tr>\n",
       "  </tbody>\n",
       "</table>\n",
       "</div>"
      ],
      "text/plain": [
       "       Manufacturer    Category Type_of_Screen         GPU          OS  \\\n",
       "count           238  238.000000            238  238.000000  238.000000   \n",
       "unique           11         NaN              2         NaN         NaN   \n",
       "top            Dell         NaN        Full HD         NaN         NaN   \n",
       "freq             71         NaN            161         NaN         NaN   \n",
       "mean            NaN    3.205882            NaN    2.151261    1.058824   \n",
       "std             NaN    0.776533            NaN    0.638282    0.235790   \n",
       "min             NaN    1.000000            NaN    1.000000    1.000000   \n",
       "25%             NaN    3.000000            NaN    2.000000    1.000000   \n",
       "50%             NaN    3.000000            NaN    2.000000    1.000000   \n",
       "75%             NaN    4.000000            NaN    3.000000    1.000000   \n",
       "max             NaN    5.000000            NaN    3.000000    2.000000   \n",
       "\n",
       "          CPU_core  Screen_Size_CM  CPU_frequency      RAM_GB  Storage_GB_SSD  \\\n",
       "count   238.000000      238.000000     238.000000  238.000000      238.000000   \n",
       "unique         NaN             NaN            NaN         NaN             NaN   \n",
       "top            NaN             NaN            NaN         NaN             NaN   \n",
       "freq           NaN             NaN            NaN         NaN             NaN   \n",
       "mean      5.630252       37.309185       2.360084    7.882353      245.781513   \n",
       "std       1.241787        2.961753       0.411393    2.482603       34.765316   \n",
       "min       3.000000       30.480000       1.200000    4.000000      128.000000   \n",
       "25%       5.000000       35.560000       2.000000    8.000000      256.000000   \n",
       "50%       5.000000       38.100000       2.500000    8.000000      256.000000   \n",
       "75%       7.000000       39.624000       2.700000    8.000000      256.000000   \n",
       "max       7.000000       43.942000       2.900000   16.000000      256.000000   \n",
       "\n",
       "         Weight_kg        Price  \n",
       "count   238.000000   238.000000  \n",
       "unique         NaN          NaN  \n",
       "top            NaN          NaN  \n",
       "freq           NaN          NaN  \n",
       "mean      1.862232  1462.344538  \n",
       "std       0.489090   574.607699  \n",
       "min       0.810000   527.000000  \n",
       "25%       1.472500  1066.500000  \n",
       "50%       1.862232  1333.000000  \n",
       "75%       2.200000  1777.000000  \n",
       "max       3.600000  3810.000000  "
      ]
     },
     "execution_count": 48,
     "metadata": {},
     "output_type": "execute_result"
    }
   ],
   "source": [
    "laptop_pricing.describe(include =\"all\")"
   ]
  },
  {
   "cell_type": "markdown",
   "id": "3025d03c-736b-4900-81b1-18feef1e00f0",
   "metadata": {
    "jp-MarkdownHeadingCollapsed": true
   },
   "source": [
    "## Data Formatting(Converting cm to inches, kg to pounds as required for this analysis)"
   ]
  },
  {
   "cell_type": "code",
   "execution_count": 50,
   "id": "7f343dfd-a3ce-43c8-8f45-a279fe3edc7f",
   "metadata": {},
   "outputs": [],
   "source": [
    "laptop_pricing[\"Weight_kg\"] = laptop_pricing[\"Weight_kg\"] * 2.205"
   ]
  },
  {
   "cell_type": "code",
   "execution_count": 51,
   "id": "4c54cd1e-ba58-4773-b6b9-36ecebb19789",
   "metadata": {},
   "outputs": [],
   "source": [
    "laptop_pricing.rename(columns={\"Weight_kg\":\"Weight_pounds\"}, inplace = True)"
   ]
  },
  {
   "cell_type": "code",
   "execution_count": 52,
   "id": "99601696-ac6d-44f7-8629-807d824fd45e",
   "metadata": {},
   "outputs": [],
   "source": [
    "laptop_pricing[\"Screen_Size_CM\"] = laptop_pricing[\"Screen_Size_CM\"] / 2.54"
   ]
  },
  {
   "cell_type": "code",
   "execution_count": 53,
   "id": "8e2770b3-8065-47fe-8843-10a330f7f77d",
   "metadata": {},
   "outputs": [],
   "source": [
    "laptop_pricing.rename(columns={\"Screen_Size_CM\":\"Screen_Size_inches\"}, inplace = True)"
   ]
  },
  {
   "cell_type": "code",
   "execution_count": 54,
   "id": "fdadd9c6-0522-45a2-b176-3a8616e300c2",
   "metadata": {},
   "outputs": [
    {
     "data": {
      "text/html": [
       "<div>\n",
       "<style scoped>\n",
       "    .dataframe tbody tr th:only-of-type {\n",
       "        vertical-align: middle;\n",
       "    }\n",
       "\n",
       "    .dataframe tbody tr th {\n",
       "        vertical-align: top;\n",
       "    }\n",
       "\n",
       "    .dataframe thead th {\n",
       "        text-align: right;\n",
       "    }\n",
       "</style>\n",
       "<table border=\"1\" class=\"dataframe\">\n",
       "  <thead>\n",
       "    <tr style=\"text-align: right;\">\n",
       "      <th></th>\n",
       "      <th>Manufacturer</th>\n",
       "      <th>Category</th>\n",
       "      <th>Type_of_Screen</th>\n",
       "      <th>GPU</th>\n",
       "      <th>OS</th>\n",
       "      <th>CPU_core</th>\n",
       "      <th>Screen_Size_inches</th>\n",
       "      <th>CPU_frequency</th>\n",
       "      <th>RAM_GB</th>\n",
       "      <th>Storage_GB_SSD</th>\n",
       "      <th>Weight_pounds</th>\n",
       "      <th>Price</th>\n",
       "    </tr>\n",
       "  </thead>\n",
       "  <tbody>\n",
       "    <tr>\n",
       "      <th>0</th>\n",
       "      <td>Acer</td>\n",
       "      <td>4</td>\n",
       "      <td>IPS Panel</td>\n",
       "      <td>2</td>\n",
       "      <td>1</td>\n",
       "      <td>5</td>\n",
       "      <td>14.0</td>\n",
       "      <td>1.6</td>\n",
       "      <td>8</td>\n",
       "      <td>256</td>\n",
       "      <td>3.52800</td>\n",
       "      <td>978</td>\n",
       "    </tr>\n",
       "    <tr>\n",
       "      <th>1</th>\n",
       "      <td>Dell</td>\n",
       "      <td>3</td>\n",
       "      <td>Full HD</td>\n",
       "      <td>1</td>\n",
       "      <td>1</td>\n",
       "      <td>3</td>\n",
       "      <td>15.6</td>\n",
       "      <td>2.0</td>\n",
       "      <td>4</td>\n",
       "      <td>256</td>\n",
       "      <td>4.85100</td>\n",
       "      <td>634</td>\n",
       "    </tr>\n",
       "    <tr>\n",
       "      <th>2</th>\n",
       "      <td>Dell</td>\n",
       "      <td>3</td>\n",
       "      <td>Full HD</td>\n",
       "      <td>1</td>\n",
       "      <td>1</td>\n",
       "      <td>7</td>\n",
       "      <td>15.6</td>\n",
       "      <td>2.7</td>\n",
       "      <td>8</td>\n",
       "      <td>256</td>\n",
       "      <td>4.85100</td>\n",
       "      <td>946</td>\n",
       "    </tr>\n",
       "    <tr>\n",
       "      <th>3</th>\n",
       "      <td>Dell</td>\n",
       "      <td>4</td>\n",
       "      <td>IPS Panel</td>\n",
       "      <td>2</td>\n",
       "      <td>1</td>\n",
       "      <td>5</td>\n",
       "      <td>13.3</td>\n",
       "      <td>1.6</td>\n",
       "      <td>8</td>\n",
       "      <td>128</td>\n",
       "      <td>2.69010</td>\n",
       "      <td>1244</td>\n",
       "    </tr>\n",
       "    <tr>\n",
       "      <th>4</th>\n",
       "      <td>HP</td>\n",
       "      <td>4</td>\n",
       "      <td>Full HD</td>\n",
       "      <td>2</td>\n",
       "      <td>1</td>\n",
       "      <td>7</td>\n",
       "      <td>15.6</td>\n",
       "      <td>1.8</td>\n",
       "      <td>8</td>\n",
       "      <td>256</td>\n",
       "      <td>4.21155</td>\n",
       "      <td>837</td>\n",
       "    </tr>\n",
       "  </tbody>\n",
       "</table>\n",
       "</div>"
      ],
      "text/plain": [
       "  Manufacturer  Category Type_of_Screen  GPU  OS  CPU_core  \\\n",
       "0         Acer         4      IPS Panel    2   1         5   \n",
       "1         Dell         3        Full HD    1   1         3   \n",
       "2         Dell         3        Full HD    1   1         7   \n",
       "3         Dell         4      IPS Panel    2   1         5   \n",
       "4           HP         4        Full HD    2   1         7   \n",
       "\n",
       "   Screen_Size_inches  CPU_frequency  RAM_GB  Storage_GB_SSD  Weight_pounds  \\\n",
       "0                14.0            1.6       8             256        3.52800   \n",
       "1                15.6            2.0       4             256        4.85100   \n",
       "2                15.6            2.7       8             256        4.85100   \n",
       "3                13.3            1.6       8             128        2.69010   \n",
       "4                15.6            1.8       8             256        4.21155   \n",
       "\n",
       "   Price  \n",
       "0    978  \n",
       "1    634  \n",
       "2    946  \n",
       "3   1244  \n",
       "4    837  "
      ]
     },
     "execution_count": 54,
     "metadata": {},
     "output_type": "execute_result"
    }
   ],
   "source": [
    "laptop_pricing.head()"
   ]
  },
  {
   "cell_type": "code",
   "execution_count": 55,
   "id": "8dd24101-24d6-42fd-ba13-e1bcc3e46107",
   "metadata": {},
   "outputs": [
    {
     "data": {
      "text/plain": [
       "Manufacturer           11\n",
       "Category                5\n",
       "Type_of_Screen          2\n",
       "GPU                     3\n",
       "OS                      2\n",
       "CPU_core                3\n",
       "Screen_Size_inches      9\n",
       "CPU_frequency          11\n",
       "RAM_GB                  5\n",
       "Storage_GB_SSD          2\n",
       "Weight_pounds          78\n",
       "Price                 193\n",
       "dtype: int64"
      ]
     },
     "execution_count": 55,
     "metadata": {},
     "output_type": "execute_result"
    }
   ],
   "source": [
    "laptop_pricing.nunique()"
   ]
  },
  {
   "cell_type": "markdown",
   "id": "17266621-c590-4be5-b7c2-96711a2a9582",
   "metadata": {
    "jp-MarkdownHeadingCollapsed": true
   },
   "source": [
    "# Visualize individual feature patterns"
   ]
  },
  {
   "cell_type": "markdown",
   "id": "c8097b69-e0b5-46c7-b769-b5e937515985",
   "metadata": {
    "jp-MarkdownHeadingCollapsed": true
   },
   "source": [
    "## Binning"
   ]
  },
  {
   "cell_type": "code",
   "execution_count": 58,
   "id": "059d79dd-db67-4f9d-b244-549e8b5be041",
   "metadata": {},
   "outputs": [],
   "source": [
    "Price_Bins = np.linspace(laptop_pricing[\"Price\"].min(),laptop_pricing[\"Price\"].max(), 4)"
   ]
  },
  {
   "cell_type": "code",
   "execution_count": 59,
   "id": "3776341b-1489-4d2b-9d12-afca8d5c4355",
   "metadata": {},
   "outputs": [],
   "source": [
    "Price_Labels = [\"low\",\"medium\",\"high\"]"
   ]
  },
  {
   "cell_type": "code",
   "execution_count": 60,
   "id": "de195a6f-d125-45d9-8f9d-dcd3f02351ad",
   "metadata": {},
   "outputs": [],
   "source": [
    "laptop_pricing[\"Price_Binned\"] = pd.cut(laptop_pricing[\"Price\"],Price_Bins, labels = Price_Labels )"
   ]
  },
  {
   "cell_type": "code",
   "execution_count": 61,
   "id": "acbfcdea-09b7-4664-800c-4f6df52b783b",
   "metadata": {},
   "outputs": [
    {
     "data": {
      "text/plain": [
       "0         low\n",
       "1         low\n",
       "2         low\n",
       "3         low\n",
       "4         low\n",
       "        ...  \n",
       "233    medium\n",
       "234    medium\n",
       "235    medium\n",
       "236       low\n",
       "237       low\n",
       "Name: Price_Binned, Length: 238, dtype: category\n",
       "Categories (3, object): ['low' < 'medium' < 'high']"
      ]
     },
     "execution_count": 61,
     "metadata": {},
     "output_type": "execute_result"
    }
   ],
   "source": [
    "laptop_pricing[\"Price_Binned\"] "
   ]
  },
  {
   "cell_type": "code",
   "execution_count": 62,
   "id": "5fe0cbe8-8b56-4d9f-8792-868e02bffe1f",
   "metadata": {},
   "outputs": [
    {
     "data": {
      "text/plain": [
       "[Text(0, 0, '159'), Text(0, 0, '72'), Text(0, 0, '6')]"
      ]
     },
     "execution_count": 62,
     "metadata": {},
     "output_type": "execute_result"
    },
    {
     "data": {
      "image/png": "[encoded data removed]",
      "text/plain": [
       "<Figure size 1200x500 with 1 Axes>"
      ]
     },
     "metadata": {},
     "output_type": "display_data"
    }
   ],
   "source": [
    "plt.figure(figsize=(12, 5))\n",
    "graph_for_Price_Binned = laptop_pricing[\"Price_Binned\"] .value_counts().plot(kind='bar',title =\"Pricing Distribution For Laptops\")\n",
    "graph_for_Price_Binned.bar_label(graph_for_Price_Binned.containers[0], label_type='edge')"
   ]
  },
  {
   "cell_type": "markdown",
   "id": "9516e144-2c79-4d18-823c-875d55303747",
   "metadata": {
    "jp-MarkdownHeadingCollapsed": true
   },
   "source": [
    "## Regression Plots"
   ]
  },
  {
   "cell_type": "markdown",
   "id": "13ccc53a-e0c0-40d6-8380-35a60c3c773e",
   "metadata": {
    "jp-MarkdownHeadingCollapsed": true
   },
   "source": [
    "### CPU_frequency vs Price"
   ]
  },
  {
   "cell_type": "code",
   "execution_count": 65,
   "id": "b946c806-5775-43bf-bfae-258e48d065ea",
   "metadata": {},
   "outputs": [
    {
     "data": {
      "text/plain": [
       "<Axes: xlabel='Price', ylabel='CPU_frequency'>"
      ]
     },
     "execution_count": 65,
     "metadata": {},
     "output_type": "execute_result"
    },
    {
     "data": {
      "image/png": "[encoded data removed]",
      "text/plain": [
       "<Figure size 640x480 with 1 Axes>"
      ]
     },
     "metadata": {},
     "output_type": "display_data"
    }
   ],
   "source": [
    "sns.regplot(x= \"Price\", y=\"CPU_frequency\", data = laptop_pricing)"
   ]
  },
  {
   "cell_type": "code",
   "execution_count": 66,
   "id": "ea754ca6-8f2e-472e-9178-b94791cadd03",
   "metadata": {},
   "outputs": [
    {
     "data": {
      "text/plain": [
       "PearsonRResult(statistic=0.36666555892588604, pvalue=5.5024633507134225e-09)"
      ]
     },
     "execution_count": 66,
     "metadata": {},
     "output_type": "execute_result"
    }
   ],
   "source": [
    "stats.pearsonr(laptop_pricing[\"CPU_frequency\"],laptop_pricing[\"Price\"])"
   ]
  },
  {
   "cell_type": "markdown",
   "id": "53103e4c-0cc3-46d6-9613-9cd10f4cd537",
   "metadata": {},
   "source": [
    "We can see there is not much correlation between cpu_frequency and price"
   ]
  },
  {
   "cell_type": "markdown",
   "id": "4e8d7e5e-99f9-4e8c-b7e8-d0e94258b767",
   "metadata": {
    "jp-MarkdownHeadingCollapsed": true
   },
   "source": [
    "### Screen_Size_inches vs Price"
   ]
  },
  {
   "cell_type": "code",
   "execution_count": 69,
   "id": "fc74bf3c-11bb-455c-afaa-556f76ff0f00",
   "metadata": {},
   "outputs": [
    {
     "data": {
      "text/plain": [
       "<Axes: xlabel='Price', ylabel='Screen_Size_inches'>"
      ]
     },
     "execution_count": 69,
     "metadata": {},
     "output_type": "execute_result"
    },
    {
     "data": {
      "image/png": "[encoded data removed]",
      "text/plain": [
       "<Figure size 640x480 with 1 Axes>"
      ]
     },
     "metadata": {},
     "output_type": "display_data"
    }
   ],
   "source": [
    "sns.regplot(x= \"Price\", y=\"Screen_Size_inches\", data = laptop_pricing)"
   ]
  },
  {
   "cell_type": "code",
   "execution_count": 70,
   "id": "7f139b2b-0890-46c5-ad51-eaeaff69e6fc",
   "metadata": {},
   "outputs": [
    {
     "data": {
      "text/plain": [
       "PearsonRResult(statistic=-0.11064420817118284, pvalue=0.08853397846830666)"
      ]
     },
     "execution_count": 70,
     "metadata": {},
     "output_type": "execute_result"
    }
   ],
   "source": [
    "stats.pearsonr(laptop_pricing[\"Screen_Size_inches\"],laptop_pricing[\"Price\"])"
   ]
  },
  {
   "cell_type": "markdown",
   "id": "42858684-da4b-4657-b475-7fb0c979b7ad",
   "metadata": {},
   "source": [
    "Screen_Size_inches and price have nearly very weak correlation with weak certainity"
   ]
  },
  {
   "cell_type": "markdown",
   "id": "b73933db-e088-43e6-be6e-39c828892ccb",
   "metadata": {
    "jp-MarkdownHeadingCollapsed": true
   },
   "source": [
    "### Weight_pounds vs Price"
   ]
  },
  {
   "cell_type": "code",
   "execution_count": 73,
   "id": "4d047086-95c7-42eb-9efd-6939c6adefe2",
   "metadata": {},
   "outputs": [
    {
     "data": {
      "text/plain": [
       "<Axes: xlabel='Price', ylabel='Weight_pounds'>"
      ]
     },
     "execution_count": 73,
     "metadata": {},
     "output_type": "execute_result"
    },
    {
     "data": {
      "image/png": "[encoded data removed]",
      "text/plain": [
       "<Figure size 640x480 with 1 Axes>"
      ]
     },
     "metadata": {},
     "output_type": "display_data"
    }
   ],
   "source": [
    "sns.regplot(x= \"Price\", y=\"Weight_pounds\", data = laptop_pricing)"
   ]
  },
  {
   "cell_type": "code",
   "execution_count": 74,
   "id": "579940ff-59e1-41f8-998c-5574beeb85bc",
   "metadata": {},
   "outputs": [
    {
     "data": {
      "text/plain": [
       "PearsonRResult(statistic=-0.05031225837751547, pvalue=0.43976938534338944)"
      ]
     },
     "execution_count": 74,
     "metadata": {},
     "output_type": "execute_result"
    }
   ],
   "source": [
    "stats.pearsonr(laptop_pricing[\"Weight_pounds\"],laptop_pricing[\"Price\"])"
   ]
  },
  {
   "cell_type": "markdown",
   "id": "75d12c3f-c044-4aad-be8a-a31014cad386",
   "metadata": {},
   "source": [
    "Weight_pounds and price cant be stated based on correlation between each other as seen from above results"
   ]
  },
  {
   "cell_type": "markdown",
   "id": "9ed95359-d75f-42d3-b6ca-44859cbd72eb",
   "metadata": {
    "jp-MarkdownHeadingCollapsed": true
   },
   "source": [
    "## Box Plots for Categorical Variables"
   ]
  },
  {
   "cell_type": "markdown",
   "id": "f38050bf-c991-41ec-920a-66e559cbc4d8",
   "metadata": {
    "jp-MarkdownHeadingCollapsed": true
   },
   "source": [
    "### Manufacturer vs Price"
   ]
  },
  {
   "cell_type": "code",
   "execution_count": 78,
   "id": "6befdd5e-ff66-47be-ae42-236df9fec743",
   "metadata": {},
   "outputs": [
    {
     "data": {
      "text/plain": [
       "<Axes: xlabel='Manufacturer', ylabel='Price'>"
      ]
     },
     "execution_count": 78,
     "metadata": {},
     "output_type": "execute_result"
    },
    {
     "data": {
      "image/png": "[encoded data removed]",
      "text/plain": [
       "<Figure size 1500x700 with 1 Axes>"
      ]
     },
     "metadata": {},
     "output_type": "display_data"
    }
   ],
   "source": [
    "plt.figure(figsize= (15,7))\n",
    "sns.boxplot(data = laptop_pricing, x = \"Manufacturer\", y =\"Price\")"
   ]
  },
  {
   "cell_type": "markdown",
   "id": "dfcc78a5-345e-4ed6-9e80-f1af0430c400",
   "metadata": {
    "jp-MarkdownHeadingCollapsed": true
   },
   "source": [
    "### Category vs Price"
   ]
  },
  {
   "cell_type": "code",
   "execution_count": 80,
   "id": "8073ba2c-705c-4f2a-a331-f1c639e2c51f",
   "metadata": {},
   "outputs": [
    {
     "data": {
      "text/plain": [
       "<Axes: xlabel='Category', ylabel='Price'>"
      ]
     },
     "execution_count": 80,
     "metadata": {},
     "output_type": "execute_result"
    },
    {
     "data": {
      "image/png": "[encoded data removed]",
      "text/plain": [
       "<Figure size 1500x700 with 1 Axes>"
      ]
     },
     "metadata": {},
     "output_type": "display_data"
    }
   ],
   "source": [
    "plt.figure(figsize= (15,7))\n",
    "sns.boxplot(data = laptop_pricing, x = \"Category\", y =\"Price\")"
   ]
  },
  {
   "cell_type": "markdown",
   "id": "3120b8ae-8b53-40ee-ad54-743cf79c434e",
   "metadata": {
    "jp-MarkdownHeadingCollapsed": true
   },
   "source": [
    "### Screen vs Price"
   ]
  },
  {
   "cell_type": "code",
   "execution_count": 82,
   "id": "7e15316f-a87f-484b-b04e-9b23d43ede62",
   "metadata": {},
   "outputs": [
    {
     "data": {
      "text/plain": [
       "<Axes: xlabel='Type_of_Screen', ylabel='Price'>"
      ]
     },
     "execution_count": 82,
     "metadata": {},
     "output_type": "execute_result"
    },
    {
     "data": {
      "image/png": "[encoded data removed]",
      "text/plain": [
       "<Figure size 1500x700 with 1 Axes>"
      ]
     },
     "metadata": {},
     "output_type": "display_data"
    }
   ],
   "source": [
    "plt.figure(figsize= (15,7))\n",
    "sns.boxplot(data = laptop_pricing, x = \"Type_of_Screen\", y =\"Price\")"
   ]
  },
  {
   "cell_type": "markdown",
   "id": "a682d9c2-d9c3-4860-a55e-d11b762a9203",
   "metadata": {
    "jp-MarkdownHeadingCollapsed": true
   },
   "source": [
    "### GPU vs Price"
   ]
  },
  {
   "cell_type": "code",
   "execution_count": 84,
   "id": "14cdd3ca-872a-4bd1-91d2-f0085a149471",
   "metadata": {},
   "outputs": [
    {
     "data": {
      "text/plain": [
       "<Axes: xlabel='GPU', ylabel='Price'>"
      ]
     },
     "execution_count": 84,
     "metadata": {},
     "output_type": "execute_result"
    },
    {
     "data": {
      "image/png": "[encoded data removed]",
      "text/plain": [
       "<Figure size 1500x700 with 1 Axes>"
      ]
     },
     "metadata": {},
     "output_type": "display_data"
    }
   ],
   "source": [
    "plt.figure(figsize= (15,7))\n",
    "sns.boxplot(data = laptop_pricing, x = \"GPU\", y =\"Price\")"
   ]
  },
  {
   "cell_type": "markdown",
   "id": "a29a828d-53b1-4ec0-ad74-c8dca5774245",
   "metadata": {
    "jp-MarkdownHeadingCollapsed": true
   },
   "source": [
    "### OS vs Price"
   ]
  },
  {
   "cell_type": "code",
   "execution_count": 86,
   "id": "175a0d2e-dd1e-4126-8ff1-82aa30c4e1fc",
   "metadata": {},
   "outputs": [
    {
     "data": {
      "text/plain": [
       "<Axes: xlabel='OS', ylabel='Price'>"
      ]
     },
     "execution_count": 86,
     "metadata": {},
     "output_type": "execute_result"
    },
    {
     "data": {
      "image/png": "[encoded data removed]",
      "text/plain": [
       "<Figure size 1500x700 with 1 Axes>"
      ]
     },
     "metadata": {},
     "output_type": "display_data"
    }
   ],
   "source": [
    "plt.figure(figsize= (15,7))\n",
    "sns.boxplot(data = laptop_pricing, x = \"OS\", y =\"Price\")"
   ]
  },
  {
   "cell_type": "markdown",
   "id": "fe8bb73d-7d77-4a4c-961a-ef14636924d4",
   "metadata": {
    "jp-MarkdownHeadingCollapsed": true
   },
   "source": [
    "### CPU_core vs Price"
   ]
  },
  {
   "cell_type": "code",
   "execution_count": 88,
   "id": "acfeb74f-41eb-41fd-8e05-dd7bc0c52265",
   "metadata": {},
   "outputs": [
    {
     "data": {
      "text/plain": [
       "<Axes: xlabel='CPU_core', ylabel='Price'>"
      ]
     },
     "execution_count": 88,
     "metadata": {},
     "output_type": "execute_result"
    },
    {
     "data": {
      "image/png": "[encoded data removed]",
      "text/plain": [
       "<Figure size 1500x700 with 1 Axes>"
      ]
     },
     "metadata": {},
     "output_type": "display_data"
    }
   ],
   "source": [
    "plt.figure(figsize= (15,7))\n",
    "sns.boxplot(data = laptop_pricing, x = \"CPU_core\", y =\"Price\")"
   ]
  },
  {
   "cell_type": "markdown",
   "id": "a1fbe6e9-3394-4a7a-94af-a34a0caa5290",
   "metadata": {
    "jp-MarkdownHeadingCollapsed": true
   },
   "source": [
    "### RAM_GB vs Price"
   ]
  },
  {
   "cell_type": "code",
   "execution_count": 90,
   "id": "1d259b7b-93d1-4f46-9f20-01166aa7158e",
   "metadata": {},
   "outputs": [
    {
     "data": {
      "text/plain": [
       "<Axes: xlabel='RAM_GB', ylabel='Price'>"
      ]
     },
     "execution_count": 90,
     "metadata": {},
     "output_type": "execute_result"
    },
    {
     "data": {
      "image/png": "[encoded data removed]",
      "text/plain": [
       "<Figure size 1500x700 with 1 Axes>"
      ]
     },
     "metadata": {},
     "output_type": "display_data"
    }
   ],
   "source": [
    "plt.figure(figsize= (15,7))\n",
    "sns.boxplot(data = laptop_pricing, x = \"RAM_GB\", y =\"Price\")"
   ]
  },
  {
   "cell_type": "markdown",
   "id": "a949f412-b46e-43b3-8b9f-07941fad3fa7",
   "metadata": {
    "jp-MarkdownHeadingCollapsed": true
   },
   "source": [
    "### Storage_GB_SSD vs Price"
   ]
  },
  {
   "cell_type": "code",
   "execution_count": 92,
   "id": "beced13e-d708-4cfd-8e00-13be38d13be2",
   "metadata": {},
   "outputs": [
    {
     "data": {
      "text/plain": [
       "<Axes: xlabel='Storage_GB_SSD', ylabel='Price'>"
      ]
     },
     "execution_count": 92,
     "metadata": {},
     "output_type": "execute_result"
    },
    {
     "data": {
      "image/png": "[encoded data removed]",
      "text/plain": [
       "<Figure size 1500x700 with 1 Axes>"
      ]
     },
     "metadata": {},
     "output_type": "display_data"
    }
   ],
   "source": [
    "plt.figure(figsize= (15,7))\n",
    "sns.boxplot(data = laptop_pricing, x = \"Storage_GB_SSD\", y =\"Price\")"
   ]
  },
  {
   "cell_type": "markdown",
   "id": "311c3bca-2930-4f8e-8327-729eed104f6d",
   "metadata": {
    "jp-MarkdownHeadingCollapsed": true
   },
   "source": [
    "## Group By and Pivot Table"
   ]
  },
  {
   "cell_type": "markdown",
   "id": "86a9c4e7-4349-4918-b7cf-a5367ba8018c",
   "metadata": {},
   "source": [
    "### \"GPU\", \"CPU_core\", \"Price\""
   ]
  },
  {
   "cell_type": "code",
   "execution_count": 95,
   "id": "acc70e63-b0e2-4f61-bdad-86db153fd0b9",
   "metadata": {},
   "outputs": [],
   "source": [
    "laptop_pricing_group1 = laptop_pricing[[\"GPU\", \"CPU_core\", \"Price\" ]]\n",
    "laptop_pricing_group1_grouped = laptop_pricing_group1.groupby([\"GPU\", \"CPU_core\"],as_index = False).mean()"
   ]
  },
  {
   "cell_type": "code",
   "execution_count": 96,
   "id": "63caec2b-c45e-4f48-a2a5-ca116884484a",
   "metadata": {},
   "outputs": [],
   "source": [
    "laptop_pricing_group1_pivot = laptop_pricing_group1_grouped.pivot(index = \"CPU_core\", columns = \"GPU\")"
   ]
  },
  {
   "cell_type": "code",
   "execution_count": 97,
   "id": "1f4e2fe8-e6b0-4f94-bdd2-f3d7c8320aee",
   "metadata": {},
   "outputs": [
    {
     "data": {
      "text/html": [
       "<div>\n",
       "<style scoped>\n",
       "    .dataframe tbody tr th:only-of-type {\n",
       "        vertical-align: middle;\n",
       "    }\n",
       "\n",
       "    .dataframe tbody tr th {\n",
       "        vertical-align: top;\n",
       "    }\n",
       "\n",
       "    .dataframe thead tr th {\n",
       "        text-align: left;\n",
       "    }\n",
       "\n",
       "    .dataframe thead tr:last-of-type th {\n",
       "        text-align: right;\n",
       "    }\n",
       "</style>\n",
       "<table border=\"1\" class=\"dataframe\">\n",
       "  <thead>\n",
       "    <tr>\n",
       "      <th></th>\n",
       "      <th colspan=\"3\" halign=\"left\">Price</th>\n",
       "    </tr>\n",
       "    <tr>\n",
       "      <th>GPU</th>\n",
       "      <th>1</th>\n",
       "      <th>2</th>\n",
       "      <th>3</th>\n",
       "    </tr>\n",
       "    <tr>\n",
       "      <th>CPU_core</th>\n",
       "      <th></th>\n",
       "      <th></th>\n",
       "      <th></th>\n",
       "    </tr>\n",
       "  </thead>\n",
       "  <tbody>\n",
       "    <tr>\n",
       "      <th>3</th>\n",
       "      <td>769.250000</td>\n",
       "      <td>785.076923</td>\n",
       "      <td>784.000000</td>\n",
       "    </tr>\n",
       "    <tr>\n",
       "      <th>5</th>\n",
       "      <td>998.500000</td>\n",
       "      <td>1462.197674</td>\n",
       "      <td>1220.680000</td>\n",
       "    </tr>\n",
       "    <tr>\n",
       "      <th>7</th>\n",
       "      <td>1167.941176</td>\n",
       "      <td>1744.621622</td>\n",
       "      <td>1945.097561</td>\n",
       "    </tr>\n",
       "  </tbody>\n",
       "</table>\n",
       "</div>"
      ],
      "text/plain": [
       "                Price                          \n",
       "GPU                 1            2            3\n",
       "CPU_core                                       \n",
       "3          769.250000   785.076923   784.000000\n",
       "5          998.500000  1462.197674  1220.680000\n",
       "7         1167.941176  1744.621622  1945.097561"
      ]
     },
     "execution_count": 97,
     "metadata": {},
     "output_type": "execute_result"
    }
   ],
   "source": [
    "laptop_pricing_group1_pivot"
   ]
  },
  {
   "cell_type": "code",
   "execution_count": 98,
   "id": "a53f51cb-8ec6-4986-bc1f-c6a7657b1759",
   "metadata": {},
   "outputs": [
    {
     "data": {
      "text/plain": [
       "<matplotlib.colorbar.Colorbar at 0x13c8fec50>"
      ]
     },
     "execution_count": 98,
     "metadata": {},
     "output_type": "execute_result"
    },
    {
     "data": {
      "image/png": "[encoded data removed]",
      "text/plain": [
       "<Figure size 640x480 with 2 Axes>"
      ]
     },
     "metadata": {},
     "output_type": "display_data"
    }
   ],
   "source": [
    "plt.pcolor(laptop_pricing_group1_pivot,cmap = \"RdBu\")\n",
    "plt.colorbar()"
   ]
  },
  {
   "cell_type": "markdown",
   "id": "0ae5b44a-61bb-43d9-b7da-eb68c8c8ef25",
   "metadata": {},
   "source": [
    "We can see that GPU 3, with CPU_core 7 has highest price"
   ]
  },
  {
   "cell_type": "markdown",
   "id": "8e113b4b-9201-4059-817e-c6b222780e75",
   "metadata": {
    "jp-MarkdownHeadingCollapsed": true
   },
   "source": [
    "# One Hot Encoding"
   ]
  },
  {
   "cell_type": "code",
   "execution_count": 101,
   "id": "15962b23-a06d-4983-9583-523bb8683ff4",
   "metadata": {},
   "outputs": [
    {
     "data": {
      "text/plain": [
       "Manufacturer            object\n",
       "Category                 int64\n",
       "Type_of_Screen          object\n",
       "GPU                      int64\n",
       "OS                       int64\n",
       "CPU_core                 int64\n",
       "Screen_Size_inches     float64\n",
       "CPU_frequency          float64\n",
       "RAM_GB                   int64\n",
       "Storage_GB_SSD           int64\n",
       "Weight_pounds          float64\n",
       "Price                    int64\n",
       "Price_Binned          category\n",
       "dtype: object"
      ]
     },
     "execution_count": 101,
     "metadata": {},
     "output_type": "execute_result"
    }
   ],
   "source": [
    "laptop_pricing.dtypes"
   ]
  },
  {
   "cell_type": "markdown",
   "id": "720bf009-3371-4846-9abb-f2081db71d42",
   "metadata": {},
   "source": [
    "checking the non numeric or categorical variables"
   ]
  },
  {
   "cell_type": "code",
   "execution_count": 103,
   "id": "4f57422f-1edb-40da-881f-84b2a8eb3308",
   "metadata": {},
   "outputs": [
    {
     "data": {
      "text/html": [
       "<div>\n",
       "<style scoped>\n",
       "    .dataframe tbody tr th:only-of-type {\n",
       "        vertical-align: middle;\n",
       "    }\n",
       "\n",
       "    .dataframe tbody tr th {\n",
       "        vertical-align: top;\n",
       "    }\n",
       "\n",
       "    .dataframe thead th {\n",
       "        text-align: right;\n",
       "    }\n",
       "</style>\n",
       "<table border=\"1\" class=\"dataframe\">\n",
       "  <thead>\n",
       "    <tr style=\"text-align: right;\">\n",
       "      <th></th>\n",
       "      <th>Manufacturer</th>\n",
       "      <th>Type_of_Screen</th>\n",
       "      <th>Price_Binned</th>\n",
       "    </tr>\n",
       "  </thead>\n",
       "  <tbody>\n",
       "    <tr>\n",
       "      <th>0</th>\n",
       "      <td>Acer</td>\n",
       "      <td>IPS Panel</td>\n",
       "      <td>low</td>\n",
       "    </tr>\n",
       "    <tr>\n",
       "      <th>1</th>\n",
       "      <td>Dell</td>\n",
       "      <td>Full HD</td>\n",
       "      <td>low</td>\n",
       "    </tr>\n",
       "    <tr>\n",
       "      <th>2</th>\n",
       "      <td>Dell</td>\n",
       "      <td>Full HD</td>\n",
       "      <td>low</td>\n",
       "    </tr>\n",
       "    <tr>\n",
       "      <th>3</th>\n",
       "      <td>Dell</td>\n",
       "      <td>IPS Panel</td>\n",
       "      <td>low</td>\n",
       "    </tr>\n",
       "    <tr>\n",
       "      <th>4</th>\n",
       "      <td>HP</td>\n",
       "      <td>Full HD</td>\n",
       "      <td>low</td>\n",
       "    </tr>\n",
       "    <tr>\n",
       "      <th>...</th>\n",
       "      <td>...</td>\n",
       "      <td>...</td>\n",
       "      <td>...</td>\n",
       "    </tr>\n",
       "    <tr>\n",
       "      <th>233</th>\n",
       "      <td>Lenovo</td>\n",
       "      <td>IPS Panel</td>\n",
       "      <td>medium</td>\n",
       "    </tr>\n",
       "    <tr>\n",
       "      <th>234</th>\n",
       "      <td>Toshiba</td>\n",
       "      <td>Full HD</td>\n",
       "      <td>medium</td>\n",
       "    </tr>\n",
       "    <tr>\n",
       "      <th>235</th>\n",
       "      <td>Lenovo</td>\n",
       "      <td>IPS Panel</td>\n",
       "      <td>medium</td>\n",
       "    </tr>\n",
       "    <tr>\n",
       "      <th>236</th>\n",
       "      <td>Lenovo</td>\n",
       "      <td>Full HD</td>\n",
       "      <td>low</td>\n",
       "    </tr>\n",
       "    <tr>\n",
       "      <th>237</th>\n",
       "      <td>Toshiba</td>\n",
       "      <td>Full HD</td>\n",
       "      <td>low</td>\n",
       "    </tr>\n",
       "  </tbody>\n",
       "</table>\n",
       "<p>238 rows × 3 columns</p>\n",
       "</div>"
      ],
      "text/plain": [
       "    Manufacturer Type_of_Screen Price_Binned\n",
       "0           Acer      IPS Panel          low\n",
       "1           Dell        Full HD          low\n",
       "2           Dell        Full HD          low\n",
       "3           Dell      IPS Panel          low\n",
       "4             HP        Full HD          low\n",
       "..           ...            ...          ...\n",
       "233       Lenovo      IPS Panel       medium\n",
       "234      Toshiba        Full HD       medium\n",
       "235       Lenovo      IPS Panel       medium\n",
       "236       Lenovo        Full HD          low\n",
       "237      Toshiba        Full HD          low\n",
       "\n",
       "[238 rows x 3 columns]"
      ]
     },
     "execution_count": 103,
     "metadata": {},
     "output_type": "execute_result"
    }
   ],
   "source": [
    "laptop_pricing.select_dtypes(exclude=['float64','int64'])"
   ]
  },
  {
   "cell_type": "code",
   "execution_count": 104,
   "id": "b758f8b1-dd62-45b6-91d2-798551f150d3",
   "metadata": {},
   "outputs": [
    {
     "data": {
      "text/plain": [
       "Index(['Manufacturer', 'Category', 'Type_of_Screen', 'GPU', 'OS', 'CPU_core',\n",
       "       'Screen_Size_inches', 'CPU_frequency', 'RAM_GB', 'Storage_GB_SSD',\n",
       "       'Weight_pounds', 'Price', 'Price_Binned'],\n",
       "      dtype='object')"
      ]
     },
     "execution_count": 104,
     "metadata": {},
     "output_type": "execute_result"
    }
   ],
   "source": [
    "laptop_pricing.columns"
   ]
  },
  {
   "cell_type": "code",
   "execution_count": 105,
   "id": "9e52a36e-7fdd-48ac-a050-601300bef837",
   "metadata": {},
   "outputs": [],
   "source": [
    "Columns_needed_to_create_dummies = laptop_pricing.select_dtypes(exclude=['float64','int64']).columns "
   ]
  },
  {
   "cell_type": "code",
   "execution_count": 106,
   "id": "7871aae9-6c94-4578-b239-34be53454290",
   "metadata": {},
   "outputs": [
    {
     "data": {
      "text/plain": [
       "Index(['Manufacturer', 'Type_of_Screen', 'Price_Binned'], dtype='object')"
      ]
     },
     "execution_count": 106,
     "metadata": {},
     "output_type": "execute_result"
    }
   ],
   "source": [
    "Columns_needed_to_create_dummies"
   ]
  },
  {
   "cell_type": "code",
   "execution_count": 107,
   "id": "4c6e6939-1ce1-4083-b17d-a3a0ba52a1f9",
   "metadata": {},
   "outputs": [
    {
     "data": {
      "text/plain": [
       "array(['Manufacturer', 'Category', 'Type_of_Screen', 'GPU', 'OS',\n",
       "       'CPU_core', 'Screen_Size_inches', 'CPU_frequency', 'RAM_GB',\n",
       "       'Storage_GB_SSD', 'Weight_pounds', 'Price', 'Price_Binned',\n",
       "       'Manufacturer_Acer', 'Manufacturer_Asus', 'Manufacturer_Dell',\n",
       "       'Manufacturer_HP', 'Manufacturer_Huawei', 'Manufacturer_Lenovo',\n",
       "       'Manufacturer_MSI', 'Manufacturer_Razer', 'Manufacturer_Samsung',\n",
       "       'Manufacturer_Toshiba', 'Manufacturer_Xiaomi',\n",
       "       'Type_of_Screen_Full HD', 'Type_of_Screen_IPS Panel',\n",
       "       'Price_Binned_low', 'Price_Binned_medium', 'Price_Binned_high'],\n",
       "      dtype=object)"
      ]
     },
     "execution_count": 107,
     "metadata": {},
     "output_type": "execute_result"
    }
   ],
   "source": [
    "for var in Columns_needed_to_create_dummies:\n",
    "    cat_list = pd.get_dummies(laptop_pricing[var], prefix=var)\n",
    "    existing_dummy_columns = [col for col in laptop_pricing.columns if col.startswith(var + '_')]\n",
    "    if existing_dummy_columns:\n",
    "        laptop_pricing = laptop_pricing.drop(columns=existing_dummy_columns)\n",
    "    laptop_pricing_with_dummies = laptop_pricing.join(cat_list)\n",
    "    laptop_pricing = laptop_pricing_with_dummies\n",
    "cat_vars = Columns_needed_to_create_dummies\n",
    "data_vars=laptop_pricing.columns.values.tolist()\n",
    "to_keep=[i for i in data_vars if i not in cat_vars or i in Columns_needed_to_create_dummies]\n",
    "laptop_pricing_final=laptop_pricing[to_keep]\n",
    "laptop_pricing_final.columns.values"
   ]
  },
  {
   "cell_type": "markdown",
   "id": "0415ceb7-c8ec-430b-ab44-507c0ac38d53",
   "metadata": {
    "jp-MarkdownHeadingCollapsed": true
   },
   "source": [
    "# Model Development and Evaluation"
   ]
  },
  {
   "cell_type": "markdown",
   "id": "08dc64b0-aa96-4334-af97-3cb0f80b810d",
   "metadata": {
    "jp-MarkdownHeadingCollapsed": true
   },
   "source": [
    "### Simple Linear Regression"
   ]
  },
  {
   "cell_type": "markdown",
   "id": "eb687b5f-05fd-43bb-9740-851c357e7006",
   "metadata": {
    "jp-MarkdownHeadingCollapsed": true
   },
   "source": [
    "#### CPU_frequency & Price"
   ]
  },
  {
   "cell_type": "code",
   "execution_count": 111,
   "id": "cd5ea11c-17ed-492a-9d03-d233eb9daf70",
   "metadata": {},
   "outputs": [],
   "source": [
    "lm1 = LinearRegression()"
   ]
  },
  {
   "cell_type": "code",
   "execution_count": 112,
   "id": "bab4471c-af24-4643-a92f-65a8e6213890",
   "metadata": {},
   "outputs": [],
   "source": [
    "X = laptop_pricing[[\"CPU_frequency\"]]\n",
    "Y = laptop_pricing[\"Price\"]"
   ]
  },
  {
   "cell_type": "code",
   "execution_count": 113,
   "id": "ba768745-5d4f-4863-b85c-9537dbdc4475",
   "metadata": {},
   "outputs": [
    {
     "data": {
      "text/html": [
       "<style>#sk-container-id-1 {color: black;background-color: white;}#sk-container-id-1 pre{padding: 0;}#sk-container-id-1 div.sk-toggleable {background-color: white;}#sk-container-id-1 label.sk-toggleable__label {cursor: pointer;display: block;width: 100%;margin-bottom: 0;padding: 0.3em;box-sizing: border-box;text-align: center;}#sk-container-id-1 label.sk-toggleable__label-arrow:before {content: \"▸\";float: left;margin-right: 0.25em;color: #696969;}#sk-container-id-1 label.sk-toggleable__label-arrow:hover:before {color: black;}#sk-container-id-1 div.sk-estimator:hover label.sk-toggleable__label-arrow:before {color: black;}#sk-container-id-1 div.sk-toggleable__content {max-height: 0;max-width: 0;overflow: hidden;text-align: left;background-color: #f0f8ff;}#sk-container-id-1 div.sk-toggleable__content pre {margin: 0.2em;color: black;border-radius: 0.25em;background-color: #f0f8ff;}#sk-container-id-1 input.sk-toggleable__control:checked~div.sk-toggleable__content {max-height: 200px;max-width: 100%;overflow: auto;}#sk-container-id-1 input.sk-toggleable__control:checked~label.sk-toggleable__label-arrow:before {content: \"▾\";}#sk-container-id-1 div.sk-estimator input.sk-toggleable__control:checked~label.sk-toggleable__label {background-color: #d4ebff;}#sk-container-id-1 div.sk-label input.sk-toggleable__control:checked~label.sk-toggleable__label {background-color: #d4ebff;}#sk-container-id-1 input.sk-hidden--visually {border: 0;clip: rect(1px 1px 1px 1px);clip: rect(1px, 1px, 1px, 1px);height: 1px;margin: -1px;overflow: hidden;padding: 0;position: absolute;width: 1px;}#sk-container-id-1 div.sk-estimator {font-family: monospace;background-color: #f0f8ff;border: 1px dotted black;border-radius: 0.25em;box-sizing: border-box;margin-bottom: 0.5em;}#sk-container-id-1 div.sk-estimator:hover {background-color: #d4ebff;}#sk-container-id-1 div.sk-parallel-item::after {content: \"\";width: 100%;border-bottom: 1px solid gray;flex-grow: 1;}#sk-container-id-1 div.sk-label:hover label.sk-toggleable__label {background-color: #d4ebff;}#sk-container-id-1 div.sk-serial::before {content: \"\";position: absolute;border-left: 1px solid gray;box-sizing: border-box;top: 0;bottom: 0;left: 50%;z-index: 0;}#sk-container-id-1 div.sk-serial {display: flex;flex-direction: column;align-items: center;background-color: white;padding-right: 0.2em;padding-left: 0.2em;position: relative;}#sk-container-id-1 div.sk-item {position: relative;z-index: 1;}#sk-container-id-1 div.sk-parallel {display: flex;align-items: stretch;justify-content: center;background-color: white;position: relative;}#sk-container-id-1 div.sk-item::before, #sk-container-id-1 div.sk-parallel-item::before {content: \"\";position: absolute;border-left: 1px solid gray;box-sizing: border-box;top: 0;bottom: 0;left: 50%;z-index: -1;}#sk-container-id-1 div.sk-parallel-item {display: flex;flex-direction: column;z-index: 1;position: relative;background-color: white;}#sk-container-id-1 div.sk-parallel-item:first-child::after {align-self: flex-end;width: 50%;}#sk-container-id-1 div.sk-parallel-item:last-child::after {align-self: flex-start;width: 50%;}#sk-container-id-1 div.sk-parallel-item:only-child::after {width: 0;}#sk-container-id-1 div.sk-dashed-wrapped {border: 1px dashed gray;margin: 0 0.4em 0.5em 0.4em;box-sizing: border-box;padding-bottom: 0.4em;background-color: white;}#sk-container-id-1 div.sk-label label {font-family: monospace;font-weight: bold;display: inline-block;line-height: 1.2em;}#sk-container-id-1 div.sk-label-container {text-align: center;}#sk-container-id-1 div.sk-container {/* jupyter's `normalize.less` sets `[hidden] { display: none; }` but bootstrap.min.css set `[hidden] { display: none !important; }` so we also need the `!important` here to be able to override the default hidden behavior on the sphinx rendered scikit-learn.org. See: https://github.com/scikit-learn/scikit-learn/issues/21755 */display: inline-block !important;position: relative;}#sk-container-id-1 div.sk-text-repr-fallback {display: none;}</style><div id=\"sk-container-id-1\" class=\"sk-top-container\"><div class=\"sk-text-repr-fallback\"><pre>LinearRegression()</pre><b>In a Jupyter environment, please rerun this cell to show the HTML representation or trust the notebook. <br />On GitHub, the HTML representation is unable to render, please try loading this page with nbviewer.org.</b></div><div class=\"sk-container\" hidden><div class=\"sk-item\"><div class=\"sk-estimator sk-toggleable\"><input class=\"sk-toggleable__control sk-hidden--visually\" id=\"sk-estimator-id-1\" type=\"checkbox\" checked><label for=\"sk-estimator-id-1\" class=\"sk-toggleable__label sk-toggleable__label-arrow\">LinearRegression</label><div class=\"sk-toggleable__content\"><pre>LinearRegression()</pre></div></div></div></div></div>"
      ],
      "text/plain": [
       "LinearRegression()"
      ]
     },
     "execution_count": 113,
     "metadata": {},
     "output_type": "execute_result"
    }
   ],
   "source": [
    "lm1.fit(X,Y)"
   ]
  },
  {
   "cell_type": "code",
   "execution_count": 114,
   "id": "5bc93a8f-96ac-4b8d-8c8e-cfdd0c58e3c6",
   "metadata": {},
   "outputs": [],
   "source": [
    "Y_predicted1 = lm1.predict(X)"
   ]
  },
  {
   "cell_type": "code",
   "execution_count": 115,
   "id": "29f9862d-9291-4af7-b92e-fcac251a2951",
   "metadata": {},
   "outputs": [
    {
     "name": "stderr",
     "output_type": "stream",
     "text": [
      "/var/folders/p6/k6khhfmx2x35mly7crf32_5m0000gn/T/ipykernel_29614/2524222154.py:1: UserWarning: \n",
      "\n",
      "`distplot` is a deprecated function and will be removed in seaborn v0.14.0.\n",
      "\n",
      "Please adapt your code to use either `displot` (a figure-level function with\n",
      "similar flexibility) or `kdeplot` (an axes-level function for kernel density plots).\n",
      "\n",
      "For a guide to updating your code to use the new functions, please see\n",
      "https://gist.github.com/mwaskom/de44147ed2974457ad6372750bbe5751\n",
      "\n",
      "  sns.distplot(Y, hist = False, color = \"r\", label = \"Actual_Value\")\n",
      "/opt/anaconda3/lib/python3.11/site-packages/seaborn/_oldcore.py:1119: FutureWarning: use_inf_as_na option is deprecated and will be removed in a future version. Convert inf values to NaN before operating instead.\n",
      "  with pd.option_context('mode.use_inf_as_na', True):\n",
      "/var/folders/p6/k6khhfmx2x35mly7crf32_5m0000gn/T/ipykernel_29614/2524222154.py:2: UserWarning: \n",
      "\n",
      "`distplot` is a deprecated function and will be removed in seaborn v0.14.0.\n",
      "\n",
      "Please adapt your code to use either `displot` (a figure-level function with\n",
      "similar flexibility) or `kdeplot` (an axes-level function for kernel density plots).\n",
      "\n",
      "For a guide to updating your code to use the new functions, please see\n",
      "https://gist.github.com/mwaskom/de44147ed2974457ad6372750bbe5751\n",
      "\n",
      "  sns.distplot(Y_predicted1, hist = False, color = \"b\", label = \"Predicted_Value\" )\n",
      "/opt/anaconda3/lib/python3.11/site-packages/seaborn/_oldcore.py:1119: FutureWarning: use_inf_as_na option is deprecated and will be removed in a future version. Convert inf values to NaN before operating instead.\n",
      "  with pd.option_context('mode.use_inf_as_na', True):\n"
     ]
    },
    {
     "data": {
      "text/plain": [
       "<Axes: xlabel='Price', ylabel='Density'>"
      ]
     },
     "execution_count": 115,
     "metadata": {},
     "output_type": "execute_result"
    },
    {
     "data": {
      "image/png": "[encoded data removed]",
      "text/plain": [
       "<Figure size 640x480 with 1 Axes>"
      ]
     },
     "metadata": {},
     "output_type": "display_data"
    }
   ],
   "source": [
    "sns.distplot(Y, hist = False, color = \"r\", label = \"Actual_Value\")\n",
    "sns.distplot(Y_predicted1, hist = False, color = \"b\", label = \"Predicted_Value\" )"
   ]
  },
  {
   "cell_type": "code",
   "execution_count": 116,
   "id": "307e8837-1587-4c46-9a09-4622adc59d3b",
   "metadata": {},
   "outputs": [],
   "source": [
    "mse_1 = mean_squared_error(Y, Y_predicted1)"
   ]
  },
  {
   "cell_type": "code",
   "execution_count": 117,
   "id": "52b93467-be31-48da-a0ba-0066821c6d9c",
   "metadata": {},
   "outputs": [
    {
     "data": {
      "text/plain": [
       "284583.4405868628"
      ]
     },
     "execution_count": 117,
     "metadata": {},
     "output_type": "execute_result"
    }
   ],
   "source": [
    "mse_1"
   ]
  },
  {
   "cell_type": "code",
   "execution_count": 118,
   "id": "86233783-df2f-4ae2-b8ea-92663b5a53db",
   "metadata": {},
   "outputs": [],
   "source": [
    "r2_score_1 = lm1.score(X, Y)"
   ]
  },
  {
   "cell_type": "code",
   "execution_count": 119,
   "id": "4e456341-1d83-4bf6-8523-f0216e29d7bb",
   "metadata": {},
   "outputs": [
    {
     "data": {
      "text/plain": [
       "0.13444363210243282"
      ]
     },
     "execution_count": 119,
     "metadata": {},
     "output_type": "execute_result"
    }
   ],
   "source": [
    "r2_score_1"
   ]
  },
  {
   "cell_type": "markdown",
   "id": "7f37b013-cdb4-4527-b99f-8f350f0a8cbc",
   "metadata": {
    "jp-MarkdownHeadingCollapsed": true
   },
   "source": [
    "### Multiple Linear Regression"
   ]
  },
  {
   "cell_type": "markdown",
   "id": "1c48f829-e1c8-4ea3-b4cd-346850224c44",
   "metadata": {},
   "source": [
    "#### 'CPU_frequency', 'RAM_GB', 'Storage_GB_SSD', 'CPU_core', 'OS', 'GPU', 'Category' & Price"
   ]
  },
  {
   "cell_type": "code",
   "execution_count": 122,
   "id": "b5579732-2cd5-4292-9836-0510abf28376",
   "metadata": {},
   "outputs": [],
   "source": [
    "Set_1 = laptop_pricing[['CPU_frequency', 'RAM_GB', 'Storage_GB_SSD', 'CPU_core', 'OS', 'GPU', 'Category']]"
   ]
  },
  {
   "cell_type": "code",
   "execution_count": 123,
   "id": "63abc551-e8f3-4238-9e6a-ab1fe06c37ae",
   "metadata": {},
   "outputs": [],
   "source": [
    "Y = laptop_pricing['Price']"
   ]
  },
  {
   "cell_type": "code",
   "execution_count": 124,
   "id": "e85bb9db-bbf7-4756-b9d1-1a2309b0ebe3",
   "metadata": {},
   "outputs": [],
   "source": [
    "lm2 = LinearRegression()"
   ]
  },
  {
   "cell_type": "code",
   "execution_count": 125,
   "id": "69da8421-1f76-4860-89bd-5640beb25b70",
   "metadata": {},
   "outputs": [
    {
     "data": {
      "text/html": [
       "<style>#sk-container-id-2 {color: black;background-color: white;}#sk-container-id-2 pre{padding: 0;}#sk-container-id-2 div.sk-toggleable {background-color: white;}#sk-container-id-2 label.sk-toggleable__label {cursor: pointer;display: block;width: 100%;margin-bottom: 0;padding: 0.3em;box-sizing: border-box;text-align: center;}#sk-container-id-2 label.sk-toggleable__label-arrow:before {content: \"▸\";float: left;margin-right: 0.25em;color: #696969;}#sk-container-id-2 label.sk-toggleable__label-arrow:hover:before {color: black;}#sk-container-id-2 div.sk-estimator:hover label.sk-toggleable__label-arrow:before {color: black;}#sk-container-id-2 div.sk-toggleable__content {max-height: 0;max-width: 0;overflow: hidden;text-align: left;background-color: #f0f8ff;}#sk-container-id-2 div.sk-toggleable__content pre {margin: 0.2em;color: black;border-radius: 0.25em;background-color: #f0f8ff;}#sk-container-id-2 input.sk-toggleable__control:checked~div.sk-toggleable__content {max-height: 200px;max-width: 100%;overflow: auto;}#sk-container-id-2 input.sk-toggleable__control:checked~label.sk-toggleable__label-arrow:before {content: \"▾\";}#sk-container-id-2 div.sk-estimator input.sk-toggleable__control:checked~label.sk-toggleable__label {background-color: #d4ebff;}#sk-container-id-2 div.sk-label input.sk-toggleable__control:checked~label.sk-toggleable__label {background-color: #d4ebff;}#sk-container-id-2 input.sk-hidden--visually {border: 0;clip: rect(1px 1px 1px 1px);clip: rect(1px, 1px, 1px, 1px);height: 1px;margin: -1px;overflow: hidden;padding: 0;position: absolute;width: 1px;}#sk-container-id-2 div.sk-estimator {font-family: monospace;background-color: #f0f8ff;border: 1px dotted black;border-radius: 0.25em;box-sizing: border-box;margin-bottom: 0.5em;}#sk-container-id-2 div.sk-estimator:hover {background-color: #d4ebff;}#sk-container-id-2 div.sk-parallel-item::after {content: \"\";width: 100%;border-bottom: 1px solid gray;flex-grow: 1;}#sk-container-id-2 div.sk-label:hover label.sk-toggleable__label {background-color: #d4ebff;}#sk-container-id-2 div.sk-serial::before {content: \"\";position: absolute;border-left: 1px solid gray;box-sizing: border-box;top: 0;bottom: 0;left: 50%;z-index: 0;}#sk-container-id-2 div.sk-serial {display: flex;flex-direction: column;align-items: center;background-color: white;padding-right: 0.2em;padding-left: 0.2em;position: relative;}#sk-container-id-2 div.sk-item {position: relative;z-index: 1;}#sk-container-id-2 div.sk-parallel {display: flex;align-items: stretch;justify-content: center;background-color: white;position: relative;}#sk-container-id-2 div.sk-item::before, #sk-container-id-2 div.sk-parallel-item::before {content: \"\";position: absolute;border-left: 1px solid gray;box-sizing: border-box;top: 0;bottom: 0;left: 50%;z-index: -1;}#sk-container-id-2 div.sk-parallel-item {display: flex;flex-direction: column;z-index: 1;position: relative;background-color: white;}#sk-container-id-2 div.sk-parallel-item:first-child::after {align-self: flex-end;width: 50%;}#sk-container-id-2 div.sk-parallel-item:last-child::after {align-self: flex-start;width: 50%;}#sk-container-id-2 div.sk-parallel-item:only-child::after {width: 0;}#sk-container-id-2 div.sk-dashed-wrapped {border: 1px dashed gray;margin: 0 0.4em 0.5em 0.4em;box-sizing: border-box;padding-bottom: 0.4em;background-color: white;}#sk-container-id-2 div.sk-label label {font-family: monospace;font-weight: bold;display: inline-block;line-height: 1.2em;}#sk-container-id-2 div.sk-label-container {text-align: center;}#sk-container-id-2 div.sk-container {/* jupyter's `normalize.less` sets `[hidden] { display: none; }` but bootstrap.min.css set `[hidden] { display: none !important; }` so we also need the `!important` here to be able to override the default hidden behavior on the sphinx rendered scikit-learn.org. See: https://github.com/scikit-learn/scikit-learn/issues/21755 */display: inline-block !important;position: relative;}#sk-container-id-2 div.sk-text-repr-fallback {display: none;}</style><div id=\"sk-container-id-2\" class=\"sk-top-container\"><div class=\"sk-text-repr-fallback\"><pre>LinearRegression()</pre><b>In a Jupyter environment, please rerun this cell to show the HTML representation or trust the notebook. <br />On GitHub, the HTML representation is unable to render, please try loading this page with nbviewer.org.</b></div><div class=\"sk-container\" hidden><div class=\"sk-item\"><div class=\"sk-estimator sk-toggleable\"><input class=\"sk-toggleable__control sk-hidden--visually\" id=\"sk-estimator-id-2\" type=\"checkbox\" checked><label for=\"sk-estimator-id-2\" class=\"sk-toggleable__label sk-toggleable__label-arrow\">LinearRegression</label><div class=\"sk-toggleable__content\"><pre>LinearRegression()</pre></div></div></div></div></div>"
      ],
      "text/plain": [
       "LinearRegression()"
      ]
     },
     "execution_count": 125,
     "metadata": {},
     "output_type": "execute_result"
    }
   ],
   "source": [
    "lm2.fit(Set_1, Y)"
   ]
  },
  {
   "cell_type": "code",
   "execution_count": 126,
   "id": "f86de63a-ea8c-4a2b-a063-bdbd891021cd",
   "metadata": {},
   "outputs": [],
   "source": [
    "Y_predicted2 = lm2.predict(Set_1)"
   ]
  },
  {
   "cell_type": "code",
   "execution_count": 127,
   "id": "18597881-3fd6-4fe8-ab22-fb7003b9c856",
   "metadata": {},
   "outputs": [
    {
     "name": "stderr",
     "output_type": "stream",
     "text": [
      "/var/folders/p6/k6khhfmx2x35mly7crf32_5m0000gn/T/ipykernel_29614/188903519.py:1: UserWarning: \n",
      "\n",
      "`distplot` is a deprecated function and will be removed in seaborn v0.14.0.\n",
      "\n",
      "Please adapt your code to use either `displot` (a figure-level function with\n",
      "similar flexibility) or `kdeplot` (an axes-level function for kernel density plots).\n",
      "\n",
      "For a guide to updating your code to use the new functions, please see\n",
      "https://gist.github.com/mwaskom/de44147ed2974457ad6372750bbe5751\n",
      "\n",
      "  sns.distplot(Y, hist = False, color = \"r\", label = \"Actual_Value\")\n",
      "/opt/anaconda3/lib/python3.11/site-packages/seaborn/_oldcore.py:1119: FutureWarning: use_inf_as_na option is deprecated and will be removed in a future version. Convert inf values to NaN before operating instead.\n",
      "  with pd.option_context('mode.use_inf_as_na', True):\n",
      "/var/folders/p6/k6khhfmx2x35mly7crf32_5m0000gn/T/ipykernel_29614/188903519.py:2: UserWarning: \n",
      "\n",
      "`distplot` is a deprecated function and will be removed in seaborn v0.14.0.\n",
      "\n",
      "Please adapt your code to use either `displot` (a figure-level function with\n",
      "similar flexibility) or `kdeplot` (an axes-level function for kernel density plots).\n",
      "\n",
      "For a guide to updating your code to use the new functions, please see\n",
      "https://gist.github.com/mwaskom/de44147ed2974457ad6372750bbe5751\n",
      "\n",
      "  sns.distplot(Y_predicted2, hist = False, color = \"b\", label = \"Predicted_Value\" )\n",
      "/opt/anaconda3/lib/python3.11/site-packages/seaborn/_oldcore.py:1119: FutureWarning: use_inf_as_na option is deprecated and will be removed in a future version. Convert inf values to NaN before operating instead.\n",
      "  with pd.option_context('mode.use_inf_as_na', True):\n"
     ]
    },
    {
     "data": {
      "text/plain": [
       "<Axes: xlabel='Price', ylabel='Density'>"
      ]
     },
     "execution_count": 127,
     "metadata": {},
     "output_type": "execute_result"
    },
    {
     "data": {
      "image/png": "[encoded data removed]",
      "text/plain": [
       "<Figure size 640x480 with 1 Axes>"
      ]
     },
     "metadata": {},
     "output_type": "display_data"
    }
   ],
   "source": [
    "sns.distplot(Y, hist = False, color = \"r\", label = \"Actual_Value\")\n",
    "sns.distplot(Y_predicted2, hist = False, color = \"b\", label = \"Predicted_Value\" )"
   ]
  },
  {
   "cell_type": "code",
   "execution_count": 128,
   "id": "e6643a56-1d90-4d1c-882a-eb89ad3c80a2",
   "metadata": {},
   "outputs": [],
   "source": [
    "mse_2 = mean_squared_error(Y, Y_predicted2)\n",
    "r2_score_2 = lm2.score(Set_1, Y)"
   ]
  },
  {
   "cell_type": "code",
   "execution_count": 129,
   "id": "19b5c9f6-1bf2-4e94-83f6-6de15efaa08a",
   "metadata": {},
   "outputs": [
    {
     "data": {
      "text/plain": [
       "161680.57263893107"
      ]
     },
     "execution_count": 129,
     "metadata": {},
     "output_type": "execute_result"
    }
   ],
   "source": [
    "mse_2"
   ]
  },
  {
   "cell_type": "code",
   "execution_count": 130,
   "id": "19145ba5-2381-45a3-897a-604075915272",
   "metadata": {},
   "outputs": [
    {
     "data": {
      "text/plain": [
       "0.5082509055187374"
      ]
     },
     "execution_count": 130,
     "metadata": {},
     "output_type": "execute_result"
    }
   ],
   "source": [
    "r2_score_2"
   ]
  },
  {
   "cell_type": "markdown",
   "id": "b22b6194-3cf3-48ff-8fda-7ad75302d6b9",
   "metadata": {
    "jp-MarkdownHeadingCollapsed": true
   },
   "source": [
    "### Polynomial Regression"
   ]
  },
  {
   "cell_type": "markdown",
   "id": "b54cc64e-6904-4410-9c79-0d4a6e7f3423",
   "metadata": {},
   "source": [
    "#### CPU_frequency & Price "
   ]
  },
  {
   "cell_type": "code",
   "execution_count": 133,
   "id": "ec92717a-e948-4c60-98a4-8ce9347c31db",
   "metadata": {},
   "outputs": [],
   "source": [
    "X = laptop_pricing[\"CPU_frequency\"]"
   ]
  },
  {
   "cell_type": "code",
   "execution_count": 134,
   "id": "d5ec3083-6df0-4e86-ad83-c3487ca50387",
   "metadata": {},
   "outputs": [],
   "source": [
    "f = np.polyfit(X, Y, 3)\n"
   ]
  },
  {
   "cell_type": "code",
   "execution_count": 135,
   "id": "ad6b731c-9dae-4f7a-8d89-aefe37149f65",
   "metadata": {},
   "outputs": [],
   "source": [
    "p = np.poly1d(f)\n",
    "# creating a polynomial function with degree 3"
   ]
  },
  {
   "cell_type": "code",
   "execution_count": 136,
   "id": "18c8b87e-0cc1-4430-bbbf-41363c2dfc27",
   "metadata": {},
   "outputs": [
    {
     "data": {
      "text/plain": [
       "poly1d([ 1397.77295483, -7817.14432903, 14237.47770486, -7238.3350619 ])"
      ]
     },
     "execution_count": 136,
     "metadata": {},
     "output_type": "execute_result"
    }
   ],
   "source": [
    "p"
   ]
  },
  {
   "cell_type": "code",
   "execution_count": 137,
   "id": "2fe4acde-fe13-43b0-a518-eabc7a1a7b6b",
   "metadata": {},
   "outputs": [],
   "source": [
    "def PlotPolly(model, independent_variable, dependent_variable, Name):\n",
    "    X_new = np.linspace(independent_variable.min(),independent_variable.max(), 100)\n",
    "    Y_predicted_poly = model(X_new)\n",
    "    plt.plot(independent_variable, dependent_variable, '.', X_new, Y_predicted_poly, '*')\n",
    "    plt.title(f'Polynomial Fit for Price ~ {Name}')\n",
    "    ax = plt.gca()\n",
    "    ax.set_facecolor((0.898, 0.898, 0.898))\n",
    "    fig = plt.gcf()\n",
    "    plt.xlabel(Name)\n",
    "    plt.ylabel('Price of laptops')"
   ]
  },
  {
   "cell_type": "code",
   "execution_count": 138,
   "id": "d579f1f8-bfff-4a46-90ff-eccea49b69c9",
   "metadata": {},
   "outputs": [
    {
     "data": {
      "image/png": "[encoded data removed]",
      "text/plain": [
       "<Figure size 640x480 with 1 Axes>"
      ]
     },
     "metadata": {},
     "output_type": "display_data"
    }
   ],
   "source": [
    "PlotPolly(p, X, Y, \"CPU_frequency\")"
   ]
  },
  {
   "cell_type": "code",
   "execution_count": 139,
   "id": "7f622b3a-8b84-4017-948c-27851f4bea21",
   "metadata": {},
   "outputs": [],
   "source": [
    "mse_poly_3 = mean_squared_error(Y, p(X))\n",
    "r2_squared_poly = r2_score(Y, p(X))"
   ]
  },
  {
   "cell_type": "code",
   "execution_count": 140,
   "id": "d438418d-35d0-4cd0-acc9-e246330b22e1",
   "metadata": {},
   "outputs": [
    {
     "data": {
      "text/plain": [
       "241024.8630384873"
      ]
     },
     "execution_count": 140,
     "metadata": {},
     "output_type": "execute_result"
    }
   ],
   "source": [
    "mse_poly_3"
   ]
  },
  {
   "cell_type": "code",
   "execution_count": 141,
   "id": "6039fcc3-7308-48f9-a246-80fd54e6c25e",
   "metadata": {},
   "outputs": [
    {
     "data": {
      "text/plain": [
       "0.2669264079653123"
      ]
     },
     "execution_count": 141,
     "metadata": {},
     "output_type": "execute_result"
    }
   ],
   "source": [
    "r2_squared_poly"
   ]
  },
  {
   "cell_type": "markdown",
   "id": "8229d35b-44a4-4c03-8b0c-9d44900e45c5",
   "metadata": {
    "jp-MarkdownHeadingCollapsed": true
   },
   "source": [
    "### Pipelines for Multidimensional Polynomial Regression"
   ]
  },
  {
   "cell_type": "code",
   "execution_count": 143,
   "id": "f40dfd90-03d7-4195-83a8-0e17034080ae",
   "metadata": {},
   "outputs": [],
   "source": [
    "Input1 =[(\"scale\", StandardScaler()),(\"polynomial_feature\", PolynomialFeatures(degree = 2)),(\"model\", LinearRegression())]"
   ]
  },
  {
   "cell_type": "code",
   "execution_count": 144,
   "id": "7fb0753a-be8c-462e-ad7f-7a7dd44f4389",
   "metadata": {},
   "outputs": [],
   "source": [
    "pipe1 = Pipeline(Input1)"
   ]
  },
  {
   "cell_type": "code",
   "execution_count": 145,
   "id": "56311b98-f84e-4946-a3e1-c9148d2b746f",
   "metadata": {},
   "outputs": [
    {
     "data": {
      "text/html": [
       "<style>#sk-container-id-3 {color: black;background-color: white;}#sk-container-id-3 pre{padding: 0;}#sk-container-id-3 div.sk-toggleable {background-color: white;}#sk-container-id-3 label.sk-toggleable__label {cursor: pointer;display: block;width: 100%;margin-bottom: 0;padding: 0.3em;box-sizing: border-box;text-align: center;}#sk-container-id-3 label.sk-toggleable__label-arrow:before {content: \"▸\";float: left;margin-right: 0.25em;color: #696969;}#sk-container-id-3 label.sk-toggleable__label-arrow:hover:before {color: black;}#sk-container-id-3 div.sk-estimator:hover label.sk-toggleable__label-arrow:before {color: black;}#sk-container-id-3 div.sk-toggleable__content {max-height: 0;max-width: 0;overflow: hidden;text-align: left;background-color: #f0f8ff;}#sk-container-id-3 div.sk-toggleable__content pre {margin: 0.2em;color: black;border-radius: 0.25em;background-color: #f0f8ff;}#sk-container-id-3 input.sk-toggleable__control:checked~div.sk-toggleable__content {max-height: 200px;max-width: 100%;overflow: auto;}#sk-container-id-3 input.sk-toggleable__control:checked~label.sk-toggleable__label-arrow:before {content: \"▾\";}#sk-container-id-3 div.sk-estimator input.sk-toggleable__control:checked~label.sk-toggleable__label {background-color: #d4ebff;}#sk-container-id-3 div.sk-label input.sk-toggleable__control:checked~label.sk-toggleable__label {background-color: #d4ebff;}#sk-container-id-3 input.sk-hidden--visually {border: 0;clip: rect(1px 1px 1px 1px);clip: rect(1px, 1px, 1px, 1px);height: 1px;margin: -1px;overflow: hidden;padding: 0;position: absolute;width: 1px;}#sk-container-id-3 div.sk-estimator {font-family: monospace;background-color: #f0f8ff;border: 1px dotted black;border-radius: 0.25em;box-sizing: border-box;margin-bottom: 0.5em;}#sk-container-id-3 div.sk-estimator:hover {background-color: #d4ebff;}#sk-container-id-3 div.sk-parallel-item::after {content: \"\";width: 100%;border-bottom: 1px solid gray;flex-grow: 1;}#sk-container-id-3 div.sk-label:hover label.sk-toggleable__label {background-color: #d4ebff;}#sk-container-id-3 div.sk-serial::before {content: \"\";position: absolute;border-left: 1px solid gray;box-sizing: border-box;top: 0;bottom: 0;left: 50%;z-index: 0;}#sk-container-id-3 div.sk-serial {display: flex;flex-direction: column;align-items: center;background-color: white;padding-right: 0.2em;padding-left: 0.2em;position: relative;}#sk-container-id-3 div.sk-item {position: relative;z-index: 1;}#sk-container-id-3 div.sk-parallel {display: flex;align-items: stretch;justify-content: center;background-color: white;position: relative;}#sk-container-id-3 div.sk-item::before, #sk-container-id-3 div.sk-parallel-item::before {content: \"\";position: absolute;border-left: 1px solid gray;box-sizing: border-box;top: 0;bottom: 0;left: 50%;z-index: -1;}#sk-container-id-3 div.sk-parallel-item {display: flex;flex-direction: column;z-index: 1;position: relative;background-color: white;}#sk-container-id-3 div.sk-parallel-item:first-child::after {align-self: flex-end;width: 50%;}#sk-container-id-3 div.sk-parallel-item:last-child::after {align-self: flex-start;width: 50%;}#sk-container-id-3 div.sk-parallel-item:only-child::after {width: 0;}#sk-container-id-3 div.sk-dashed-wrapped {border: 1px dashed gray;margin: 0 0.4em 0.5em 0.4em;box-sizing: border-box;padding-bottom: 0.4em;background-color: white;}#sk-container-id-3 div.sk-label label {font-family: monospace;font-weight: bold;display: inline-block;line-height: 1.2em;}#sk-container-id-3 div.sk-label-container {text-align: center;}#sk-container-id-3 div.sk-container {/* jupyter's `normalize.less` sets `[hidden] { display: none; }` but bootstrap.min.css set `[hidden] { display: none !important; }` so we also need the `!important` here to be able to override the default hidden behavior on the sphinx rendered scikit-learn.org. See: https://github.com/scikit-learn/scikit-learn/issues/21755 */display: inline-block !important;position: relative;}#sk-container-id-3 div.sk-text-repr-fallback {display: none;}</style><div id=\"sk-container-id-3\" class=\"sk-top-container\"><div class=\"sk-text-repr-fallback\"><pre>Pipeline(steps=[(&#x27;scale&#x27;, StandardScaler()),\n",
       "                (&#x27;polynomial_feature&#x27;, PolynomialFeatures()),\n",
       "                (&#x27;model&#x27;, LinearRegression())])</pre><b>In a Jupyter environment, please rerun this cell to show the HTML representation or trust the notebook. <br />On GitHub, the HTML representation is unable to render, please try loading this page with nbviewer.org.</b></div><div class=\"sk-container\" hidden><div class=\"sk-item sk-dashed-wrapped\"><div class=\"sk-label-container\"><div class=\"sk-label sk-toggleable\"><input class=\"sk-toggleable__control sk-hidden--visually\" id=\"sk-estimator-id-3\" type=\"checkbox\" ><label for=\"sk-estimator-id-3\" class=\"sk-toggleable__label sk-toggleable__label-arrow\">Pipeline</label><div class=\"sk-toggleable__content\"><pre>Pipeline(steps=[(&#x27;scale&#x27;, StandardScaler()),\n",
       "                (&#x27;polynomial_feature&#x27;, PolynomialFeatures()),\n",
       "                (&#x27;model&#x27;, LinearRegression())])</pre></div></div></div><div class=\"sk-serial\"><div class=\"sk-item\"><div class=\"sk-estimator sk-toggleable\"><input class=\"sk-toggleable__control sk-hidden--visually\" id=\"sk-estimator-id-4\" type=\"checkbox\" ><label for=\"sk-estimator-id-4\" class=\"sk-toggleable__label sk-toggleable__label-arrow\">StandardScaler</label><div class=\"sk-toggleable__content\"><pre>StandardScaler()</pre></div></div></div><div class=\"sk-item\"><div class=\"sk-estimator sk-toggleable\"><input class=\"sk-toggleable__control sk-hidden--visually\" id=\"sk-estimator-id-5\" type=\"checkbox\" ><label for=\"sk-estimator-id-5\" class=\"sk-toggleable__label sk-toggleable__label-arrow\">PolynomialFeatures</label><div class=\"sk-toggleable__content\"><pre>PolynomialFeatures()</pre></div></div></div><div class=\"sk-item\"><div class=\"sk-estimator sk-toggleable\"><input class=\"sk-toggleable__control sk-hidden--visually\" id=\"sk-estimator-id-6\" type=\"checkbox\" ><label for=\"sk-estimator-id-6\" class=\"sk-toggleable__label sk-toggleable__label-arrow\">LinearRegression</label><div class=\"sk-toggleable__content\"><pre>LinearRegression()</pre></div></div></div></div></div></div></div>"
      ],
      "text/plain": [
       "Pipeline(steps=[('scale', StandardScaler()),\n",
       "                ('polynomial_feature', PolynomialFeatures()),\n",
       "                ('model', LinearRegression())])"
      ]
     },
     "execution_count": 145,
     "metadata": {},
     "output_type": "execute_result"
    }
   ],
   "source": [
    "pipe1"
   ]
  },
  {
   "cell_type": "code",
   "execution_count": 146,
   "id": "a49a810b-859f-4391-8679-074c5a6825ad",
   "metadata": {},
   "outputs": [
    {
     "data": {
      "text/html": [
       "<style>#sk-container-id-4 {color: black;background-color: white;}#sk-container-id-4 pre{padding: 0;}#sk-container-id-4 div.sk-toggleable {background-color: white;}#sk-container-id-4 label.sk-toggleable__label {cursor: pointer;display: block;width: 100%;margin-bottom: 0;padding: 0.3em;box-sizing: border-box;text-align: center;}#sk-container-id-4 label.sk-toggleable__label-arrow:before {content: \"▸\";float: left;margin-right: 0.25em;color: #696969;}#sk-container-id-4 label.sk-toggleable__label-arrow:hover:before {color: black;}#sk-container-id-4 div.sk-estimator:hover label.sk-toggleable__label-arrow:before {color: black;}#sk-container-id-4 div.sk-toggleable__content {max-height: 0;max-width: 0;overflow: hidden;text-align: left;background-color: #f0f8ff;}#sk-container-id-4 div.sk-toggleable__content pre {margin: 0.2em;color: black;border-radius: 0.25em;background-color: #f0f8ff;}#sk-container-id-4 input.sk-toggleable__control:checked~div.sk-toggleable__content {max-height: 200px;max-width: 100%;overflow: auto;}#sk-container-id-4 input.sk-toggleable__control:checked~label.sk-toggleable__label-arrow:before {content: \"▾\";}#sk-container-id-4 div.sk-estimator input.sk-toggleable__control:checked~label.sk-toggleable__label {background-color: #d4ebff;}#sk-container-id-4 div.sk-label input.sk-toggleable__control:checked~label.sk-toggleable__label {background-color: #d4ebff;}#sk-container-id-4 input.sk-hidden--visually {border: 0;clip: rect(1px 1px 1px 1px);clip: rect(1px, 1px, 1px, 1px);height: 1px;margin: -1px;overflow: hidden;padding: 0;position: absolute;width: 1px;}#sk-container-id-4 div.sk-estimator {font-family: monospace;background-color: #f0f8ff;border: 1px dotted black;border-radius: 0.25em;box-sizing: border-box;margin-bottom: 0.5em;}#sk-container-id-4 div.sk-estimator:hover {background-color: #d4ebff;}#sk-container-id-4 div.sk-parallel-item::after {content: \"\";width: 100%;border-bottom: 1px solid gray;flex-grow: 1;}#sk-container-id-4 div.sk-label:hover label.sk-toggleable__label {background-color: #d4ebff;}#sk-container-id-4 div.sk-serial::before {content: \"\";position: absolute;border-left: 1px solid gray;box-sizing: border-box;top: 0;bottom: 0;left: 50%;z-index: 0;}#sk-container-id-4 div.sk-serial {display: flex;flex-direction: column;align-items: center;background-color: white;padding-right: 0.2em;padding-left: 0.2em;position: relative;}#sk-container-id-4 div.sk-item {position: relative;z-index: 1;}#sk-container-id-4 div.sk-parallel {display: flex;align-items: stretch;justify-content: center;background-color: white;position: relative;}#sk-container-id-4 div.sk-item::before, #sk-container-id-4 div.sk-parallel-item::before {content: \"\";position: absolute;border-left: 1px solid gray;box-sizing: border-box;top: 0;bottom: 0;left: 50%;z-index: -1;}#sk-container-id-4 div.sk-parallel-item {display: flex;flex-direction: column;z-index: 1;position: relative;background-color: white;}#sk-container-id-4 div.sk-parallel-item:first-child::after {align-self: flex-end;width: 50%;}#sk-container-id-4 div.sk-parallel-item:last-child::after {align-self: flex-start;width: 50%;}#sk-container-id-4 div.sk-parallel-item:only-child::after {width: 0;}#sk-container-id-4 div.sk-dashed-wrapped {border: 1px dashed gray;margin: 0 0.4em 0.5em 0.4em;box-sizing: border-box;padding-bottom: 0.4em;background-color: white;}#sk-container-id-4 div.sk-label label {font-family: monospace;font-weight: bold;display: inline-block;line-height: 1.2em;}#sk-container-id-4 div.sk-label-container {text-align: center;}#sk-container-id-4 div.sk-container {/* jupyter's `normalize.less` sets `[hidden] { display: none; }` but bootstrap.min.css set `[hidden] { display: none !important; }` so we also need the `!important` here to be able to override the default hidden behavior on the sphinx rendered scikit-learn.org. See: https://github.com/scikit-learn/scikit-learn/issues/21755 */display: inline-block !important;position: relative;}#sk-container-id-4 div.sk-text-repr-fallback {display: none;}</style><div id=\"sk-container-id-4\" class=\"sk-top-container\"><div class=\"sk-text-repr-fallback\"><pre>Pipeline(steps=[(&#x27;scale&#x27;, StandardScaler()),\n",
       "                (&#x27;polynomial_feature&#x27;, PolynomialFeatures()),\n",
       "                (&#x27;model&#x27;, LinearRegression())])</pre><b>In a Jupyter environment, please rerun this cell to show the HTML representation or trust the notebook. <br />On GitHub, the HTML representation is unable to render, please try loading this page with nbviewer.org.</b></div><div class=\"sk-container\" hidden><div class=\"sk-item sk-dashed-wrapped\"><div class=\"sk-label-container\"><div class=\"sk-label sk-toggleable\"><input class=\"sk-toggleable__control sk-hidden--visually\" id=\"sk-estimator-id-7\" type=\"checkbox\" ><label for=\"sk-estimator-id-7\" class=\"sk-toggleable__label sk-toggleable__label-arrow\">Pipeline</label><div class=\"sk-toggleable__content\"><pre>Pipeline(steps=[(&#x27;scale&#x27;, StandardScaler()),\n",
       "                (&#x27;polynomial_feature&#x27;, PolynomialFeatures()),\n",
       "                (&#x27;model&#x27;, LinearRegression())])</pre></div></div></div><div class=\"sk-serial\"><div class=\"sk-item\"><div class=\"sk-estimator sk-toggleable\"><input class=\"sk-toggleable__control sk-hidden--visually\" id=\"sk-estimator-id-8\" type=\"checkbox\" ><label for=\"sk-estimator-id-8\" class=\"sk-toggleable__label sk-toggleable__label-arrow\">StandardScaler</label><div class=\"sk-toggleable__content\"><pre>StandardScaler()</pre></div></div></div><div class=\"sk-item\"><div class=\"sk-estimator sk-toggleable\"><input class=\"sk-toggleable__control sk-hidden--visually\" id=\"sk-estimator-id-9\" type=\"checkbox\" ><label for=\"sk-estimator-id-9\" class=\"sk-toggleable__label sk-toggleable__label-arrow\">PolynomialFeatures</label><div class=\"sk-toggleable__content\"><pre>PolynomialFeatures()</pre></div></div></div><div class=\"sk-item\"><div class=\"sk-estimator sk-toggleable\"><input class=\"sk-toggleable__control sk-hidden--visually\" id=\"sk-estimator-id-10\" type=\"checkbox\" ><label for=\"sk-estimator-id-10\" class=\"sk-toggleable__label sk-toggleable__label-arrow\">LinearRegression</label><div class=\"sk-toggleable__content\"><pre>LinearRegression()</pre></div></div></div></div></div></div></div>"
      ],
      "text/plain": [
       "Pipeline(steps=[('scale', StandardScaler()),\n",
       "                ('polynomial_feature', PolynomialFeatures()),\n",
       "                ('model', LinearRegression())])"
      ]
     },
     "execution_count": 146,
     "metadata": {},
     "output_type": "execute_result"
    }
   ],
   "source": [
    "pipe1.fit(Set_1, Y)"
   ]
  },
  {
   "cell_type": "code",
   "execution_count": 147,
   "id": "09e1c750-7244-44a1-8694-670855ec0bd3",
   "metadata": {},
   "outputs": [],
   "source": [
    "Y_predicted_multiple_polynomial = pipe1.predict(Set_1)"
   ]
  },
  {
   "cell_type": "code",
   "execution_count": 148,
   "id": "05cca873-ac80-4efa-84f2-4d2d68a94dda",
   "metadata": {},
   "outputs": [],
   "source": [
    "mse_multidimensional_polynomial = mean_squared_error(Y,Y_predicted_multiple_polynomial )"
   ]
  },
  {
   "cell_type": "code",
   "execution_count": 149,
   "id": "ab44007d-f2ab-412d-a2d8-7a241cdd8397",
   "metadata": {},
   "outputs": [
    {
     "data": {
      "text/plain": [
       "120595.78026105175"
      ]
     },
     "execution_count": 149,
     "metadata": {},
     "output_type": "execute_result"
    }
   ],
   "source": [
    "mse_multidimensional_polynomial"
   ]
  },
  {
   "cell_type": "code",
   "execution_count": 150,
   "id": "6bcbfea6-144e-46ba-82fc-89031306b199",
   "metadata": {},
   "outputs": [],
   "source": [
    "r2_multidimensional_polynomial = r2_score(Y,Y_predicted_multiple_polynomial)"
   ]
  },
  {
   "cell_type": "code",
   "execution_count": 151,
   "id": "56993abc-94ca-4287-9324-376f1beee3d0",
   "metadata": {},
   "outputs": [
    {
     "data": {
      "text/plain": [
       "0.6332097000047736"
      ]
     },
     "execution_count": 151,
     "metadata": {},
     "output_type": "execute_result"
    }
   ],
   "source": [
    "r2_multidimensional_polynomial"
   ]
  },
  {
   "cell_type": "markdown",
   "id": "a50d13d5-ab67-410b-8eef-eafd4180ea5a",
   "metadata": {},
   "source": [
    "## Conclusion After Model Development and Evaluation"
   ]
  },
  {
   "cell_type": "markdown",
   "id": "e530d7b1-06ca-4d54-b879-230137a477fe",
   "metadata": {},
   "source": [
    "We can see that mse and r2 squared of multiple models is as below:\n",
    "\n",
    "1) Simple Linear regression:\n",
    "\n",
    "mse = 284583.4405868628\n",
    "R^2 = 13.4 %\n",
    "\n",
    "2) Multiple Linear Regression:\n",
    "\n",
    "mse = 161680.57263893107\n",
    "R^2 = 50.8\n",
    "\n",
    "3) Polynomial Regression:\n",
    "\n",
    "mse =241024.8630384873\n",
    "R^2 = 26.69 %\n",
    "\n",
    "4) Multidimensional Polynomial Regression:\n",
    "\n",
    "mse = 120595.78026105175\n",
    "R^2 = 63.32 %"
   ]
  },
  {
   "cell_type": "markdown",
   "id": "0000b87a-9f2c-4d71-ab01-9caa1a0b892a",
   "metadata": {},
   "source": [
    "We choose to go with Multidimensional Polynomial regression which helps us with better predictions"
   ]
  },
  {
   "cell_type": "markdown",
   "id": "d02dfddc-e224-4bc2-8d5e-cd7a03de4a49",
   "metadata": {},
   "source": [
    "# Model Evaluation and Refinement"
   ]
  },
  {
   "cell_type": "markdown",
   "id": "364e882d-c638-4afc-8d53-2f398e45677c",
   "metadata": {
    "jp-MarkdownHeadingCollapsed": true
   },
   "source": [
    "## Training and Test Data Split"
   ]
  },
  {
   "cell_type": "code",
   "execution_count": 157,
   "id": "51553ebc-7cd2-42f7-9018-a53866bc2ec2",
   "metadata": {},
   "outputs": [],
   "source": [
    "x_data = laptop_pricing.drop('Price', axis =1)\n",
    "y_data = laptop_pricing[\"Price\"]"
   ]
  },
  {
   "cell_type": "code",
   "execution_count": 158,
   "id": "1bd867a5-e215-4fda-aaa1-443bcf4f76f3",
   "metadata": {},
   "outputs": [],
   "source": [
    "(x_train, x_test, y_train, y_test) = train_test_split(x_data,y_data, test_size = 0.1, random_state =1)"
   ]
  },
  {
   "cell_type": "markdown",
   "id": "e205a04d-937e-4dd8-9e61-466e39ebfb31",
   "metadata": {},
   "source": [
    "### Cross Validation"
   ]
  },
  {
   "cell_type": "code",
   "execution_count": 160,
   "id": "a1391dad-a44f-4e9a-a1a6-69f4bdbae1f5",
   "metadata": {},
   "outputs": [],
   "source": [
    "lre = LinearRegression()"
   ]
  },
  {
   "cell_type": "code",
   "execution_count": 161,
   "id": "6a4bf8bc-63bf-43f8-a778-f41f1039aec8",
   "metadata": {},
   "outputs": [],
   "source": [
    "Rcross = cross_val_score(lre, laptop_pricing[['CPU_frequency']], y_data, cv=4)"
   ]
  },
  {
   "cell_type": "code",
   "execution_count": 162,
   "id": "c1c7ab71-63b6-4302-92cf-af8b1f2c2abb",
   "metadata": {},
   "outputs": [
    {
     "data": {
      "text/plain": [
       "array([-0.82012763,  0.10035872,  0.11202939, -0.03662978])"
      ]
     },
     "execution_count": 162,
     "metadata": {},
     "output_type": "execute_result"
    }
   ],
   "source": [
    "Rcross"
   ]
  },
  {
   "cell_type": "code",
   "execution_count": 163,
   "id": "9a9ea0e9-df4a-4c12-b247-5e00d2c51de2",
   "metadata": {},
   "outputs": [
    {
     "data": {
      "text/plain": [
       "0.3849579786664709"
      ]
     },
     "execution_count": 163,
     "metadata": {},
     "output_type": "execute_result"
    }
   ],
   "source": [
    "Rcross.std()"
   ]
  },
  {
   "cell_type": "code",
   "execution_count": 164,
   "id": "e5a93a3d-3456-4e84-8f10-6af921e6f3e9",
   "metadata": {},
   "outputs": [
    {
     "data": {
      "text/plain": [
       "-0.16109232388595093"
      ]
     },
     "execution_count": 164,
     "metadata": {},
     "output_type": "execute_result"
    }
   ],
   "source": [
    "Rcross.mean()"
   ]
  },
  {
   "cell_type": "markdown",
   "id": "6045c29b-b0ff-426f-8277-6b24146c1e2b",
   "metadata": {},
   "source": [
    "## Overfitting, underfitting, model refinement"
   ]
  },
  {
   "cell_type": "code",
   "execution_count": 331,
   "id": "d6fac995-0790-457c-9203-f320963895ab",
   "metadata": {},
   "outputs": [],
   "source": [
    "(x_train, x_test, y_train, y_test) = train_test_split(x_data, y_data, test_size = 0.5, random_state = 1)"
   ]
  },
  {
   "cell_type": "code",
   "execution_count": 333,
   "id": "1f6aa3c2-c6e2-4911-923e-81a3c2e750f9",
   "metadata": {},
   "outputs": [
    {
     "data": {
      "text/plain": [
       "[0.028619411720164023,\n",
       " 0.14520883323305067,\n",
       " 0.15681605330238457,\n",
       " 0.12721267717781926,\n",
       " 0.03547064602798655]"
      ]
     },
     "execution_count": 333,
     "metadata": {},
     "output_type": "execute_result"
    }
   ],
   "source": [
    "lre1 = LinearRegression()\n",
    "rsquared = []\n",
    "degree = [1,2,3,4,5]\n",
    "for n in degree:\n",
    "    poly1 = PolynomialFeatures(degree=n)\n",
    "    x_train_pr = poly1.fit_transform(x_train[[\"CPU_frequency\"]])\n",
    "    x_test_pr = poly1.fit_transform(x_test[[\"CPU_frequency\"]])\n",
    "    lre1.fit(x_train_pr, y_train)\n",
    "    lre1.predict(x_test_pr)\n",
    "    lre1.score(x_test_pr,y_test)\n",
    "    rsquared.append(lre1.score(x_test_pr,y_test))\n",
    "\n",
    "rsquared"
   ]
  },
  {
   "cell_type": "code",
   "execution_count": 335,
   "id": "516b3b04-92c0-4921-89af-abb4a6adc57f",
   "metadata": {},
   "outputs": [
    {
     "data": {
      "text/plain": [
       "Text(0, 0.5, 'rsquared')"
      ]
     },
     "execution_count": 335,
     "metadata": {},
     "output_type": "execute_result"
    },
    {
     "data": {
      "image/png": "[encoded data removed]",
      "text/plain": [
       "<Figure size 640x480 with 1 Axes>"
      ]
     },
     "metadata": {},
     "output_type": "display_data"
    }
   ],
   "source": [
    "plt.plot(degree, rsquared)\n",
    "plt.xlabel(\"degree\")\n",
    "plt.ylabel(\"rsquared\")"
   ]
  },
  {
   "cell_type": "markdown",
   "id": "b8a03b23-7a52-4ec7-98ca-f9877132602e",
   "metadata": {},
   "source": [
    "## Ridge Regression"
   ]
  },
  {
   "cell_type": "code",
   "execution_count": 338,
   "id": "a638023e-a0cd-425b-8ba2-784ea93b808d",
   "metadata": {},
   "outputs": [],
   "source": [
    "pr=PolynomialFeatures(degree=2)\n",
    "x_train_pr=pr.fit_transform(x_train[['CPU_frequency', 'RAM_GB', 'Storage_GB_SSD', 'CPU_core', 'OS', 'GPU', 'Category']])\n",
    "x_test_pr=pr.fit_transform(x_test[['CPU_frequency', 'RAM_GB', 'Storage_GB_SSD', 'CPU_core', 'OS', 'GPU', 'Category']])"
   ]
  },
  {
   "cell_type": "code",
   "execution_count": 340,
   "id": "69c98cc2-3afa-4d38-9123-51997b22f099",
   "metadata": {},
   "outputs": [
    {
     "name": "stderr",
     "output_type": "stream",
     "text": [
      "100%|███| 999/999 [00:03<00:00, 264.39it/s, Test Score=0.473, Train Score=0.649]\n"
     ]
    }
   ],
   "source": [
    "Rsqu_test = []\n",
    "Rsqu_train = []\n",
    "Alpha = np.arange(0.001,1,0.001)\n",
    "pbar = tqdm(Alpha)\n",
    "\n",
    "for alpha in pbar:\n",
    "    RidgeModel = Ridge(alpha=alpha) \n",
    "    RidgeModel.fit(x_train_pr, y_train)\n",
    "    test_score, train_score = RidgeModel.score(x_test_pr, y_test), RidgeModel.score(x_train_pr, y_train)\n",
    "    pbar.set_postfix({\"Test Score\": test_score, \"Train Score\": train_score})\n",
    "    Rsqu_test.append(test_score)\n",
    "    Rsqu_train.append(train_score)"
   ]
  },
  {
   "cell_type": "code",
   "execution_count": 342,
   "id": "4ea3057f-14e1-4842-8861-26b2a08fca8b",
   "metadata": {},
   "outputs": [
    {
     "data": {
      "text/plain": [
       "<matplotlib.legend.Legend at 0x13e00e810>"
      ]
     },
     "execution_count": 342,
     "metadata": {},
     "output_type": "execute_result"
    },
    {
     "data": {
      "image/png": "[encoded data removed]",
      "text/plain": [
       "<Figure size 1000x600 with 1 Axes>"
      ]
     },
     "metadata": {},
     "output_type": "display_data"
    }
   ],
   "source": [
    "plt.figure(figsize=(10, 6))  \n",
    "plt.plot(Alpha, Rsqu_test, label='validation data')\n",
    "plt.plot(Alpha, Rsqu_train, 'r', label='training Data')\n",
    "plt.xlabel('alpha')\n",
    "plt.ylabel('R^2')\n",
    "plt.ylim(0, 1)\n",
    "plt.legend()"
   ]
  },
  {
   "cell_type": "markdown",
   "id": "95082c0c-7344-4a91-b7b8-59ff7a2843f4",
   "metadata": {},
   "source": [
    "## Grid Search"
   ]
  },
  {
   "cell_type": "code",
   "execution_count": 344,
   "id": "f20cfc33-4385-4f09-9252-39aa9d10746e",
   "metadata": {},
   "outputs": [],
   "source": [
    "parameters1= [{'alpha': [0.0001,0.001,0.01, 0.1, 1, 10]}]"
   ]
  },
  {
   "cell_type": "code",
   "execution_count": 346,
   "id": "badc61ef-6c1f-47c9-b770-1a2f73436cd1",
   "metadata": {},
   "outputs": [],
   "source": [
    "RR = Ridge()"
   ]
  },
  {
   "cell_type": "code",
   "execution_count": 348,
   "id": "7414e9a4-04e2-48bc-b0ba-84a82281d667",
   "metadata": {},
   "outputs": [
    {
     "data": {
      "text/html": [
       "<style>#sk-container-id-8 {color: black;background-color: white;}#sk-container-id-8 pre{padding: 0;}#sk-container-id-8 div.sk-toggleable {background-color: white;}#sk-container-id-8 label.sk-toggleable__label {cursor: pointer;display: block;width: 100%;margin-bottom: 0;padding: 0.3em;box-sizing: border-box;text-align: center;}#sk-container-id-8 label.sk-toggleable__label-arrow:before {content: \"▸\";float: left;margin-right: 0.25em;color: #696969;}#sk-container-id-8 label.sk-toggleable__label-arrow:hover:before {color: black;}#sk-container-id-8 div.sk-estimator:hover label.sk-toggleable__label-arrow:before {color: black;}#sk-container-id-8 div.sk-toggleable__content {max-height: 0;max-width: 0;overflow: hidden;text-align: left;background-color: #f0f8ff;}#sk-container-id-8 div.sk-toggleable__content pre {margin: 0.2em;color: black;border-radius: 0.25em;background-color: #f0f8ff;}#sk-container-id-8 input.sk-toggleable__control:checked~div.sk-toggleable__content {max-height: 200px;max-width: 100%;overflow: auto;}#sk-container-id-8 input.sk-toggleable__control:checked~label.sk-toggleable__label-arrow:before {content: \"▾\";}#sk-container-id-8 div.sk-estimator input.sk-toggleable__control:checked~label.sk-toggleable__label {background-color: #d4ebff;}#sk-container-id-8 div.sk-label input.sk-toggleable__control:checked~label.sk-toggleable__label {background-color: #d4ebff;}#sk-container-id-8 input.sk-hidden--visually {border: 0;clip: rect(1px 1px 1px 1px);clip: rect(1px, 1px, 1px, 1px);height: 1px;margin: -1px;overflow: hidden;padding: 0;position: absolute;width: 1px;}#sk-container-id-8 div.sk-estimator {font-family: monospace;background-color: #f0f8ff;border: 1px dotted black;border-radius: 0.25em;box-sizing: border-box;margin-bottom: 0.5em;}#sk-container-id-8 div.sk-estimator:hover {background-color: #d4ebff;}#sk-container-id-8 div.sk-parallel-item::after {content: \"\";width: 100%;border-bottom: 1px solid gray;flex-grow: 1;}#sk-container-id-8 div.sk-label:hover label.sk-toggleable__label {background-color: #d4ebff;}#sk-container-id-8 div.sk-serial::before {content: \"\";position: absolute;border-left: 1px solid gray;box-sizing: border-box;top: 0;bottom: 0;left: 50%;z-index: 0;}#sk-container-id-8 div.sk-serial {display: flex;flex-direction: column;align-items: center;background-color: white;padding-right: 0.2em;padding-left: 0.2em;position: relative;}#sk-container-id-8 div.sk-item {position: relative;z-index: 1;}#sk-container-id-8 div.sk-parallel {display: flex;align-items: stretch;justify-content: center;background-color: white;position: relative;}#sk-container-id-8 div.sk-item::before, #sk-container-id-8 div.sk-parallel-item::before {content: \"\";position: absolute;border-left: 1px solid gray;box-sizing: border-box;top: 0;bottom: 0;left: 50%;z-index: -1;}#sk-container-id-8 div.sk-parallel-item {display: flex;flex-direction: column;z-index: 1;position: relative;background-color: white;}#sk-container-id-8 div.sk-parallel-item:first-child::after {align-self: flex-end;width: 50%;}#sk-container-id-8 div.sk-parallel-item:last-child::after {align-self: flex-start;width: 50%;}#sk-container-id-8 div.sk-parallel-item:only-child::after {width: 0;}#sk-container-id-8 div.sk-dashed-wrapped {border: 1px dashed gray;margin: 0 0.4em 0.5em 0.4em;box-sizing: border-box;padding-bottom: 0.4em;background-color: white;}#sk-container-id-8 div.sk-label label {font-family: monospace;font-weight: bold;display: inline-block;line-height: 1.2em;}#sk-container-id-8 div.sk-label-container {text-align: center;}#sk-container-id-8 div.sk-container {/* jupyter's `normalize.less` sets `[hidden] { display: none; }` but bootstrap.min.css set `[hidden] { display: none !important; }` so we also need the `!important` here to be able to override the default hidden behavior on the sphinx rendered scikit-learn.org. See: https://github.com/scikit-learn/scikit-learn/issues/21755 */display: inline-block !important;position: relative;}#sk-container-id-8 div.sk-text-repr-fallback {display: none;}</style><div id=\"sk-container-id-8\" class=\"sk-top-container\"><div class=\"sk-text-repr-fallback\"><pre>GridSearchCV(cv=4, estimator=Ridge(),\n",
       "             param_grid=[{&#x27;alpha&#x27;: [0.0001, 0.001, 0.01, 0.1, 1, 10]}])</pre><b>In a Jupyter environment, please rerun this cell to show the HTML representation or trust the notebook. <br />On GitHub, the HTML representation is unable to render, please try loading this page with nbviewer.org.</b></div><div class=\"sk-container\" hidden><div class=\"sk-item sk-dashed-wrapped\"><div class=\"sk-label-container\"><div class=\"sk-label sk-toggleable\"><input class=\"sk-toggleable__control sk-hidden--visually\" id=\"sk-estimator-id-18\" type=\"checkbox\" ><label for=\"sk-estimator-id-18\" class=\"sk-toggleable__label sk-toggleable__label-arrow\">GridSearchCV</label><div class=\"sk-toggleable__content\"><pre>GridSearchCV(cv=4, estimator=Ridge(),\n",
       "             param_grid=[{&#x27;alpha&#x27;: [0.0001, 0.001, 0.01, 0.1, 1, 10]}])</pre></div></div></div><div class=\"sk-parallel\"><div class=\"sk-parallel-item\"><div class=\"sk-item\"><div class=\"sk-label-container\"><div class=\"sk-label sk-toggleable\"><input class=\"sk-toggleable__control sk-hidden--visually\" id=\"sk-estimator-id-19\" type=\"checkbox\" ><label for=\"sk-estimator-id-19\" class=\"sk-toggleable__label sk-toggleable__label-arrow\">estimator: Ridge</label><div class=\"sk-toggleable__content\"><pre>Ridge()</pre></div></div></div><div class=\"sk-serial\"><div class=\"sk-item\"><div class=\"sk-estimator sk-toggleable\"><input class=\"sk-toggleable__control sk-hidden--visually\" id=\"sk-estimator-id-20\" type=\"checkbox\" ><label for=\"sk-estimator-id-20\" class=\"sk-toggleable__label sk-toggleable__label-arrow\">Ridge</label><div class=\"sk-toggleable__content\"><pre>Ridge()</pre></div></div></div></div></div></div></div></div></div></div>"
      ],
      "text/plain": [
       "GridSearchCV(cv=4, estimator=Ridge(),\n",
       "             param_grid=[{'alpha': [0.0001, 0.001, 0.01, 0.1, 1, 10]}])"
      ]
     },
     "execution_count": 348,
     "metadata": {},
     "output_type": "execute_result"
    }
   ],
   "source": [
    "grid1 = GridSearchCV(RR,  parameters1, cv= 4)\n",
    "grid1.fit(x_train_pr,y_train)"
   ]
  },
  {
   "cell_type": "code",
   "execution_count": 350,
   "id": "39008264-97e5-411b-bc4d-17c5872bc77a",
   "metadata": {},
   "outputs": [
    {
     "data": {
      "text/html": [
       "<style>#sk-container-id-9 {color: black;background-color: white;}#sk-container-id-9 pre{padding: 0;}#sk-container-id-9 div.sk-toggleable {background-color: white;}#sk-container-id-9 label.sk-toggleable__label {cursor: pointer;display: block;width: 100%;margin-bottom: 0;padding: 0.3em;box-sizing: border-box;text-align: center;}#sk-container-id-9 label.sk-toggleable__label-arrow:before {content: \"▸\";float: left;margin-right: 0.25em;color: #696969;}#sk-container-id-9 label.sk-toggleable__label-arrow:hover:before {color: black;}#sk-container-id-9 div.sk-estimator:hover label.sk-toggleable__label-arrow:before {color: black;}#sk-container-id-9 div.sk-toggleable__content {max-height: 0;max-width: 0;overflow: hidden;text-align: left;background-color: #f0f8ff;}#sk-container-id-9 div.sk-toggleable__content pre {margin: 0.2em;color: black;border-radius: 0.25em;background-color: #f0f8ff;}#sk-container-id-9 input.sk-toggleable__control:checked~div.sk-toggleable__content {max-height: 200px;max-width: 100%;overflow: auto;}#sk-container-id-9 input.sk-toggleable__control:checked~label.sk-toggleable__label-arrow:before {content: \"▾\";}#sk-container-id-9 div.sk-estimator input.sk-toggleable__control:checked~label.sk-toggleable__label {background-color: #d4ebff;}#sk-container-id-9 div.sk-label input.sk-toggleable__control:checked~label.sk-toggleable__label {background-color: #d4ebff;}#sk-container-id-9 input.sk-hidden--visually {border: 0;clip: rect(1px 1px 1px 1px);clip: rect(1px, 1px, 1px, 1px);height: 1px;margin: -1px;overflow: hidden;padding: 0;position: absolute;width: 1px;}#sk-container-id-9 div.sk-estimator {font-family: monospace;background-color: #f0f8ff;border: 1px dotted black;border-radius: 0.25em;box-sizing: border-box;margin-bottom: 0.5em;}#sk-container-id-9 div.sk-estimator:hover {background-color: #d4ebff;}#sk-container-id-9 div.sk-parallel-item::after {content: \"\";width: 100%;border-bottom: 1px solid gray;flex-grow: 1;}#sk-container-id-9 div.sk-label:hover label.sk-toggleable__label {background-color: #d4ebff;}#sk-container-id-9 div.sk-serial::before {content: \"\";position: absolute;border-left: 1px solid gray;box-sizing: border-box;top: 0;bottom: 0;left: 50%;z-index: 0;}#sk-container-id-9 div.sk-serial {display: flex;flex-direction: column;align-items: center;background-color: white;padding-right: 0.2em;padding-left: 0.2em;position: relative;}#sk-container-id-9 div.sk-item {position: relative;z-index: 1;}#sk-container-id-9 div.sk-parallel {display: flex;align-items: stretch;justify-content: center;background-color: white;position: relative;}#sk-container-id-9 div.sk-item::before, #sk-container-id-9 div.sk-parallel-item::before {content: \"\";position: absolute;border-left: 1px solid gray;box-sizing: border-box;top: 0;bottom: 0;left: 50%;z-index: -1;}#sk-container-id-9 div.sk-parallel-item {display: flex;flex-direction: column;z-index: 1;position: relative;background-color: white;}#sk-container-id-9 div.sk-parallel-item:first-child::after {align-self: flex-end;width: 50%;}#sk-container-id-9 div.sk-parallel-item:last-child::after {align-self: flex-start;width: 50%;}#sk-container-id-9 div.sk-parallel-item:only-child::after {width: 0;}#sk-container-id-9 div.sk-dashed-wrapped {border: 1px dashed gray;margin: 0 0.4em 0.5em 0.4em;box-sizing: border-box;padding-bottom: 0.4em;background-color: white;}#sk-container-id-9 div.sk-label label {font-family: monospace;font-weight: bold;display: inline-block;line-height: 1.2em;}#sk-container-id-9 div.sk-label-container {text-align: center;}#sk-container-id-9 div.sk-container {/* jupyter's `normalize.less` sets `[hidden] { display: none; }` but bootstrap.min.css set `[hidden] { display: none !important; }` so we also need the `!important` here to be able to override the default hidden behavior on the sphinx rendered scikit-learn.org. See: https://github.com/scikit-learn/scikit-learn/issues/21755 */display: inline-block !important;position: relative;}#sk-container-id-9 div.sk-text-repr-fallback {display: none;}</style><div id=\"sk-container-id-9\" class=\"sk-top-container\"><div class=\"sk-text-repr-fallback\"><pre>GridSearchCV(cv=4, estimator=Ridge(),\n",
       "             param_grid=[{&#x27;alpha&#x27;: [0.0001, 0.001, 0.01, 0.1, 1, 10]}])</pre><b>In a Jupyter environment, please rerun this cell to show the HTML representation or trust the notebook. <br />On GitHub, the HTML representation is unable to render, please try loading this page with nbviewer.org.</b></div><div class=\"sk-container\" hidden><div class=\"sk-item sk-dashed-wrapped\"><div class=\"sk-label-container\"><div class=\"sk-label sk-toggleable\"><input class=\"sk-toggleable__control sk-hidden--visually\" id=\"sk-estimator-id-21\" type=\"checkbox\" ><label for=\"sk-estimator-id-21\" class=\"sk-toggleable__label sk-toggleable__label-arrow\">GridSearchCV</label><div class=\"sk-toggleable__content\"><pre>GridSearchCV(cv=4, estimator=Ridge(),\n",
       "             param_grid=[{&#x27;alpha&#x27;: [0.0001, 0.001, 0.01, 0.1, 1, 10]}])</pre></div></div></div><div class=\"sk-parallel\"><div class=\"sk-parallel-item\"><div class=\"sk-item\"><div class=\"sk-label-container\"><div class=\"sk-label sk-toggleable\"><input class=\"sk-toggleable__control sk-hidden--visually\" id=\"sk-estimator-id-22\" type=\"checkbox\" ><label for=\"sk-estimator-id-22\" class=\"sk-toggleable__label sk-toggleable__label-arrow\">estimator: Ridge</label><div class=\"sk-toggleable__content\"><pre>Ridge()</pre></div></div></div><div class=\"sk-serial\"><div class=\"sk-item\"><div class=\"sk-estimator sk-toggleable\"><input class=\"sk-toggleable__control sk-hidden--visually\" id=\"sk-estimator-id-23\" type=\"checkbox\" ><label for=\"sk-estimator-id-23\" class=\"sk-toggleable__label sk-toggleable__label-arrow\">Ridge</label><div class=\"sk-toggleable__content\"><pre>Ridge()</pre></div></div></div></div></div></div></div></div></div></div>"
      ],
      "text/plain": [
       "GridSearchCV(cv=4, estimator=Ridge(),\n",
       "             param_grid=[{'alpha': [0.0001, 0.001, 0.01, 0.1, 1, 10]}])"
      ]
     },
     "execution_count": 350,
     "metadata": {},
     "output_type": "execute_result"
    }
   ],
   "source": [
    "grid1.fit(x_train[['CPU_frequency', 'RAM_GB', 'Storage_GB_SSD', 'CPU_core', 'OS', 'GPU', 'Category']], y_train)"
   ]
  },
  {
   "cell_type": "code",
   "execution_count": 352,
   "id": "f6998559-6e5d-4122-a56d-4ba88ffcb0b7",
   "metadata": {},
   "outputs": [],
   "source": [
    "BestRR=grid1.best_estimator_"
   ]
  },
  {
   "cell_type": "code",
   "execution_count": 354,
   "id": "bd2e012f-afac-494b-9174-a214ef6c7144",
   "metadata": {},
   "outputs": [
    {
     "data": {
      "text/html": [
       "<style>#sk-container-id-10 {color: black;background-color: white;}#sk-container-id-10 pre{padding: 0;}#sk-container-id-10 div.sk-toggleable {background-color: white;}#sk-container-id-10 label.sk-toggleable__label {cursor: pointer;display: block;width: 100%;margin-bottom: 0;padding: 0.3em;box-sizing: border-box;text-align: center;}#sk-container-id-10 label.sk-toggleable__label-arrow:before {content: \"▸\";float: left;margin-right: 0.25em;color: #696969;}#sk-container-id-10 label.sk-toggleable__label-arrow:hover:before {color: black;}#sk-container-id-10 div.sk-estimator:hover label.sk-toggleable__label-arrow:before {color: black;}#sk-container-id-10 div.sk-toggleable__content {max-height: 0;max-width: 0;overflow: hidden;text-align: left;background-color: #f0f8ff;}#sk-container-id-10 div.sk-toggleable__content pre {margin: 0.2em;color: black;border-radius: 0.25em;background-color: #f0f8ff;}#sk-container-id-10 input.sk-toggleable__control:checked~div.sk-toggleable__content {max-height: 200px;max-width: 100%;overflow: auto;}#sk-container-id-10 input.sk-toggleable__control:checked~label.sk-toggleable__label-arrow:before {content: \"▾\";}#sk-container-id-10 div.sk-estimator input.sk-toggleable__control:checked~label.sk-toggleable__label {background-color: #d4ebff;}#sk-container-id-10 div.sk-label input.sk-toggleable__control:checked~label.sk-toggleable__label {background-color: #d4ebff;}#sk-container-id-10 input.sk-hidden--visually {border: 0;clip: rect(1px 1px 1px 1px);clip: rect(1px, 1px, 1px, 1px);height: 1px;margin: -1px;overflow: hidden;padding: 0;position: absolute;width: 1px;}#sk-container-id-10 div.sk-estimator {font-family: monospace;background-color: #f0f8ff;border: 1px dotted black;border-radius: 0.25em;box-sizing: border-box;margin-bottom: 0.5em;}#sk-container-id-10 div.sk-estimator:hover {background-color: #d4ebff;}#sk-container-id-10 div.sk-parallel-item::after {content: \"\";width: 100%;border-bottom: 1px solid gray;flex-grow: 1;}#sk-container-id-10 div.sk-label:hover label.sk-toggleable__label {background-color: #d4ebff;}#sk-container-id-10 div.sk-serial::before {content: \"\";position: absolute;border-left: 1px solid gray;box-sizing: border-box;top: 0;bottom: 0;left: 50%;z-index: 0;}#sk-container-id-10 div.sk-serial {display: flex;flex-direction: column;align-items: center;background-color: white;padding-right: 0.2em;padding-left: 0.2em;position: relative;}#sk-container-id-10 div.sk-item {position: relative;z-index: 1;}#sk-container-id-10 div.sk-parallel {display: flex;align-items: stretch;justify-content: center;background-color: white;position: relative;}#sk-container-id-10 div.sk-item::before, #sk-container-id-10 div.sk-parallel-item::before {content: \"\";position: absolute;border-left: 1px solid gray;box-sizing: border-box;top: 0;bottom: 0;left: 50%;z-index: -1;}#sk-container-id-10 div.sk-parallel-item {display: flex;flex-direction: column;z-index: 1;position: relative;background-color: white;}#sk-container-id-10 div.sk-parallel-item:first-child::after {align-self: flex-end;width: 50%;}#sk-container-id-10 div.sk-parallel-item:last-child::after {align-self: flex-start;width: 50%;}#sk-container-id-10 div.sk-parallel-item:only-child::after {width: 0;}#sk-container-id-10 div.sk-dashed-wrapped {border: 1px dashed gray;margin: 0 0.4em 0.5em 0.4em;box-sizing: border-box;padding-bottom: 0.4em;background-color: white;}#sk-container-id-10 div.sk-label label {font-family: monospace;font-weight: bold;display: inline-block;line-height: 1.2em;}#sk-container-id-10 div.sk-label-container {text-align: center;}#sk-container-id-10 div.sk-container {/* jupyter's `normalize.less` sets `[hidden] { display: none; }` but bootstrap.min.css set `[hidden] { display: none !important; }` so we also need the `!important` here to be able to override the default hidden behavior on the sphinx rendered scikit-learn.org. See: https://github.com/scikit-learn/scikit-learn/issues/21755 */display: inline-block !important;position: relative;}#sk-container-id-10 div.sk-text-repr-fallback {display: none;}</style><div id=\"sk-container-id-10\" class=\"sk-top-container\"><div class=\"sk-text-repr-fallback\"><pre>Ridge(alpha=1)</pre><b>In a Jupyter environment, please rerun this cell to show the HTML representation or trust the notebook. <br />On GitHub, the HTML representation is unable to render, please try loading this page with nbviewer.org.</b></div><div class=\"sk-container\" hidden><div class=\"sk-item\"><div class=\"sk-estimator sk-toggleable\"><input class=\"sk-toggleable__control sk-hidden--visually\" id=\"sk-estimator-id-24\" type=\"checkbox\" checked><label for=\"sk-estimator-id-24\" class=\"sk-toggleable__label sk-toggleable__label-arrow\">Ridge</label><div class=\"sk-toggleable__content\"><pre>Ridge(alpha=1)</pre></div></div></div></div></div>"
      ],
      "text/plain": [
       "Ridge(alpha=1)"
      ]
     },
     "execution_count": 354,
     "metadata": {},
     "output_type": "execute_result"
    }
   ],
   "source": [
    "BestRR"
   ]
  },
  {
   "cell_type": "code",
   "execution_count": null,
   "id": "6a89fb2b-024f-461a-8dfb-345a97982d40",
   "metadata": {},
   "outputs": [],
   "source": []
  }
 ],
 "metadata": {
  "kernelspec": {
   "display_name": "Python 3 (ipykernel)",
   "language": "python",
   "name": "python3"
  },
  "language_info": {
   "codemirror_mode": {
    "name": "ipython",
    "version": 3
   },
   "file_extension": ".py",
   "mimetype": "text/x-python",
   "name": "python",
   "nbconvert_exporter": "python",
   "pygments_lexer": "ipython3",
   "version": "3.11.7"
  }
 },
 "nbformat": 4,
 "nbformat_minor": 5
}
